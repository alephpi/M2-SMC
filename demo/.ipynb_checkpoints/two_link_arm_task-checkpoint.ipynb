{
 "cells": [
  {
   "cell_type": "code",
   "execution_count": 1,
   "metadata": {
    "id": "NqbO7nR95Pet"
   },
   "outputs": [],
   "source": [
    "# import particles \n",
    "import numpy as np\n",
    "import matplotlib.pyplot as plt\n",
    "\n",
    "from tensorflow.keras import Model\n",
    "from tensorflow.keras.layers import Dense, Activation, Dropout, Input\n",
    "import tensorflow as tf\n",
    "from sklearn.model_selection import train_test_split"
   ]
  },
  {
   "cell_type": "code",
   "execution_count": 2,
   "metadata": {
    "id": "LfVBmcZZ5Pez"
   },
   "outputs": [],
   "source": [
    "# def next_angle(q, u):\n",
    "#     # q_init: array (2,) containing the inital angles\n",
    "#     # u:      array (2,) containing the change rate\n",
    "#     return q + u\n",
    "\n",
    "def current_position(q, l):\n",
    "    # q: array (2,) containing the two angles\n",
    "    # l: array (2,) containing the limb lengths \n",
    "    x = l[0] * np.cos(q[0]) + l[1] * np.cos(q[0] + q[1]) #included the 2 dimensions\n",
    "    y = l[0] * np.sin(q[0]) + l[1] * np.sin(q[0] + q[1])\n",
    "    return np.array([x, y])"
   ]
  },
  {
   "cell_type": "markdown",
   "metadata": {
    "id": "iiTA-Cwr5Pey"
   },
   "source": [
    "# Data Simulation (comprehension 1)"
   ]
  },
  {
   "cell_type": "code",
   "execution_count": 3,
   "metadata": {
    "id": "2yQdn94R5Pe0"
   },
   "outputs": [],
   "source": [
    "n_tasks = 1000\n",
    "n_episode = 150\n",
    "n_timesteps = 10 #motor babbling time\n",
    "dof = 2\n",
    "\n",
    "angles = list()\n",
    "positions = list()\n",
    "# generate limb length for each task\n",
    "#lens = np.random.normal(loc=1, scale=np.sqrt(0.3), size=n_tasks)\n",
    "lens = np.random.normal(loc=1, scale=np.sqrt(0.3), size=(n_tasks, 2)) \n",
    "# for each task, generate {n_episode} episodes, each contains {n_timesteps} timesteps\n",
    "for i in range(n_tasks):\n",
    "  limb_length = lens[i]\n",
    "  q = np.random.uniform(low= -np.pi, high= np.pi, size=dof)# observation, the angle, uniform [-pi, pi]\n",
    "  u = np.random.randn(2,n_episode // n_timesteps) # action, the change rate of angles #A change happens every n_timesteps in the course of n_episode steps. There are then n_episode//n_timesteps changes in total\n",
    "  for i in range(n_episode):\n",
    "    #position = current_position(q, limb_length) # Should we store the initial position as well?, or keep it like this and \n",
    "    #positions.append(position)\n",
    "    angles.append(q)   \n",
    "    q += u[:, i//n_timesteps] #As soon as i hits a multiple of n_timesteps, the next motor babbling value is used\n",
    "    position = current_position(q, limb_length)\n",
    "    positions.append(position)\n",
    "\n",
    "angles = np.stack(angles, axis=0)\n",
    "positions = np.stack(positions, axis=0)\n",
    "\n",
    "assert angles.shape == positions.shape # their shape should be both (n_tasks*n_episode*n_timesteps, 2)"
   ]
  },
  {
   "cell_type": "code",
   "execution_count": 4,
   "metadata": {
    "colab": {
     "base_uri": "https://localhost:8080/"
    },
    "id": "9q9-Jzo8GjrB",
    "outputId": "bf0938ce-478e-4448-a019-bd13e9b4ebc0"
   },
   "outputs": [
    {
     "data": {
      "text/plain": [
       "((150000, 2), (150000, 2))"
      ]
     },
     "execution_count": 4,
     "metadata": {},
     "output_type": "execute_result"
    }
   ],
   "source": [
    "positions.shape, angles.shape"
   ]
  },
  {
   "cell_type": "markdown",
   "metadata": {
    "id": "QftmyIHz5Pe4"
   },
   "source": [
    "# Split data"
   ]
  },
  {
   "cell_type": "code",
   "execution_count": 5,
   "metadata": {
    "id": "8Tyhaf115Pe4"
   },
   "outputs": [],
   "source": [
    "x_train, x_test, y_train, y_test = train_test_split(angles, positions, test_size=0.1, random_state=666)"
   ]
  },
  {
   "cell_type": "markdown",
   "metadata": {
    "id": "NBsaumo-5Pe5"
   },
   "source": [
    "# Build model"
   ]
  },
  {
   "cell_type": "code",
   "execution_count": 20,
   "metadata": {
    "id": "hE6X87X_5Pe5"
   },
   "outputs": [],
   "source": [
    "input_length = 2\n",
    "latent_dim = 512\n",
    "output_length = 2\n",
    "\n",
    "inputs = Input(shape=(input_length,))\n",
    "x = Dense(units=latent_dim, activation='relu')(inputs)\n",
    "# x = Dropout(rate=0.5)(x)\n",
    "x = Dense(units=latent_dim, activation='relu')(x)\n",
    "x = Dropout(rate=0.5)(x)\n",
    "outputs = Dense(units=output_length)(x)\n",
    "model = Model(inputs=inputs, outputs=outputs, name=\"Two-Link-Arm\") # no space in the name!"
   ]
  },
  {
   "cell_type": "code",
   "execution_count": 21,
   "metadata": {
    "colab": {
     "base_uri": "https://localhost:8080/"
    },
    "id": "_LE4jGJ55Pe6",
    "outputId": "a902d9ce-cb3d-4965-aeea-2254927de0e3"
   },
   "outputs": [
    {
     "name": "stdout",
     "output_type": "stream",
     "text": [
      "Model: \"Two-Link-Arm\"\n",
      "_________________________________________________________________\n",
      " Layer (type)                Output Shape              Param #   \n",
      "=================================================================\n",
      " input_5 (InputLayer)        [(None, 2)]               0         \n",
      "                                                                 \n",
      " dense_11 (Dense)            (None, 512)               1536      \n",
      "                                                                 \n",
      " dense_12 (Dense)            (None, 512)               262656    \n",
      "                                                                 \n",
      " dropout_5 (Dropout)         (None, 512)               0         \n",
      "                                                                 \n",
      " dense_13 (Dense)            (None, 2)                 1026      \n",
      "                                                                 \n",
      "=================================================================\n",
      "Total params: 265,218\n",
      "Trainable params: 265,218\n",
      "Non-trainable params: 0\n",
      "_________________________________________________________________\n"
     ]
    }
   ],
   "source": [
    "model.summary()"
   ]
  },
  {
   "cell_type": "code",
   "execution_count": 22,
   "metadata": {
    "colab": {
     "base_uri": "https://localhost:8080/"
    },
    "id": "Mx9a3u7N5Pe7",
    "outputId": "f6f3c0fa-00ad-47a8-f67c-90d75b5ea1f7"
   },
   "outputs": [
    {
     "name": "stdout",
     "output_type": "stream",
     "text": [
      "Epoch 1/100\n",
      "1055/1055 [==============================] - 4s 3ms/step - loss: 1.1757 - mean_absolute_error: 0.7905 - val_loss: 1.0962 - val_mean_absolute_error: 0.7586\n",
      "Epoch 2/100\n",
      "1055/1055 [==============================] - 3s 3ms/step - loss: 1.0427 - mean_absolute_error: 0.7465 - val_loss: 0.9596 - val_mean_absolute_error: 0.7156\n",
      "Epoch 3/100\n",
      "1055/1055 [==============================] - 3s 3ms/step - loss: 0.9223 - mean_absolute_error: 0.7059 - val_loss: 0.8602 - val_mean_absolute_error: 0.6762\n",
      "Epoch 4/100\n",
      "1055/1055 [==============================] - 3s 3ms/step - loss: 0.8319 - mean_absolute_error: 0.6687 - val_loss: 0.7624 - val_mean_absolute_error: 0.6256\n",
      "Epoch 5/100\n",
      "1055/1055 [==============================] - 3s 3ms/step - loss: 0.7652 - mean_absolute_error: 0.6395 - val_loss: 0.6932 - val_mean_absolute_error: 0.5905\n",
      "Epoch 6/100\n",
      "1055/1055 [==============================] - 3s 3ms/step - loss: 0.7191 - mean_absolute_error: 0.6167 - val_loss: 0.6484 - val_mean_absolute_error: 0.5643\n",
      "Epoch 7/100\n",
      "1055/1055 [==============================] - 3s 3ms/step - loss: 0.6858 - mean_absolute_error: 0.6002 - val_loss: 0.6168 - val_mean_absolute_error: 0.5460\n",
      "Epoch 8/100\n",
      "1055/1055 [==============================] - 4s 3ms/step - loss: 0.6592 - mean_absolute_error: 0.5867 - val_loss: 0.5896 - val_mean_absolute_error: 0.5307\n",
      "Epoch 9/100\n",
      "1055/1055 [==============================] - 4s 4ms/step - loss: 0.6355 - mean_absolute_error: 0.5745 - val_loss: 0.5721 - val_mean_absolute_error: 0.5203\n",
      "Epoch 10/100\n",
      "1055/1055 [==============================] - 4s 4ms/step - loss: 0.6158 - mean_absolute_error: 0.5639 - val_loss: 0.5533 - val_mean_absolute_error: 0.5091\n",
      "Epoch 11/100\n",
      "1055/1055 [==============================] - 4s 4ms/step - loss: 0.5982 - mean_absolute_error: 0.5549 - val_loss: 0.5381 - val_mean_absolute_error: 0.5033\n",
      "Epoch 12/100\n",
      "1055/1055 [==============================] - 3s 3ms/step - loss: 0.5805 - mean_absolute_error: 0.5454 - val_loss: 0.5235 - val_mean_absolute_error: 0.4984\n",
      "Epoch 13/100\n",
      "1055/1055 [==============================] - 3s 3ms/step - loss: 0.5649 - mean_absolute_error: 0.5371 - val_loss: 0.5061 - val_mean_absolute_error: 0.4839\n",
      "Epoch 14/100\n",
      "1055/1055 [==============================] - 3s 3ms/step - loss: 0.5513 - mean_absolute_error: 0.5291 - val_loss: 0.4955 - val_mean_absolute_error: 0.4777\n",
      "Epoch 15/100\n",
      "1055/1055 [==============================] - 3s 3ms/step - loss: 0.5386 - mean_absolute_error: 0.5218 - val_loss: 0.4815 - val_mean_absolute_error: 0.4736\n",
      "Epoch 16/100\n",
      "1055/1055 [==============================] - 3s 3ms/step - loss: 0.5265 - mean_absolute_error: 0.5147 - val_loss: 0.4727 - val_mean_absolute_error: 0.4649\n",
      "Epoch 17/100\n",
      "1055/1055 [==============================] - 3s 3ms/step - loss: 0.5155 - mean_absolute_error: 0.5083 - val_loss: 0.4607 - val_mean_absolute_error: 0.4587\n",
      "Epoch 18/100\n",
      "1055/1055 [==============================] - 3s 3ms/step - loss: 0.5070 - mean_absolute_error: 0.5029 - val_loss: 0.4586 - val_mean_absolute_error: 0.4613\n",
      "Epoch 19/100\n",
      "1055/1055 [==============================] - 3s 3ms/step - loss: 0.4979 - mean_absolute_error: 0.4975 - val_loss: 0.4448 - val_mean_absolute_error: 0.4500\n",
      "Epoch 20/100\n",
      "1055/1055 [==============================] - 3s 3ms/step - loss: 0.4899 - mean_absolute_error: 0.4927 - val_loss: 0.4382 - val_mean_absolute_error: 0.4459\n",
      "Epoch 21/100\n",
      "1055/1055 [==============================] - 3s 3ms/step - loss: 0.4826 - mean_absolute_error: 0.4885 - val_loss: 0.4328 - val_mean_absolute_error: 0.4428\n",
      "Epoch 22/100\n",
      "1055/1055 [==============================] - 3s 3ms/step - loss: 0.4753 - mean_absolute_error: 0.4839 - val_loss: 0.4263 - val_mean_absolute_error: 0.4400\n",
      "Epoch 23/100\n",
      "1055/1055 [==============================] - 4s 4ms/step - loss: 0.4674 - mean_absolute_error: 0.4794 - val_loss: 0.4217 - val_mean_absolute_error: 0.4344\n",
      "Epoch 24/100\n",
      "1055/1055 [==============================] - 3s 3ms/step - loss: 0.4633 - mean_absolute_error: 0.4762 - val_loss: 0.4143 - val_mean_absolute_error: 0.4305\n",
      "Epoch 25/100\n",
      "1055/1055 [==============================] - 3s 3ms/step - loss: 0.4560 - mean_absolute_error: 0.4723 - val_loss: 0.4127 - val_mean_absolute_error: 0.4284\n",
      "Epoch 26/100\n",
      "1055/1055 [==============================] - 3s 3ms/step - loss: 0.4516 - mean_absolute_error: 0.4696 - val_loss: 0.4036 - val_mean_absolute_error: 0.4233\n",
      "Epoch 27/100\n",
      "1055/1055 [==============================] - 3s 3ms/step - loss: 0.4473 - mean_absolute_error: 0.4669 - val_loss: 0.4023 - val_mean_absolute_error: 0.4237\n",
      "Epoch 28/100\n",
      "1055/1055 [==============================] - 3s 3ms/step - loss: 0.4422 - mean_absolute_error: 0.4635 - val_loss: 0.3962 - val_mean_absolute_error: 0.4202\n",
      "Epoch 29/100\n",
      "1055/1055 [==============================] - 3s 3ms/step - loss: 0.4385 - mean_absolute_error: 0.4620 - val_loss: 0.3973 - val_mean_absolute_error: 0.4211\n",
      "Epoch 30/100\n",
      "1055/1055 [==============================] - 3s 3ms/step - loss: 0.4343 - mean_absolute_error: 0.4589 - val_loss: 0.3886 - val_mean_absolute_error: 0.4150\n",
      "Epoch 31/100\n",
      "1055/1055 [==============================] - 3s 3ms/step - loss: 0.4320 - mean_absolute_error: 0.4573 - val_loss: 0.3852 - val_mean_absolute_error: 0.4124\n",
      "Epoch 32/100\n",
      "1055/1055 [==============================] - 3s 3ms/step - loss: 0.4288 - mean_absolute_error: 0.4554 - val_loss: 0.3828 - val_mean_absolute_error: 0.4108\n",
      "Epoch 33/100\n",
      "1055/1055 [==============================] - 3s 3ms/step - loss: 0.4255 - mean_absolute_error: 0.4528 - val_loss: 0.3813 - val_mean_absolute_error: 0.4128\n",
      "Epoch 34/100\n",
      "1055/1055 [==============================] - 3s 3ms/step - loss: 0.4232 - mean_absolute_error: 0.4516 - val_loss: 0.3784 - val_mean_absolute_error: 0.4107\n",
      "Epoch 35/100\n",
      "1055/1055 [==============================] - 3s 3ms/step - loss: 0.4211 - mean_absolute_error: 0.4508 - val_loss: 0.3767 - val_mean_absolute_error: 0.4089\n",
      "Epoch 36/100\n",
      "1055/1055 [==============================] - 3s 3ms/step - loss: 0.4185 - mean_absolute_error: 0.4489 - val_loss: 0.3802 - val_mean_absolute_error: 0.4135\n",
      "Epoch 37/100\n",
      "1055/1055 [==============================] - 4s 4ms/step - loss: 0.4163 - mean_absolute_error: 0.4476 - val_loss: 0.3735 - val_mean_absolute_error: 0.4042\n",
      "Epoch 38/100\n",
      "1055/1055 [==============================] - 3s 3ms/step - loss: 0.4153 - mean_absolute_error: 0.4466 - val_loss: 0.3679 - val_mean_absolute_error: 0.4039\n",
      "Epoch 39/100\n",
      "1055/1055 [==============================] - 3s 3ms/step - loss: 0.4119 - mean_absolute_error: 0.4448 - val_loss: 0.3687 - val_mean_absolute_error: 0.4057\n",
      "Epoch 40/100\n",
      "1055/1055 [==============================] - 3s 3ms/step - loss: 0.4105 - mean_absolute_error: 0.4432 - val_loss: 0.3687 - val_mean_absolute_error: 0.4036\n",
      "Epoch 41/100\n",
      "1055/1055 [==============================] - 3s 3ms/step - loss: 0.4089 - mean_absolute_error: 0.4425 - val_loss: 0.3644 - val_mean_absolute_error: 0.4002\n",
      "Epoch 42/100\n",
      "1055/1055 [==============================] - 3s 3ms/step - loss: 0.4067 - mean_absolute_error: 0.4412 - val_loss: 0.3650 - val_mean_absolute_error: 0.4010\n",
      "Epoch 43/100\n",
      "1055/1055 [==============================] - 3s 3ms/step - loss: 0.4051 - mean_absolute_error: 0.4400 - val_loss: 0.3618 - val_mean_absolute_error: 0.3979\n",
      "Epoch 44/100\n",
      "1055/1055 [==============================] - 3s 3ms/step - loss: 0.4047 - mean_absolute_error: 0.4400 - val_loss: 0.3673 - val_mean_absolute_error: 0.4015\n",
      "Epoch 45/100\n",
      "1055/1055 [==============================] - 4s 4ms/step - loss: 0.4032 - mean_absolute_error: 0.4384 - val_loss: 0.3614 - val_mean_absolute_error: 0.4006\n",
      "Epoch 46/100\n",
      "1055/1055 [==============================] - 3s 3ms/step - loss: 0.4002 - mean_absolute_error: 0.4374 - val_loss: 0.3583 - val_mean_absolute_error: 0.3974\n",
      "Epoch 47/100\n",
      "1055/1055 [==============================] - 3s 3ms/step - loss: 0.4006 - mean_absolute_error: 0.4368 - val_loss: 0.3585 - val_mean_absolute_error: 0.4003\n",
      "Epoch 48/100\n",
      "1055/1055 [==============================] - 3s 3ms/step - loss: 0.3983 - mean_absolute_error: 0.4358 - val_loss: 0.3608 - val_mean_absolute_error: 0.3977\n",
      "Epoch 49/100\n",
      "1055/1055 [==============================] - 3s 3ms/step - loss: 0.3967 - mean_absolute_error: 0.4347 - val_loss: 0.3555 - val_mean_absolute_error: 0.3947\n",
      "Epoch 50/100\n",
      "1055/1055 [==============================] - 4s 4ms/step - loss: 0.3956 - mean_absolute_error: 0.4343 - val_loss: 0.3549 - val_mean_absolute_error: 0.3949\n",
      "Epoch 51/100\n",
      "1055/1055 [==============================] - 3s 3ms/step - loss: 0.3947 - mean_absolute_error: 0.4333 - val_loss: 0.3552 - val_mean_absolute_error: 0.3953\n",
      "Epoch 52/100\n",
      "1055/1055 [==============================] - 3s 3ms/step - loss: 0.3928 - mean_absolute_error: 0.4322 - val_loss: 0.3528 - val_mean_absolute_error: 0.3937\n",
      "Epoch 53/100\n",
      "1055/1055 [==============================] - 3s 3ms/step - loss: 0.3916 - mean_absolute_error: 0.4312 - val_loss: 0.3527 - val_mean_absolute_error: 0.3964\n",
      "Epoch 54/100\n",
      "1055/1055 [==============================] - 3s 3ms/step - loss: 0.3910 - mean_absolute_error: 0.4307 - val_loss: 0.3487 - val_mean_absolute_error: 0.3901\n",
      "Epoch 55/100\n",
      "1055/1055 [==============================] - 3s 3ms/step - loss: 0.3903 - mean_absolute_error: 0.4301 - val_loss: 0.3478 - val_mean_absolute_error: 0.3924\n",
      "Epoch 56/100\n",
      "1055/1055 [==============================] - 3s 3ms/step - loss: 0.3895 - mean_absolute_error: 0.4300 - val_loss: 0.3522 - val_mean_absolute_error: 0.3950\n",
      "Epoch 57/100\n",
      "1055/1055 [==============================] - 3s 3ms/step - loss: 0.3871 - mean_absolute_error: 0.4284 - val_loss: 0.3460 - val_mean_absolute_error: 0.3899\n",
      "Epoch 58/100\n",
      "1055/1055 [==============================] - 3s 3ms/step - loss: 0.3873 - mean_absolute_error: 0.4282 - val_loss: 0.3462 - val_mean_absolute_error: 0.3926\n",
      "Epoch 59/100\n",
      "1055/1055 [==============================] - 3s 3ms/step - loss: 0.3847 - mean_absolute_error: 0.4267 - val_loss: 0.3441 - val_mean_absolute_error: 0.3860\n",
      "Epoch 60/100\n",
      "1055/1055 [==============================] - 3s 3ms/step - loss: 0.3849 - mean_absolute_error: 0.4265 - val_loss: 0.3436 - val_mean_absolute_error: 0.3887\n",
      "Epoch 61/100\n",
      "1055/1055 [==============================] - 3s 3ms/step - loss: 0.3833 - mean_absolute_error: 0.4255 - val_loss: 0.3447 - val_mean_absolute_error: 0.3883\n",
      "Epoch 62/100\n",
      "1055/1055 [==============================] - 3s 3ms/step - loss: 0.3845 - mean_absolute_error: 0.4267 - val_loss: 0.3418 - val_mean_absolute_error: 0.3853\n",
      "Epoch 63/100\n",
      "1055/1055 [==============================] - 4s 3ms/step - loss: 0.3825 - mean_absolute_error: 0.4252 - val_loss: 0.3504 - val_mean_absolute_error: 0.3954\n",
      "Epoch 64/100\n",
      "1055/1055 [==============================] - 4s 4ms/step - loss: 0.3820 - mean_absolute_error: 0.4248 - val_loss: 0.3371 - val_mean_absolute_error: 0.3841\n",
      "Epoch 65/100\n",
      "1055/1055 [==============================] - 3s 3ms/step - loss: 0.3821 - mean_absolute_error: 0.4245 - val_loss: 0.3424 - val_mean_absolute_error: 0.3903\n",
      "Epoch 66/100\n",
      "1055/1055 [==============================] - 3s 3ms/step - loss: 0.3808 - mean_absolute_error: 0.4234 - val_loss: 0.3408 - val_mean_absolute_error: 0.3869\n",
      "Epoch 67/100\n",
      "1055/1055 [==============================] - 3s 3ms/step - loss: 0.3791 - mean_absolute_error: 0.4230 - val_loss: 0.3373 - val_mean_absolute_error: 0.3846\n",
      "Epoch 68/100\n",
      "1055/1055 [==============================] - 3s 3ms/step - loss: 0.3795 - mean_absolute_error: 0.4226 - val_loss: 0.3382 - val_mean_absolute_error: 0.3847\n",
      "Epoch 69/100\n",
      "1055/1055 [==============================] - 3s 3ms/step - loss: 0.3785 - mean_absolute_error: 0.4221 - val_loss: 0.3379 - val_mean_absolute_error: 0.3859\n",
      "Epoch 70/100\n",
      "1055/1055 [==============================] - 3s 3ms/step - loss: 0.3773 - mean_absolute_error: 0.4215 - val_loss: 0.3418 - val_mean_absolute_error: 0.3855\n",
      "Epoch 71/100\n",
      "1055/1055 [==============================] - 3s 3ms/step - loss: 0.3769 - mean_absolute_error: 0.4213 - val_loss: 0.3371 - val_mean_absolute_error: 0.3844\n",
      "Epoch 72/100\n",
      "1055/1055 [==============================] - 3s 3ms/step - loss: 0.3759 - mean_absolute_error: 0.4203 - val_loss: 0.3359 - val_mean_absolute_error: 0.3832\n",
      "Epoch 73/100\n",
      "1055/1055 [==============================] - 3s 3ms/step - loss: 0.3750 - mean_absolute_error: 0.4199 - val_loss: 0.3353 - val_mean_absolute_error: 0.3816\n",
      "Epoch 74/100\n",
      "1055/1055 [==============================] - 3s 3ms/step - loss: 0.3755 - mean_absolute_error: 0.4202 - val_loss: 0.3367 - val_mean_absolute_error: 0.3842\n",
      "Epoch 75/100\n",
      "1055/1055 [==============================] - 4s 4ms/step - loss: 0.3752 - mean_absolute_error: 0.4198 - val_loss: 0.3340 - val_mean_absolute_error: 0.3826\n",
      "Epoch 76/100\n",
      "1055/1055 [==============================] - 3s 3ms/step - loss: 0.3741 - mean_absolute_error: 0.4187 - val_loss: 0.3356 - val_mean_absolute_error: 0.3844\n",
      "Epoch 77/100\n",
      "1055/1055 [==============================] - 4s 4ms/step - loss: 0.3734 - mean_absolute_error: 0.4187 - val_loss: 0.3336 - val_mean_absolute_error: 0.3804\n",
      "Epoch 78/100\n",
      "1055/1055 [==============================] - 3s 3ms/step - loss: 0.3721 - mean_absolute_error: 0.4178 - val_loss: 0.3346 - val_mean_absolute_error: 0.3814\n",
      "Epoch 79/100\n",
      "1055/1055 [==============================] - 3s 3ms/step - loss: 0.3722 - mean_absolute_error: 0.4181 - val_loss: 0.3337 - val_mean_absolute_error: 0.3807\n",
      "Epoch 80/100\n",
      "1055/1055 [==============================] - 3s 3ms/step - loss: 0.3726 - mean_absolute_error: 0.4179 - val_loss: 0.3284 - val_mean_absolute_error: 0.3775\n",
      "Epoch 81/100\n",
      "1055/1055 [==============================] - 3s 3ms/step - loss: 0.3723 - mean_absolute_error: 0.4178 - val_loss: 0.3353 - val_mean_absolute_error: 0.3849\n",
      "Epoch 82/100\n",
      "1055/1055 [==============================] - 3s 3ms/step - loss: 0.3712 - mean_absolute_error: 0.4171 - val_loss: 0.3309 - val_mean_absolute_error: 0.3795\n",
      "Epoch 83/100\n",
      "1055/1055 [==============================] - 3s 3ms/step - loss: 0.3701 - mean_absolute_error: 0.4164 - val_loss: 0.3299 - val_mean_absolute_error: 0.3782\n",
      "Epoch 84/100\n",
      "1055/1055 [==============================] - 3s 3ms/step - loss: 0.3690 - mean_absolute_error: 0.4157 - val_loss: 0.3298 - val_mean_absolute_error: 0.3777\n",
      "Epoch 85/100\n",
      "1055/1055 [==============================] - 3s 3ms/step - loss: 0.3683 - mean_absolute_error: 0.4152 - val_loss: 0.3281 - val_mean_absolute_error: 0.3781\n",
      "Epoch 86/100\n",
      "1055/1055 [==============================] - 3s 3ms/step - loss: 0.3687 - mean_absolute_error: 0.4157 - val_loss: 0.3301 - val_mean_absolute_error: 0.3799\n",
      "Epoch 87/100\n",
      "1055/1055 [==============================] - 3s 3ms/step - loss: 0.3685 - mean_absolute_error: 0.4151 - val_loss: 0.3292 - val_mean_absolute_error: 0.3763\n",
      "Epoch 88/100\n",
      "1055/1055 [==============================] - 3s 3ms/step - loss: 0.3694 - mean_absolute_error: 0.4154 - val_loss: 0.3319 - val_mean_absolute_error: 0.3789\n",
      "Epoch 89/100\n",
      "1055/1055 [==============================] - 3s 3ms/step - loss: 0.3681 - mean_absolute_error: 0.4153 - val_loss: 0.3289 - val_mean_absolute_error: 0.3758\n",
      "Epoch 90/100\n",
      "1055/1055 [==============================] - 4s 3ms/step - loss: 0.3687 - mean_absolute_error: 0.4153 - val_loss: 0.3274 - val_mean_absolute_error: 0.3777\n",
      "Epoch 91/100\n",
      "1055/1055 [==============================] - 4s 4ms/step - loss: 0.3664 - mean_absolute_error: 0.4136 - val_loss: 0.3252 - val_mean_absolute_error: 0.3759\n",
      "Epoch 92/100\n",
      "1055/1055 [==============================] - 3s 3ms/step - loss: 0.3675 - mean_absolute_error: 0.4147 - val_loss: 0.3263 - val_mean_absolute_error: 0.3749\n",
      "Epoch 93/100\n",
      "1055/1055 [==============================] - 3s 3ms/step - loss: 0.3664 - mean_absolute_error: 0.4136 - val_loss: 0.3254 - val_mean_absolute_error: 0.3746\n",
      "Epoch 94/100\n",
      "1055/1055 [==============================] - 3s 3ms/step - loss: 0.3660 - mean_absolute_error: 0.4139 - val_loss: 0.3268 - val_mean_absolute_error: 0.3769\n",
      "Epoch 95/100\n",
      "1055/1055 [==============================] - 3s 3ms/step - loss: 0.3659 - mean_absolute_error: 0.4131 - val_loss: 0.3272 - val_mean_absolute_error: 0.3775\n",
      "Epoch 96/100\n",
      "1055/1055 [==============================] - 3s 3ms/step - loss: 0.3649 - mean_absolute_error: 0.4131 - val_loss: 0.3252 - val_mean_absolute_error: 0.3758\n",
      "Epoch 97/100\n",
      "1055/1055 [==============================] - 3s 3ms/step - loss: 0.3653 - mean_absolute_error: 0.4127 - val_loss: 0.3249 - val_mean_absolute_error: 0.3747\n",
      "Epoch 98/100\n",
      "1055/1055 [==============================] - 3s 3ms/step - loss: 0.3654 - mean_absolute_error: 0.4128 - val_loss: 0.3244 - val_mean_absolute_error: 0.3766\n",
      "Epoch 99/100\n",
      "1055/1055 [==============================] - 3s 3ms/step - loss: 0.3645 - mean_absolute_error: 0.4123 - val_loss: 0.3292 - val_mean_absolute_error: 0.3793\n",
      "Epoch 100/100\n",
      "1055/1055 [==============================] - 3s 3ms/step - loss: 0.3642 - mean_absolute_error: 0.4124 - val_loss: 0.3246 - val_mean_absolute_error: 0.3749\n"
     ]
    },
    {
     "data": {
      "text/plain": [
       "<keras.callbacks.History at 0x7f0d87f70d60>"
      ]
     },
     "execution_count": 22,
     "metadata": {},
     "output_type": "execute_result"
    }
   ],
   "source": [
    "model.compile(optimizer=tf.keras.optimizers.Adam(learning_rate=1e-4),\n",
    "            loss=tf.keras.losses.MeanSquaredError(),\n",
    "            metrics=[tf.keras.losses.MeanAbsoluteError()])\n",
    "            \n",
    "model.fit(x_train, y_train, epochs=100, batch_size=128, validation_data=(x_test, y_test))"
   ]
  },
  {
   "cell_type": "code",
   "execution_count": null,
   "metadata": {
    "id": "hpIpKkGX5Pe8"
   },
   "outputs": [],
   "source": []
  }
 ],
 "metadata": {
  "accelerator": "GPU",
  "colab": {
   "provenance": []
  },
  "gpuClass": "standard",
  "kernelspec": {
   "display_name": "Python 3",
   "language": "python",
   "name": "python3"
  },
  "language_info": {
   "codemirror_mode": {
    "name": "ipython",
    "version": 3
   },
   "file_extension": ".py",
   "mimetype": "text/x-python",
   "name": "python",
   "nbconvert_exporter": "python",
   "pygments_lexer": "ipython3",
   "version": "3.8.3"
  },
  "vscode": {
   "interpreter": {
    "hash": "cc8ef19109e6c5d80ff4d6d9baf4fc396a832cf978956b8db27a1e5a3fccd449"
   }
  }
 },
 "nbformat": 4,
 "nbformat_minor": 1
}
