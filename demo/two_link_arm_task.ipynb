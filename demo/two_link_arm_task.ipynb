{
 "cells": [
  {
   "cell_type": "code",
   "execution_count": 1,
   "metadata": {
    "id": "NqbO7nR95Pet"
   },
   "outputs": [],
   "source": [
    "# import particles \n",
    "import numpy as np\n",
    "import matplotlib.pyplot as plt\n",
    "import random\n",
    "from tensorflow.keras import Model\n",
    "from tensorflow.keras.layers import Dense, Activation, Dropout, Input\n",
    "import tensorflow as tf\n",
    "from sklearn.model_selection import train_test_split"
   ]
  },
  {
   "cell_type": "code",
   "execution_count": 5,
   "metadata": {
    "id": "LfVBmcZZ5Pez"
   },
   "outputs": [],
   "source": [
    "# def next_angle(q, u):\n",
    "#     # q_init: array (2,) containing the inital angles\n",
    "#     # u:      array (2,) containing the change rate\n",
    "#     return q + u\n",
    "\n",
    "# def current_position(q, l):\n",
    "#     # q: array (2,) containing the two angles\n",
    "#     # l: array (2,) containing the limb lengths \n",
    "#     x = l * np.cos(q[0]) + l * np.cos(q[0] + q[1])\n",
    "#     y = l * np.sin(q[0]) + l * np.sin(q[0] + q[1])\n",
    "#     return np.array([x, y])\n",
    "\n",
    "def current_position(q, l):\n",
    "    # q: array (2,) containing the two angles\n",
    "    # l: array (2,) containing the limb lengths \n",
    "    x = l[0] * np.cos(q[0]) + l[1] * np.cos(q[0] + q[1])\n",
    "    y = l[0] * np.sin(q[0]) + l[1] * np.sin(q[0] + q[1])\n",
    "    return np.array([x, y])"
   ]
  },
  {
   "cell_type": "markdown",
   "metadata": {
    "id": "iiTA-Cwr5Pey"
   },
   "source": [
    "# Data Simulation"
   ]
  },
  {
   "cell_type": "code",
   "execution_count": 11,
   "metadata": {},
   "outputs": [],
   "source": [
    "def generate_one_task(limb_length, n_episode=150, n_timesteps=10):\n",
    "    dof = 2\n",
    "    angles = list()\n",
    "    positions = list()\n",
    "    for _ in range(n_episode):\n",
    "        q = np.random.uniform(low= -np.pi, high= np.pi, size=dof) # observation, the angle, uniform [-pi, pi]\n",
    "        angles.append(q)\n",
    "        u = np.random.randn(dof, n_timesteps) # action, the change rate of angles\n",
    "        q += u.sum(axis=1)\n",
    "        position = current_position(q, limb_length)\n",
    "        positions.append(position)\n",
    "    \n",
    "    return positions, angles"
   ]
  },
  {
   "cell_type": "code",
   "execution_count": 12,
   "metadata": {
    "id": "2yQdn94R5Pe0"
   },
   "outputs": [],
   "source": [
    "n_tasks=1000 \n",
    "n_episode=150\n",
    "n_timesteps=10\n",
    "\n",
    "def simulate_data(n_tasks=1000, n_episode=150, n_timesteps=10):\n",
    "    angles = list()\n",
    "    positions = list()\n",
    "    # generate limb length for each task\n",
    "    lens = np.random.normal(loc=1, scale=np.sqrt(0.3), size=(n_tasks, 2))\n",
    "    for i in range(n_tasks):\n",
    "        position, angle = generate_one_task(lens[i], n_episode=150, n_timesteps=10)\n",
    "        angles.extend(angle)\n",
    "        positions.extend(position)\n",
    "\n",
    "    angles = np.stack(angles, axis=0)\n",
    "    positions = np.stack(positions, axis=0)\n",
    "\n",
    "    assert angles.shape == positions.shape # their shape should be both (n_tasks*n_episode*n_timesteps, 2)\n",
    "    return positions, angles"
   ]
  },
  {
   "cell_type": "code",
   "execution_count": 13,
   "metadata": {},
   "outputs": [],
   "source": [
    "positions, angles = simulate_data()"
   ]
  },
  {
   "cell_type": "code",
   "execution_count": 14,
   "metadata": {
    "colab": {
     "base_uri": "https://localhost:8080/"
    },
    "id": "9q9-Jzo8GjrB",
    "outputId": "bf0938ce-478e-4448-a019-bd13e9b4ebc0"
   },
   "outputs": [
    {
     "data": {
      "text/plain": [
       "((150000, 2), (150000, 2))"
      ]
     },
     "execution_count": 14,
     "metadata": {},
     "output_type": "execute_result"
    }
   ],
   "source": [
    "positions.shape, angles.shape"
   ]
  },
  {
   "cell_type": "code",
   "execution_count": 13,
   "metadata": {},
   "outputs": [],
   "source": [
    "np.savez_compressed('./two_link_arm_pretraining_data.npz',x=angles,y=positions)"
   ]
  },
  {
   "cell_type": "markdown",
   "metadata": {
    "id": "NBsaumo-5Pe5"
   },
   "source": [
    "# Build model"
   ]
  },
  {
   "cell_type": "code",
   "execution_count": 15,
   "metadata": {
    "id": "hE6X87X_5Pe5"
   },
   "outputs": [],
   "source": [
    "input_length = 2\n",
    "latent_dim = 512\n",
    "output_length = 2\n",
    "\n",
    "model = tf.keras.Sequential([\n",
    "    Dense(512, activation='relu', input_shape=(input_length,)),\n",
    "    Dropout(rate=0.5),\n",
    "    Dense(units=latent_dim, activation='tanh'),\n",
    "    Dense(units=output_length),\n",
    "  ])"
   ]
  },
  {
   "cell_type": "code",
   "execution_count": 16,
   "metadata": {
    "colab": {
     "base_uri": "https://localhost:8080/"
    },
    "id": "_LE4jGJ55Pe6",
    "outputId": "a902d9ce-cb3d-4965-aeea-2254927de0e3"
   },
   "outputs": [
    {
     "name": "stdout",
     "output_type": "stream",
     "text": [
      "Model: \"sequential\"\n",
      "_________________________________________________________________\n",
      " Layer (type)                Output Shape              Param #   \n",
      "=================================================================\n",
      " dense (Dense)               (None, 512)               1536      \n",
      "                                                                 \n",
      " dropout (Dropout)           (None, 512)               0         \n",
      "                                                                 \n",
      " dense_1 (Dense)             (None, 512)               262656    \n",
      "                                                                 \n",
      " dense_2 (Dense)             (None, 2)                 1026      \n",
      "                                                                 \n",
      "=================================================================\n",
      "Total params: 265,218\n",
      "Trainable params: 265,218\n",
      "Non-trainable params: 0\n",
      "_________________________________________________________________\n"
     ]
    }
   ],
   "source": [
    "model.summary()"
   ]
  },
  {
   "cell_type": "code",
   "execution_count": 17,
   "metadata": {
    "colab": {
     "base_uri": "https://localhost:8080/"
    },
    "id": "Mx9a3u7N5Pe7",
    "outputId": "f6f3c0fa-00ad-47a8-f67c-90d75b5ea1f7"
   },
   "outputs": [],
   "source": [
    "model.compile(optimizer=tf.keras.optimizers.Adam(learning_rate=1e-3),\n",
    "            loss=tf.keras.losses.MeanSquaredError(),\n",
    "            metrics=[tf.keras.metrics.MeanAbsoluteError()])"
   ]
  },
  {
   "cell_type": "markdown",
   "metadata": {
    "id": "QftmyIHz5Pe4"
   },
   "source": [
    "# pretraining"
   ]
  },
  {
   "cell_type": "code",
   "execution_count": 63,
   "metadata": {},
   "outputs": [],
   "source": [
    "loaded = np.load('./two_link_arm_pretraining_data.npz')\n",
    "# print(np.array_equal(angles , loaded['x']))\n",
    "# print(np.array_equal(positions , loaded['y']))\n",
    "angles = loaded['x']\n",
    "positions = loaded['y']"
   ]
  },
  {
   "cell_type": "code",
   "execution_count": 18,
   "metadata": {},
   "outputs": [],
   "source": [
    "def train_test_split_reptile(x, y, test_size):\n",
    "    x_train, x_test, y_train, y_test = train_test_split(np.swapaxes(x.reshape(n_tasks, n_episode, -1),0,1), np.swapaxes(y.reshape(n_tasks, n_episode, -1),0,1), test_size=test_ratio, shuffle = False)\n",
    "    return x_train.reshape(-1,2), x_test.reshape(-1,2), y_train.reshape(-1,2),y_test.reshape(-1,2)"
   ]
  },
  {
   "cell_type": "code",
   "execution_count": 64,
   "metadata": {},
   "outputs": [],
   "source": [
    "test_ratio = 0.1"
   ]
  },
  {
   "cell_type": "code",
   "execution_count": 71,
   "metadata": {},
   "outputs": [
    {
     "name": "stdout",
     "output_type": "stream",
     "text": [
      "Epoch 1/5\n",
      "1055/1055 [==============================] - 5s 5ms/step - loss: 0.9519 - mean_absolute_error: 0.7618 - val_loss: 0.5816 - val_mean_absolute_error: 0.5850\n",
      "Epoch 2/5\n",
      "1055/1055 [==============================] - 5s 4ms/step - loss: 0.5368 - mean_absolute_error: 0.5597 - val_loss: 0.4297 - val_mean_absolute_error: 0.4977\n",
      "Epoch 3/5\n",
      "1055/1055 [==============================] - 5s 5ms/step - loss: 0.4500 - mean_absolute_error: 0.5138 - val_loss: 0.3852 - val_mean_absolute_error: 0.4733\n",
      "Epoch 4/5\n",
      "1055/1055 [==============================] - 6s 5ms/step - loss: 0.4162 - mean_absolute_error: 0.4962 - val_loss: 0.3576 - val_mean_absolute_error: 0.4568\n",
      "Epoch 5/5\n",
      "1055/1055 [==============================] - 5s 5ms/step - loss: 0.3961 - mean_absolute_error: 0.4852 - val_loss: 0.3504 - val_mean_absolute_error: 0.4554\n"
     ]
    },
    {
     "data": {
      "text/plain": [
       "<keras.callbacks.History at 0x19552341be0>"
      ]
     },
     "execution_count": 71,
     "metadata": {},
     "output_type": "execute_result"
    }
   ],
   "source": [
    "x_train, x_test, y_train, y_test = train_test_split(angles, positions, test_size=test_ratio, random_state=666)\n",
    "model.fit(x_train, y_train, epochs=5, batch_size=128)"
   ]
  },
  {
   "cell_type": "code",
   "execution_count": 73,
   "metadata": {},
   "outputs": [],
   "source": [
    "pretrained = tf.keras.models.load_model('saved_model/my_model')"
   ]
  },
  {
   "cell_type": "code",
   "execution_count": null,
   "metadata": {
    "colab": {
     "base_uri": "https://localhost:8080/"
    },
    "collapsed": true,
    "id": "Mx9a3u7N5Pe7",
    "jupyter": {
     "outputs_hidden": true
    },
    "outputId": "f6f3c0fa-00ad-47a8-f67c-90d75b5ea1f7",
    "tags": []
   },
   "outputs": [
    {
     "name": "stdout",
     "output_type": "stream",
     "text": [
      "Epoch 1/200\n",
      "1055/1055 [==============================] - 7s 6ms/step - loss: 1.1662 - mean_absolute_error: 0.8551 - val_loss: 0.9560 - val_mean_absolute_error: 0.7632\n",
      "Epoch 2/200\n",
      "1055/1055 [==============================] - 6s 6ms/step - loss: 0.8701 - mean_absolute_error: 0.7215 - val_loss: 0.7401 - val_mean_absolute_error: 0.6565\n",
      "Epoch 3/200\n",
      "1055/1055 [==============================] - 6s 6ms/step - loss: 0.7405 - mean_absolute_error: 0.6607 - val_loss: 0.6383 - val_mean_absolute_error: 0.6068\n",
      "Epoch 4/200\n",
      "1055/1055 [==============================] - 6s 6ms/step - loss: 0.6662 - mean_absolute_error: 0.6260 - val_loss: 0.5738 - val_mean_absolute_error: 0.5742\n",
      "Epoch 5/200\n",
      "1055/1055 [==============================] - 6s 6ms/step - loss: 0.6193 - mean_absolute_error: 0.6030 - val_loss: 0.5312 - val_mean_absolute_error: 0.5515\n",
      "Epoch 6/200\n",
      "1055/1055 [==============================] - 6s 6ms/step - loss: 0.5822 - mean_absolute_error: 0.5842 - val_loss: 0.5015 - val_mean_absolute_error: 0.5360\n",
      "Epoch 7/200\n",
      "1055/1055 [==============================] - 6s 6ms/step - loss: 0.5510 - mean_absolute_error: 0.5673 - val_loss: 0.4775 - val_mean_absolute_error: 0.5231\n",
      "Epoch 8/200\n",
      "1055/1055 [==============================] - 6s 6ms/step - loss: 0.5236 - mean_absolute_error: 0.5526 - val_loss: 0.4528 - val_mean_absolute_error: 0.5088\n",
      "Epoch 9/200\n",
      "1055/1055 [==============================] - 6s 6ms/step - loss: 0.5020 - mean_absolute_error: 0.5407 - val_loss: 0.4363 - val_mean_absolute_error: 0.4997\n",
      "Epoch 10/200\n",
      "1055/1055 [==============================] - 6s 6ms/step - loss: 0.4841 - mean_absolute_error: 0.5309 - val_loss: 0.4252 - val_mean_absolute_error: 0.4938\n",
      "Epoch 11/200\n",
      "1055/1055 [==============================] - 6s 6ms/step - loss: 0.4697 - mean_absolute_error: 0.5226 - val_loss: 0.4145 - val_mean_absolute_error: 0.4872\n",
      "Epoch 12/200\n",
      "1055/1055 [==============================] - 6s 6ms/step - loss: 0.4571 - mean_absolute_error: 0.5161 - val_loss: 0.4027 - val_mean_absolute_error: 0.4810\n",
      "Epoch 13/200\n",
      "1055/1055 [==============================] - 6s 6ms/step - loss: 0.4468 - mean_absolute_error: 0.5103 - val_loss: 0.3982 - val_mean_absolute_error: 0.4789\n",
      "Epoch 14/200\n",
      "1055/1055 [==============================] - 6s 6ms/step - loss: 0.4383 - mean_absolute_error: 0.5059 - val_loss: 0.3887 - val_mean_absolute_error: 0.4729\n",
      "Epoch 15/200\n",
      "1055/1055 [==============================] - 6s 6ms/step - loss: 0.4318 - mean_absolute_error: 0.5018 - val_loss: 0.3843 - val_mean_absolute_error: 0.4701\n",
      "Epoch 16/200\n",
      "1055/1055 [==============================] - 6s 6ms/step - loss: 0.4263 - mean_absolute_error: 0.4987 - val_loss: 0.3776 - val_mean_absolute_error: 0.4667\n",
      "Epoch 17/200\n",
      "1055/1055 [==============================] - 6s 6ms/step - loss: 0.4206 - mean_absolute_error: 0.4956 - val_loss: 0.3736 - val_mean_absolute_error: 0.4647\n",
      "Epoch 18/200\n",
      "1055/1055 [==============================] - 6s 6ms/step - loss: 0.4153 - mean_absolute_error: 0.4924 - val_loss: 0.3713 - val_mean_absolute_error: 0.4634\n",
      "Epoch 19/200\n",
      "1055/1055 [==============================] - 6s 6ms/step - loss: 0.4112 - mean_absolute_error: 0.4904 - val_loss: 0.3681 - val_mean_absolute_error: 0.4616\n",
      "Epoch 20/200\n",
      "1055/1055 [==============================] - 6s 6ms/step - loss: 0.4080 - mean_absolute_error: 0.4887 - val_loss: 0.3610 - val_mean_absolute_error: 0.4575\n",
      "Epoch 21/200\n",
      "1055/1055 [==============================] - 6s 6ms/step - loss: 0.4035 - mean_absolute_error: 0.4860 - val_loss: 0.3606 - val_mean_absolute_error: 0.4579\n",
      "Epoch 22/200\n",
      "1055/1055 [==============================] - 6s 6ms/step - loss: 0.3996 - mean_absolute_error: 0.4839 - val_loss: 0.3591 - val_mean_absolute_error: 0.4575\n",
      "Epoch 23/200\n",
      "1055/1055 [==============================] - 6s 6ms/step - loss: 0.3972 - mean_absolute_error: 0.4825 - val_loss: 0.3568 - val_mean_absolute_error: 0.4557\n",
      "Epoch 24/200\n",
      "1055/1055 [==============================] - 6s 6ms/step - loss: 0.3942 - mean_absolute_error: 0.4812 - val_loss: 0.3551 - val_mean_absolute_error: 0.4548\n",
      "Epoch 25/200\n",
      "1055/1055 [==============================] - 6s 6ms/step - loss: 0.3921 - mean_absolute_error: 0.4796 - val_loss: 0.3521 - val_mean_absolute_error: 0.4533\n",
      "Epoch 26/200\n",
      "1055/1055 [==============================] - 6s 6ms/step - loss: 0.3893 - mean_absolute_error: 0.4779 - val_loss: 0.3529 - val_mean_absolute_error: 0.4534\n",
      "Epoch 27/200\n",
      "1055/1055 [==============================] - 6s 6ms/step - loss: 0.3870 - mean_absolute_error: 0.4768 - val_loss: 0.3492 - val_mean_absolute_error: 0.4525\n",
      "Epoch 28/200\n",
      "1055/1055 [==============================] - 6s 6ms/step - loss: 0.3857 - mean_absolute_error: 0.4762 - val_loss: 0.3472 - val_mean_absolute_error: 0.4506\n",
      "Epoch 29/200\n",
      "1055/1055 [==============================] - 6s 6ms/step - loss: 0.3841 - mean_absolute_error: 0.4752 - val_loss: 0.3428 - val_mean_absolute_error: 0.4476\n",
      "Epoch 30/200\n",
      "1055/1055 [==============================] - 6s 6ms/step - loss: 0.3816 - mean_absolute_error: 0.4738 - val_loss: 0.3440 - val_mean_absolute_error: 0.4493\n",
      "Epoch 31/200\n",
      "1055/1055 [==============================] - 6s 6ms/step - loss: 0.3794 - mean_absolute_error: 0.4723 - val_loss: 0.3399 - val_mean_absolute_error: 0.4465\n",
      "Epoch 32/200\n",
      "1055/1055 [==============================] - 6s 6ms/step - loss: 0.3785 - mean_absolute_error: 0.4718 - val_loss: 0.3441 - val_mean_absolute_error: 0.4498\n",
      "Epoch 33/200\n",
      "1055/1055 [==============================] - 6s 6ms/step - loss: 0.3766 - mean_absolute_error: 0.4709 - val_loss: 0.3392 - val_mean_absolute_error: 0.4466\n",
      "Epoch 34/200\n",
      "1055/1055 [==============================] - 6s 6ms/step - loss: 0.3755 - mean_absolute_error: 0.4704 - val_loss: 0.3412 - val_mean_absolute_error: 0.4474\n",
      "Epoch 35/200\n",
      "1055/1055 [==============================] - 6s 6ms/step - loss: 0.3751 - mean_absolute_error: 0.4698 - val_loss: 0.3393 - val_mean_absolute_error: 0.4462\n",
      "Epoch 36/200\n",
      "1055/1055 [==============================] - 6s 6ms/step - loss: 0.3724 - mean_absolute_error: 0.4687 - val_loss: 0.3359 - val_mean_absolute_error: 0.4442\n",
      "Epoch 37/200\n",
      "1055/1055 [==============================] - 6s 6ms/step - loss: 0.3725 - mean_absolute_error: 0.4685 - val_loss: 0.3347 - val_mean_absolute_error: 0.4430\n",
      "Epoch 38/200\n",
      "1055/1055 [==============================] - 6s 6ms/step - loss: 0.3709 - mean_absolute_error: 0.4680 - val_loss: 0.3332 - val_mean_absolute_error: 0.4428\n",
      "Epoch 39/200\n",
      "1055/1055 [==============================] - 6s 6ms/step - loss: 0.3686 - mean_absolute_error: 0.4666 - val_loss: 0.3335 - val_mean_absolute_error: 0.4436\n",
      "Epoch 40/200\n",
      "1055/1055 [==============================] - 6s 6ms/step - loss: 0.3689 - mean_absolute_error: 0.4669 - val_loss: 0.3335 - val_mean_absolute_error: 0.4433\n",
      "Epoch 41/200\n",
      "1055/1055 [==============================] - 6s 6ms/step - loss: 0.3688 - mean_absolute_error: 0.4664 - val_loss: 0.3308 - val_mean_absolute_error: 0.4408\n",
      "Epoch 42/200\n",
      "1055/1055 [==============================] - 6s 6ms/step - loss: 0.3679 - mean_absolute_error: 0.4657 - val_loss: 0.3320 - val_mean_absolute_error: 0.4421\n",
      "Epoch 43/200\n",
      "1055/1055 [==============================] - 6s 6ms/step - loss: 0.3666 - mean_absolute_error: 0.4656 - val_loss: 0.3332 - val_mean_absolute_error: 0.4436\n",
      "Epoch 44/200\n",
      "1055/1055 [==============================] - 6s 6ms/step - loss: 0.3662 - mean_absolute_error: 0.4649 - val_loss: 0.3309 - val_mean_absolute_error: 0.4418\n",
      "Epoch 45/200\n",
      "1055/1055 [==============================] - 6s 6ms/step - loss: 0.3654 - mean_absolute_error: 0.4645 - val_loss: 0.3299 - val_mean_absolute_error: 0.4414\n",
      "Epoch 46/200\n",
      "1055/1055 [==============================] - 6s 6ms/step - loss: 0.3657 - mean_absolute_error: 0.4648 - val_loss: 0.3284 - val_mean_absolute_error: 0.4409\n",
      "Epoch 47/200\n",
      "1055/1055 [==============================] - 6s 6ms/step - loss: 0.3647 - mean_absolute_error: 0.4641 - val_loss: 0.3307 - val_mean_absolute_error: 0.4420\n",
      "Epoch 48/200\n",
      "1055/1055 [==============================] - 6s 6ms/step - loss: 0.3634 - mean_absolute_error: 0.4637 - val_loss: 0.3290 - val_mean_absolute_error: 0.4412\n",
      "Epoch 49/200\n",
      "1055/1055 [==============================] - 6s 6ms/step - loss: 0.3632 - mean_absolute_error: 0.4629 - val_loss: 0.3325 - val_mean_absolute_error: 0.4432\n",
      "Epoch 50/200\n",
      "1055/1055 [==============================] - 6s 6ms/step - loss: 0.3633 - mean_absolute_error: 0.4635 - val_loss: 0.3263 - val_mean_absolute_error: 0.4393\n",
      "Epoch 51/200\n",
      "1055/1055 [==============================] - 6s 6ms/step - loss: 0.3608 - mean_absolute_error: 0.4617 - val_loss: 0.3267 - val_mean_absolute_error: 0.4396\n",
      "Epoch 52/200\n",
      "1055/1055 [==============================] - 6s 6ms/step - loss: 0.3603 - mean_absolute_error: 0.4620 - val_loss: 0.3260 - val_mean_absolute_error: 0.4389\n",
      "Epoch 53/200\n",
      "1055/1055 [==============================] - 6s 6ms/step - loss: 0.3603 - mean_absolute_error: 0.4617 - val_loss: 0.3273 - val_mean_absolute_error: 0.4398\n",
      "Epoch 54/200\n",
      "1055/1055 [==============================] - 6s 6ms/step - loss: 0.3599 - mean_absolute_error: 0.4619 - val_loss: 0.3286 - val_mean_absolute_error: 0.4406\n",
      "Epoch 55/200\n",
      "1055/1055 [==============================] - 6s 6ms/step - loss: 0.3595 - mean_absolute_error: 0.4610 - val_loss: 0.3249 - val_mean_absolute_error: 0.4386\n",
      "Epoch 56/200\n",
      "1055/1055 [==============================] - 6s 6ms/step - loss: 0.3593 - mean_absolute_error: 0.4612 - val_loss: 0.3243 - val_mean_absolute_error: 0.4383\n",
      "Epoch 57/200\n",
      "1055/1055 [==============================] - 6s 6ms/step - loss: 0.3586 - mean_absolute_error: 0.4608 - val_loss: 0.3251 - val_mean_absolute_error: 0.4390\n",
      "Epoch 58/200\n",
      "1055/1055 [==============================] - 6s 6ms/step - loss: 0.3580 - mean_absolute_error: 0.4606 - val_loss: 0.3234 - val_mean_absolute_error: 0.4378\n",
      "Epoch 59/200\n",
      "1055/1055 [==============================] - 6s 6ms/step - loss: 0.3587 - mean_absolute_error: 0.4607 - val_loss: 0.3248 - val_mean_absolute_error: 0.4380\n",
      "Epoch 60/200\n",
      "1055/1055 [==============================] - 6s 6ms/step - loss: 0.3571 - mean_absolute_error: 0.4601 - val_loss: 0.3245 - val_mean_absolute_error: 0.4379\n",
      "Epoch 61/200\n",
      "1055/1055 [==============================] - 6s 6ms/step - loss: 0.3571 - mean_absolute_error: 0.4597 - val_loss: 0.3213 - val_mean_absolute_error: 0.4362\n",
      "Epoch 62/200\n",
      "1055/1055 [==============================] - 6s 6ms/step - loss: 0.3564 - mean_absolute_error: 0.4597 - val_loss: 0.3223 - val_mean_absolute_error: 0.4368\n",
      "Epoch 63/200\n",
      "1055/1055 [==============================] - 6s 6ms/step - loss: 0.3563 - mean_absolute_error: 0.4596 - val_loss: 0.3240 - val_mean_absolute_error: 0.4380\n",
      "Epoch 64/200\n",
      "1055/1055 [==============================] - 6s 6ms/step - loss: 0.3555 - mean_absolute_error: 0.4590 - val_loss: 0.3213 - val_mean_absolute_error: 0.4362\n",
      "Epoch 65/200\n",
      "1055/1055 [==============================] - 6s 6ms/step - loss: 0.3550 - mean_absolute_error: 0.4590 - val_loss: 0.3254 - val_mean_absolute_error: 0.4391\n",
      "Epoch 66/200\n",
      "1055/1055 [==============================] - 6s 6ms/step - loss: 0.3553 - mean_absolute_error: 0.4587 - val_loss: 0.3214 - val_mean_absolute_error: 0.4362\n",
      "Epoch 67/200\n",
      "1055/1055 [==============================] - 6s 6ms/step - loss: 0.3546 - mean_absolute_error: 0.4583 - val_loss: 0.3206 - val_mean_absolute_error: 0.4366\n",
      "Epoch 68/200\n",
      "1055/1055 [==============================] - 6s 6ms/step - loss: 0.3558 - mean_absolute_error: 0.4591 - val_loss: 0.3232 - val_mean_absolute_error: 0.4377\n",
      "Epoch 69/200\n",
      "1055/1055 [==============================] - 6s 6ms/step - loss: 0.3546 - mean_absolute_error: 0.4587 - val_loss: 0.3220 - val_mean_absolute_error: 0.4374\n",
      "Epoch 70/200\n",
      "1055/1055 [==============================] - 6s 6ms/step - loss: 0.3530 - mean_absolute_error: 0.4575 - val_loss: 0.3216 - val_mean_absolute_error: 0.4368\n",
      "Epoch 71/200\n",
      "1055/1055 [==============================] - 6s 6ms/step - loss: 0.3539 - mean_absolute_error: 0.4582 - val_loss: 0.3204 - val_mean_absolute_error: 0.4360\n",
      "Epoch 72/200\n",
      "1055/1055 [==============================] - 6s 6ms/step - loss: 0.3522 - mean_absolute_error: 0.4570 - val_loss: 0.3195 - val_mean_absolute_error: 0.4355\n",
      "Epoch 73/200\n",
      "1055/1055 [==============================] - 6s 6ms/step - loss: 0.3528 - mean_absolute_error: 0.4577 - val_loss: 0.3194 - val_mean_absolute_error: 0.4354\n",
      "Epoch 74/200\n",
      "1055/1055 [==============================] - 6s 6ms/step - loss: 0.3527 - mean_absolute_error: 0.4572 - val_loss: 0.3216 - val_mean_absolute_error: 0.4365\n",
      "Epoch 75/200\n",
      "1055/1055 [==============================] - 6s 6ms/step - loss: 0.3524 - mean_absolute_error: 0.4573 - val_loss: 0.3199 - val_mean_absolute_error: 0.4355\n",
      "Epoch 76/200\n",
      "1055/1055 [==============================] - 6s 6ms/step - loss: 0.3527 - mean_absolute_error: 0.4573 - val_loss: 0.3225 - val_mean_absolute_error: 0.4377\n",
      "Epoch 77/200\n",
      "1055/1055 [==============================] - 6s 6ms/step - loss: 0.3531 - mean_absolute_error: 0.4574 - val_loss: 0.3185 - val_mean_absolute_error: 0.4350\n",
      "Epoch 78/200\n",
      "1055/1055 [==============================] - 6s 6ms/step - loss: 0.3512 - mean_absolute_error: 0.4569 - val_loss: 0.3192 - val_mean_absolute_error: 0.4357\n",
      "Epoch 79/200\n",
      "1055/1055 [==============================] - 6s 6ms/step - loss: 0.3512 - mean_absolute_error: 0.4567 - val_loss: 0.3196 - val_mean_absolute_error: 0.4358\n",
      "Epoch 80/200\n",
      "1055/1055 [==============================] - 6s 6ms/step - loss: 0.3509 - mean_absolute_error: 0.4563 - val_loss: 0.3205 - val_mean_absolute_error: 0.4362\n",
      "Epoch 81/200\n",
      "1055/1055 [==============================] - 6s 6ms/step - loss: 0.3507 - mean_absolute_error: 0.4563 - val_loss: 0.3151 - val_mean_absolute_error: 0.4327\n",
      "Epoch 82/200\n",
      "1055/1055 [==============================] - 6s 6ms/step - loss: 0.3503 - mean_absolute_error: 0.4561 - val_loss: 0.3190 - val_mean_absolute_error: 0.4352\n",
      "Epoch 83/200\n",
      "1055/1055 [==============================] - 6s 6ms/step - loss: 0.3507 - mean_absolute_error: 0.4564 - val_loss: 0.3175 - val_mean_absolute_error: 0.4342\n",
      "Epoch 84/200\n",
      "1055/1055 [==============================] - 6s 6ms/step - loss: 0.3494 - mean_absolute_error: 0.4552 - val_loss: 0.3206 - val_mean_absolute_error: 0.4365\n",
      "Epoch 85/200\n",
      "1055/1055 [==============================] - 6s 6ms/step - loss: 0.3494 - mean_absolute_error: 0.4553 - val_loss: 0.3156 - val_mean_absolute_error: 0.4334\n",
      "Epoch 86/200\n",
      "1055/1055 [==============================] - 6s 6ms/step - loss: 0.3492 - mean_absolute_error: 0.4554 - val_loss: 0.3190 - val_mean_absolute_error: 0.4356\n",
      "Epoch 87/200\n",
      "1055/1055 [==============================] - 6s 6ms/step - loss: 0.3499 - mean_absolute_error: 0.4558 - val_loss: 0.3163 - val_mean_absolute_error: 0.4339\n",
      "Epoch 88/200\n",
      "1055/1055 [==============================] - 6s 6ms/step - loss: 0.3487 - mean_absolute_error: 0.4552 - val_loss: 0.3161 - val_mean_absolute_error: 0.4332\n",
      "Epoch 89/200\n",
      "1055/1055 [==============================] - 6s 6ms/step - loss: 0.3486 - mean_absolute_error: 0.4548 - val_loss: 0.3199 - val_mean_absolute_error: 0.4354\n",
      "Epoch 90/200\n",
      "1055/1055 [==============================] - 6s 6ms/step - loss: 0.3479 - mean_absolute_error: 0.4550 - val_loss: 0.3178 - val_mean_absolute_error: 0.4344\n",
      "Epoch 91/200\n",
      "1055/1055 [==============================] - 6s 6ms/step - loss: 0.3486 - mean_absolute_error: 0.4551 - val_loss: 0.3138 - val_mean_absolute_error: 0.4320\n",
      "Epoch 92/200\n",
      "1055/1055 [==============================] - 6s 6ms/step - loss: 0.3477 - mean_absolute_error: 0.4543 - val_loss: 0.3169 - val_mean_absolute_error: 0.4340\n",
      "Epoch 93/200\n",
      "1055/1055 [==============================] - 6s 6ms/step - loss: 0.3480 - mean_absolute_error: 0.4547 - val_loss: 0.3181 - val_mean_absolute_error: 0.4348\n",
      "Epoch 94/200\n",
      "1055/1055 [==============================] - 6s 6ms/step - loss: 0.3479 - mean_absolute_error: 0.4546 - val_loss: 0.3169 - val_mean_absolute_error: 0.4337\n",
      "Epoch 95/200\n",
      "1055/1055 [==============================] - 6s 6ms/step - loss: 0.3472 - mean_absolute_error: 0.4541 - val_loss: 0.3159 - val_mean_absolute_error: 0.4332\n",
      "Epoch 96/200\n",
      "1055/1055 [==============================] - 6s 6ms/step - loss: 0.3476 - mean_absolute_error: 0.4548 - val_loss: 0.3176 - val_mean_absolute_error: 0.4345\n",
      "Epoch 97/200\n",
      "1055/1055 [==============================] - 6s 6ms/step - loss: 0.3473 - mean_absolute_error: 0.4541 - val_loss: 0.3175 - val_mean_absolute_error: 0.4346\n",
      "Epoch 98/200\n",
      "1055/1055 [==============================] - 6s 6ms/step - loss: 0.3464 - mean_absolute_error: 0.4538 - val_loss: 0.3147 - val_mean_absolute_error: 0.4324\n",
      "Epoch 99/200\n",
      "1055/1055 [==============================] - 6s 6ms/step - loss: 0.3471 - mean_absolute_error: 0.4544 - val_loss: 0.3175 - val_mean_absolute_error: 0.4346\n",
      "Epoch 100/200\n",
      "1055/1055 [==============================] - 6s 6ms/step - loss: 0.3462 - mean_absolute_error: 0.4535 - val_loss: 0.3154 - val_mean_absolute_error: 0.4330\n",
      "Epoch 101/200\n",
      "1055/1055 [==============================] - 6s 6ms/step - loss: 0.3457 - mean_absolute_error: 0.4537 - val_loss: 0.3161 - val_mean_absolute_error: 0.4334\n",
      "Epoch 102/200\n",
      "1055/1055 [==============================] - 6s 6ms/step - loss: 0.3460 - mean_absolute_error: 0.4537 - val_loss: 0.3153 - val_mean_absolute_error: 0.4328\n",
      "Epoch 103/200\n",
      "1055/1055 [==============================] - 6s 6ms/step - loss: 0.3459 - mean_absolute_error: 0.4533 - val_loss: 0.3165 - val_mean_absolute_error: 0.4337\n",
      "Epoch 104/200\n",
      "1055/1055 [==============================] - 6s 6ms/step - loss: 0.3465 - mean_absolute_error: 0.4539 - val_loss: 0.3136 - val_mean_absolute_error: 0.4318\n",
      "Epoch 105/200\n",
      "1055/1055 [==============================] - 6s 6ms/step - loss: 0.3455 - mean_absolute_error: 0.4534 - val_loss: 0.3164 - val_mean_absolute_error: 0.4341\n",
      "Epoch 106/200\n",
      "1055/1055 [==============================] - 6s 6ms/step - loss: 0.3451 - mean_absolute_error: 0.4528 - val_loss: 0.3137 - val_mean_absolute_error: 0.4318\n",
      "Epoch 107/200\n",
      "1055/1055 [==============================] - 6s 6ms/step - loss: 0.3452 - mean_absolute_error: 0.4528 - val_loss: 0.3142 - val_mean_absolute_error: 0.4323\n",
      "Epoch 108/200\n",
      "1055/1055 [==============================] - 6s 6ms/step - loss: 0.3449 - mean_absolute_error: 0.4533 - val_loss: 0.3140 - val_mean_absolute_error: 0.4324\n",
      "Epoch 109/200\n",
      "1055/1055 [==============================] - 6s 6ms/step - loss: 0.3452 - mean_absolute_error: 0.4533 - val_loss: 0.3139 - val_mean_absolute_error: 0.4322\n",
      "Epoch 110/200\n",
      "1055/1055 [==============================] - 6s 6ms/step - loss: 0.3451 - mean_absolute_error: 0.4532 - val_loss: 0.3138 - val_mean_absolute_error: 0.4324\n",
      "Epoch 111/200\n",
      "1055/1055 [==============================] - 6s 6ms/step - loss: 0.3449 - mean_absolute_error: 0.4529 - val_loss: 0.3138 - val_mean_absolute_error: 0.4319\n",
      "Epoch 112/200\n",
      "1055/1055 [==============================] - 6s 6ms/step - loss: 0.3445 - mean_absolute_error: 0.4529 - val_loss: 0.3152 - val_mean_absolute_error: 0.4329\n",
      "Epoch 113/200\n",
      "1055/1055 [==============================] - 6s 6ms/step - loss: 0.3443 - mean_absolute_error: 0.4529 - val_loss: 0.3116 - val_mean_absolute_error: 0.4308\n",
      "Epoch 114/200\n",
      "1055/1055 [==============================] - 6s 6ms/step - loss: 0.3436 - mean_absolute_error: 0.4523 - val_loss: 0.3125 - val_mean_absolute_error: 0.4315\n",
      "Epoch 115/200\n",
      "1055/1055 [==============================] - 6s 6ms/step - loss: 0.3443 - mean_absolute_error: 0.4527 - val_loss: 0.3135 - val_mean_absolute_error: 0.4320\n",
      "Epoch 116/200\n",
      "1055/1055 [==============================] - 6s 6ms/step - loss: 0.3443 - mean_absolute_error: 0.4528 - val_loss: 0.3157 - val_mean_absolute_error: 0.4334\n",
      "Epoch 117/200\n",
      "1055/1055 [==============================] - 6s 6ms/step - loss: 0.3443 - mean_absolute_error: 0.4523 - val_loss: 0.3129 - val_mean_absolute_error: 0.4312\n",
      "Epoch 118/200\n",
      "1055/1055 [==============================] - 6s 6ms/step - loss: 0.3432 - mean_absolute_error: 0.4520 - val_loss: 0.3169 - val_mean_absolute_error: 0.4340\n",
      "Epoch 119/200\n",
      "1055/1055 [==============================] - 6s 6ms/step - loss: 0.3433 - mean_absolute_error: 0.4522 - val_loss: 0.3133 - val_mean_absolute_error: 0.4318\n",
      "Epoch 120/200\n",
      "1055/1055 [==============================] - 6s 6ms/step - loss: 0.3438 - mean_absolute_error: 0.4524 - val_loss: 0.3143 - val_mean_absolute_error: 0.4326\n",
      "Epoch 121/200\n",
      "1055/1055 [==============================] - 6s 6ms/step - loss: 0.3434 - mean_absolute_error: 0.4520 - val_loss: 0.3116 - val_mean_absolute_error: 0.4307\n",
      "Epoch 122/200\n",
      "1055/1055 [==============================] - 6s 6ms/step - loss: 0.3430 - mean_absolute_error: 0.4520 - val_loss: 0.3114 - val_mean_absolute_error: 0.4307\n",
      "Epoch 123/200\n",
      "1055/1055 [==============================] - 6s 6ms/step - loss: 0.3426 - mean_absolute_error: 0.4517 - val_loss: 0.3115 - val_mean_absolute_error: 0.4305\n",
      "Epoch 124/200\n",
      "1055/1055 [==============================] - 6s 6ms/step - loss: 0.3427 - mean_absolute_error: 0.4516 - val_loss: 0.3126 - val_mean_absolute_error: 0.4313\n",
      "Epoch 125/200\n",
      "1055/1055 [==============================] - 6s 6ms/step - loss: 0.3428 - mean_absolute_error: 0.4521 - val_loss: 0.3142 - val_mean_absolute_error: 0.4324\n",
      "Epoch 126/200\n",
      "1055/1055 [==============================] - 6s 6ms/step - loss: 0.3434 - mean_absolute_error: 0.4520 - val_loss: 0.3137 - val_mean_absolute_error: 0.4322\n",
      "Epoch 127/200\n",
      "1055/1055 [==============================] - 6s 6ms/step - loss: 0.3430 - mean_absolute_error: 0.4516 - val_loss: 0.3137 - val_mean_absolute_error: 0.4324\n",
      "Epoch 128/200\n",
      "1055/1055 [==============================] - 6s 6ms/step - loss: 0.3417 - mean_absolute_error: 0.4511 - val_loss: 0.3139 - val_mean_absolute_error: 0.4328\n",
      "Epoch 129/200\n",
      "1055/1055 [==============================] - 6s 6ms/step - loss: 0.3418 - mean_absolute_error: 0.4514 - val_loss: 0.3123 - val_mean_absolute_error: 0.4313\n",
      "Epoch 130/200\n",
      "1055/1055 [==============================] - 6s 6ms/step - loss: 0.3421 - mean_absolute_error: 0.4515 - val_loss: 0.3126 - val_mean_absolute_error: 0.4316\n",
      "Epoch 131/200\n",
      "1055/1055 [==============================] - 6s 6ms/step - loss: 0.3418 - mean_absolute_error: 0.4510 - val_loss: 0.3108 - val_mean_absolute_error: 0.4303\n",
      "Epoch 132/200\n",
      "1055/1055 [==============================] - 6s 6ms/step - loss: 0.3424 - mean_absolute_error: 0.4516 - val_loss: 0.3114 - val_mean_absolute_error: 0.4311\n",
      "Epoch 133/200\n",
      "1055/1055 [==============================] - 6s 6ms/step - loss: 0.3415 - mean_absolute_error: 0.4514 - val_loss: 0.3096 - val_mean_absolute_error: 0.4296\n",
      "Epoch 134/200\n",
      "1055/1055 [==============================] - 6s 6ms/step - loss: 0.3417 - mean_absolute_error: 0.4512 - val_loss: 0.3116 - val_mean_absolute_error: 0.4307\n",
      "Epoch 135/200\n",
      "1055/1055 [==============================] - 6s 6ms/step - loss: 0.3414 - mean_absolute_error: 0.4509 - val_loss: 0.3101 - val_mean_absolute_error: 0.4299\n",
      "Epoch 136/200\n",
      "1055/1055 [==============================] - 6s 6ms/step - loss: 0.3422 - mean_absolute_error: 0.4515 - val_loss: 0.3105 - val_mean_absolute_error: 0.4300\n",
      "Epoch 137/200\n",
      "1055/1055 [==============================] - 6s 6ms/step - loss: 0.3417 - mean_absolute_error: 0.4512 - val_loss: 0.3116 - val_mean_absolute_error: 0.4301\n",
      "Epoch 138/200\n",
      "1055/1055 [==============================] - 6s 6ms/step - loss: 0.3406 - mean_absolute_error: 0.4503 - val_loss: 0.3112 - val_mean_absolute_error: 0.4303\n",
      "Epoch 139/200\n",
      "1055/1055 [==============================] - 6s 6ms/step - loss: 0.3419 - mean_absolute_error: 0.4512 - val_loss: 0.3112 - val_mean_absolute_error: 0.4310\n",
      "Epoch 140/200\n",
      "1055/1055 [==============================] - 6s 6ms/step - loss: 0.3414 - mean_absolute_error: 0.4511 - val_loss: 0.3117 - val_mean_absolute_error: 0.4314\n",
      "Epoch 141/200\n",
      "1055/1055 [==============================] - 6s 6ms/step - loss: 0.3419 - mean_absolute_error: 0.4511 - val_loss: 0.3111 - val_mean_absolute_error: 0.4306\n",
      "Epoch 142/200\n",
      "1055/1055 [==============================] - 6s 6ms/step - loss: 0.3408 - mean_absolute_error: 0.4508 - val_loss: 0.3132 - val_mean_absolute_error: 0.4318\n",
      "Epoch 143/200\n",
      "1055/1055 [==============================] - 6s 6ms/step - loss: 0.3407 - mean_absolute_error: 0.4508 - val_loss: 0.3107 - val_mean_absolute_error: 0.4302\n",
      "Epoch 144/200\n",
      "1055/1055 [==============================] - 6s 6ms/step - loss: 0.3415 - mean_absolute_error: 0.4513 - val_loss: 0.3122 - val_mean_absolute_error: 0.4313\n",
      "Epoch 145/200\n",
      "1055/1055 [==============================] - 6s 6ms/step - loss: 0.3407 - mean_absolute_error: 0.4504 - val_loss: 0.3120 - val_mean_absolute_error: 0.4313\n",
      "Epoch 146/200\n",
      "1055/1055 [==============================] - 6s 6ms/step - loss: 0.3400 - mean_absolute_error: 0.4503 - val_loss: 0.3112 - val_mean_absolute_error: 0.4307\n",
      "Epoch 147/200\n",
      "1055/1055 [==============================] - 6s 6ms/step - loss: 0.3409 - mean_absolute_error: 0.4505 - val_loss: 0.3099 - val_mean_absolute_error: 0.4297\n",
      "Epoch 148/200\n",
      "1055/1055 [==============================] - 6s 6ms/step - loss: 0.3401 - mean_absolute_error: 0.4503 - val_loss: 0.3101 - val_mean_absolute_error: 0.4303\n",
      "Epoch 149/200\n",
      "1055/1055 [==============================] - 6s 6ms/step - loss: 0.3397 - mean_absolute_error: 0.4500 - val_loss: 0.3096 - val_mean_absolute_error: 0.4295\n",
      "Epoch 150/200\n",
      "1055/1055 [==============================] - 6s 6ms/step - loss: 0.3401 - mean_absolute_error: 0.4503 - val_loss: 0.3096 - val_mean_absolute_error: 0.4296\n",
      "Epoch 151/200\n",
      "1055/1055 [==============================] - 6s 6ms/step - loss: 0.3393 - mean_absolute_error: 0.4498 - val_loss: 0.3100 - val_mean_absolute_error: 0.4297\n",
      "Epoch 152/200\n",
      "1055/1055 [==============================] - 6s 6ms/step - loss: 0.3398 - mean_absolute_error: 0.4500 - val_loss: 0.3093 - val_mean_absolute_error: 0.4293\n",
      "Epoch 153/200\n",
      "1055/1055 [==============================] - 6s 6ms/step - loss: 0.3395 - mean_absolute_error: 0.4500 - val_loss: 0.3085 - val_mean_absolute_error: 0.4289\n",
      "Epoch 154/200\n",
      "1055/1055 [==============================] - 6s 6ms/step - loss: 0.3395 - mean_absolute_error: 0.4498 - val_loss: 0.3118 - val_mean_absolute_error: 0.4315\n",
      "Epoch 155/200\n",
      "1055/1055 [==============================] - 6s 6ms/step - loss: 0.3391 - mean_absolute_error: 0.4498 - val_loss: 0.3084 - val_mean_absolute_error: 0.4292\n",
      "Epoch 156/200\n",
      "1055/1055 [==============================] - 6s 6ms/step - loss: 0.3398 - mean_absolute_error: 0.4499 - val_loss: 0.3101 - val_mean_absolute_error: 0.4299\n",
      "Epoch 157/200\n",
      "1055/1055 [==============================] - 6s 6ms/step - loss: 0.3391 - mean_absolute_error: 0.4497 - val_loss: 0.3105 - val_mean_absolute_error: 0.4300\n",
      "Epoch 158/200\n",
      "1055/1055 [==============================] - 6s 6ms/step - loss: 0.3385 - mean_absolute_error: 0.4492 - val_loss: 0.3101 - val_mean_absolute_error: 0.4300\n",
      "Epoch 159/200\n",
      "1055/1055 [==============================] - 6s 6ms/step - loss: 0.3394 - mean_absolute_error: 0.4497 - val_loss: 0.3110 - val_mean_absolute_error: 0.4307\n",
      "Epoch 160/200\n",
      "1055/1055 [==============================] - 6s 6ms/step - loss: 0.3394 - mean_absolute_error: 0.4499 - val_loss: 0.3112 - val_mean_absolute_error: 0.4306\n",
      "Epoch 161/200\n",
      "1055/1055 [==============================] - 6s 6ms/step - loss: 0.3393 - mean_absolute_error: 0.4497 - val_loss: 0.3106 - val_mean_absolute_error: 0.4302\n",
      "Epoch 162/200\n",
      "1055/1055 [==============================] - 6s 6ms/step - loss: 0.3394 - mean_absolute_error: 0.4499 - val_loss: 0.3099 - val_mean_absolute_error: 0.4292\n",
      "Epoch 163/200\n",
      "1055/1055 [==============================] - 6s 6ms/step - loss: 0.3390 - mean_absolute_error: 0.4496 - val_loss: 0.3118 - val_mean_absolute_error: 0.4312\n",
      "Epoch 164/200\n",
      "1055/1055 [==============================] - 6s 6ms/step - loss: 0.3387 - mean_absolute_error: 0.4497 - val_loss: 0.3100 - val_mean_absolute_error: 0.4302\n",
      "Epoch 165/200\n",
      "1055/1055 [==============================] - 6s 6ms/step - loss: 0.3396 - mean_absolute_error: 0.4499 - val_loss: 0.3102 - val_mean_absolute_error: 0.4298\n",
      "Epoch 166/200\n",
      "1055/1055 [==============================] - 6s 6ms/step - loss: 0.3389 - mean_absolute_error: 0.4496 - val_loss: 0.3101 - val_mean_absolute_error: 0.4301\n",
      "Epoch 167/200\n",
      "1055/1055 [==============================] - 6s 6ms/step - loss: 0.3386 - mean_absolute_error: 0.4491 - val_loss: 0.3090 - val_mean_absolute_error: 0.4292\n",
      "Epoch 168/200\n",
      "1055/1055 [==============================] - 6s 6ms/step - loss: 0.3382 - mean_absolute_error: 0.4491 - val_loss: 0.3110 - val_mean_absolute_error: 0.4314\n",
      "Epoch 169/200\n",
      "1055/1055 [==============================] - 6s 6ms/step - loss: 0.3384 - mean_absolute_error: 0.4490 - val_loss: 0.3106 - val_mean_absolute_error: 0.4304\n",
      "Epoch 170/200\n",
      "1055/1055 [==============================] - 6s 6ms/step - loss: 0.3383 - mean_absolute_error: 0.4494 - val_loss: 0.3095 - val_mean_absolute_error: 0.4296\n",
      "Epoch 171/200\n",
      "1055/1055 [==============================] - 6s 6ms/step - loss: 0.3391 - mean_absolute_error: 0.4498 - val_loss: 0.3093 - val_mean_absolute_error: 0.4295\n",
      "Epoch 172/200\n",
      "1055/1055 [==============================] - 6s 6ms/step - loss: 0.3379 - mean_absolute_error: 0.4489 - val_loss: 0.3083 - val_mean_absolute_error: 0.4292\n",
      "Epoch 173/200\n",
      "1055/1055 [==============================] - 6s 6ms/step - loss: 0.3377 - mean_absolute_error: 0.4488 - val_loss: 0.3114 - val_mean_absolute_error: 0.4316\n",
      "Epoch 174/200\n",
      "1055/1055 [==============================] - 6s 6ms/step - loss: 0.3371 - mean_absolute_error: 0.4485 - val_loss: 0.3123 - val_mean_absolute_error: 0.4317\n",
      "Epoch 175/200\n",
      "1055/1055 [==============================] - 6s 6ms/step - loss: 0.3381 - mean_absolute_error: 0.4489 - val_loss: 0.3077 - val_mean_absolute_error: 0.4284\n",
      "Epoch 176/200\n",
      "1055/1055 [==============================] - 6s 6ms/step - loss: 0.3384 - mean_absolute_error: 0.4494 - val_loss: 0.3105 - val_mean_absolute_error: 0.4304\n",
      "Epoch 177/200\n",
      "1055/1055 [==============================] - 7s 6ms/step - loss: 0.3376 - mean_absolute_error: 0.4486 - val_loss: 0.3084 - val_mean_absolute_error: 0.4290\n",
      "Epoch 178/200\n",
      "1055/1055 [==============================] - 6s 6ms/step - loss: 0.3374 - mean_absolute_error: 0.4488 - val_loss: 0.3092 - val_mean_absolute_error: 0.4297\n",
      "Epoch 179/200\n",
      "1055/1055 [==============================] - 6s 6ms/step - loss: 0.3377 - mean_absolute_error: 0.4489 - val_loss: 0.3091 - val_mean_absolute_error: 0.4294\n",
      "Epoch 180/200\n",
      "1055/1055 [==============================] - 6s 6ms/step - loss: 0.3375 - mean_absolute_error: 0.4485 - val_loss: 0.3088 - val_mean_absolute_error: 0.4293\n",
      "Epoch 181/200\n",
      "1055/1055 [==============================] - 6s 6ms/step - loss: 0.3377 - mean_absolute_error: 0.4489 - val_loss: 0.3100 - val_mean_absolute_error: 0.4301\n",
      "Epoch 182/200\n",
      "1055/1055 [==============================] - 6s 6ms/step - loss: 0.3374 - mean_absolute_error: 0.4488 - val_loss: 0.3102 - val_mean_absolute_error: 0.4305\n",
      "Epoch 183/200\n",
      "1055/1055 [==============================] - 6s 6ms/step - loss: 0.3376 - mean_absolute_error: 0.4489 - val_loss: 0.3089 - val_mean_absolute_error: 0.4292\n",
      "Epoch 184/200\n",
      "1055/1055 [==============================] - 6s 6ms/step - loss: 0.3378 - mean_absolute_error: 0.4489 - val_loss: 0.3103 - val_mean_absolute_error: 0.4305\n",
      "Epoch 185/200\n",
      "1055/1055 [==============================] - 6s 6ms/step - loss: 0.3374 - mean_absolute_error: 0.4488 - val_loss: 0.3084 - val_mean_absolute_error: 0.4290\n",
      "Epoch 186/200\n",
      "1055/1055 [==============================] - 6s 6ms/step - loss: 0.3372 - mean_absolute_error: 0.4485 - val_loss: 0.3081 - val_mean_absolute_error: 0.4288\n",
      "Epoch 187/200\n",
      "1055/1055 [==============================] - 6s 6ms/step - loss: 0.3376 - mean_absolute_error: 0.4487 - val_loss: 0.3082 - val_mean_absolute_error: 0.4288\n",
      "Epoch 188/200\n",
      "1055/1055 [==============================] - 6s 6ms/step - loss: 0.3368 - mean_absolute_error: 0.4484 - val_loss: 0.3080 - val_mean_absolute_error: 0.4290\n",
      "Epoch 189/200\n",
      "1055/1055 [==============================] - 6s 6ms/step - loss: 0.3362 - mean_absolute_error: 0.4480 - val_loss: 0.3087 - val_mean_absolute_error: 0.4294\n",
      "Epoch 190/200\n",
      "1055/1055 [==============================] - 6s 6ms/step - loss: 0.3374 - mean_absolute_error: 0.4488 - val_loss: 0.3087 - val_mean_absolute_error: 0.4291\n",
      "Epoch 191/200\n",
      "1055/1055 [==============================] - 6s 6ms/step - loss: 0.3377 - mean_absolute_error: 0.4487 - val_loss: 0.3071 - val_mean_absolute_error: 0.4281\n",
      "Epoch 192/200\n",
      "1055/1055 [==============================] - 6s 6ms/step - loss: 0.3365 - mean_absolute_error: 0.4481 - val_loss: 0.3087 - val_mean_absolute_error: 0.4286\n",
      "Epoch 193/200\n",
      "1055/1055 [==============================] - 6s 6ms/step - loss: 0.3372 - mean_absolute_error: 0.4488 - val_loss: 0.3098 - val_mean_absolute_error: 0.4295\n",
      "Epoch 194/200\n",
      "1055/1055 [==============================] - 6s 6ms/step - loss: 0.3366 - mean_absolute_error: 0.4486 - val_loss: 0.3105 - val_mean_absolute_error: 0.4305\n",
      "Epoch 195/200\n",
      "1055/1055 [==============================] - 6s 6ms/step - loss: 0.3362 - mean_absolute_error: 0.4480 - val_loss: 0.3074 - val_mean_absolute_error: 0.4276\n",
      "Epoch 196/200\n",
      "1055/1055 [==============================] - 6s 6ms/step - loss: 0.3360 - mean_absolute_error: 0.4479 - val_loss: 0.3095 - val_mean_absolute_error: 0.4299\n",
      "Epoch 197/200\n",
      "1055/1055 [==============================] - 6s 6ms/step - loss: 0.3361 - mean_absolute_error: 0.4482 - val_loss: 0.3128 - val_mean_absolute_error: 0.4318\n",
      "Epoch 198/200\n",
      "1055/1055 [==============================] - 6s 6ms/step - loss: 0.3367 - mean_absolute_error: 0.4480 - val_loss: 0.3112 - val_mean_absolute_error: 0.4310\n",
      "Epoch 199/200\n",
      "1055/1055 [==============================] - 6s 6ms/step - loss: 0.3366 - mean_absolute_error: 0.4485 - val_loss: 0.3085 - val_mean_absolute_error: 0.4291\n",
      "Epoch 200/200\n",
      "1055/1055 [==============================] - 6s 6ms/step - loss: 0.3355 - mean_absolute_error: 0.4476 - val_loss: 0.3118 - val_mean_absolute_error: 0.4314\n"
     ]
    },
    {
     "name": "stderr",
     "output_type": "stream",
     "text": [
      "WARNING:absl:Found untraced functions such as _update_step_xla while saving (showing 1 of 1). These functions will not be directly callable after loading.\n"
     ]
    }
   ],
   "source": [
    "# reptile split data by task\n",
    "x_train, x_test, y_train, y_test = train_test_split_reptile(angles, positions, test_size=test_ratio)\n",
    "history = model.fit(x_train, y_train, epochs=200, batch_size=128, validation_data=(x_test, y_test))\n",
    "model.save('./two_link_arm_pretrained_R.model')\n",
    "with open('./two_link_arm_pretrained_R.history','wb') as f:\n",
    "    pickle.dump(history.history, f)\n",
    "    "
   ]
  },
  {
   "cell_type": "code",
   "execution_count": 38,
   "metadata": {},
   "outputs": [],
   "source": [
    "loss = history.history['loss']"
   ]
  },
  {
   "cell_type": "code",
   "execution_count": 39,
   "metadata": {},
   "outputs": [
    {
     "data": {
      "text/plain": [
       "[<matplotlib.lines.Line2D at 0x7fe9e139bca0>]"
      ]
     },
     "execution_count": 39,
     "metadata": {},
     "output_type": "execute_result"
    },
    {
     "data": {
      "image/png": "[encoded data removed]",
      "text/plain": [
       "<Figure size 640x480 with 1 Axes>"
      ]
     },
     "metadata": {},
     "output_type": "display_data"
    }
   ],
   "source": [
    "plt.plot(loss)"
   ]
  },
  {
   "cell_type": "code",
   "execution_count": 17,
   "metadata": {},
   "outputs": [],
   "source": [
    "def plot_model(model):\n",
    "    loss = model.history.history['loss']\n",
    "    plt.plot(loss)"
   ]
  },
  {
   "cell_type": "code",
   "execution_count": 18,
   "metadata": {},
   "outputs": [
    {
     "data": {
      "image/png": "[encoded data removed]",
      "text/plain": [
       "<Figure size 640x480 with 1 Axes>"
      ]
     },
     "metadata": {},
     "output_type": "display_data"
    }
   ],
   "source": [
    "plot_model(model)"
   ]
  },
  {
   "cell_type": "code",
   "execution_count": null,
   "metadata": {},
   "outputs": [],
   "source": []
  }
 ],
 "metadata": {
  "accelerator": "GPU",
  "colab": {
   "provenance": []
  },
  "gpuClass": "standard",
  "kernelspec": {
   "display_name": "base",
   "language": "python",
   "name": "python3"
  },
  "language_info": {
   "codemirror_mode": {
    "name": "ipython",
    "version": 3
   },
   "file_extension": ".py",
   "mimetype": "text/x-python",
   "name": "python",
   "nbconvert_exporter": "python",
   "pygments_lexer": "ipython3",
   "version": "3.8.3"
  },
  "vscode": {
   "interpreter": {
    "hash": "9e9dd1ae481486d48c9db6dc9dc7a9a7f82b64eba274b60c6e858d1cb03bdb70"
   }
  }
 },
 "nbformat": 4,
 "nbformat_minor": 4
}
