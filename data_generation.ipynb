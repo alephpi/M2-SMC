{
 "cells": [
  {
   "cell_type": "markdown",
   "metadata": {
    "id": "iiTA-Cwr5Pey"
   },
   "source": [
    "# Data Simulation"
   ]
  },
  {
   "cell_type": "code",
   "execution_count": 88,
   "id": "68c40416-2a80-48a1-9da6-b8287cb47cb6",
   "metadata": {},
   "outputs": [],
   "source": [
    "import numpy as np\n",
    "import matplotlib.pyplot as plt\n",
    "import random\n",
    "import torch\n",
    "from torch.utils.data import Dataset\n",
    "from tqdm import tqdm"
   ]
  },
  {
   "cell_type": "code",
   "execution_count": 76,
   "metadata": {},
   "outputs": [],
   "source": [
    "class TwoArmLinkDataset(Dataset):\n",
    "\tdef __init__(self, n_tasks=1500, n_episode=150, n_timesteps=10) -> None:\n",
    "\t\tsuper().__init__()\n",
    "\t\tself.x_0 = []\n",
    "\t\tself.u = []\n",
    "\t\tself.x = []\n",
    "\t\tself.z = []\n",
    "\t\tl_of_tasks = np.random.normal(loc=1, scale=0.3, size=(n_tasks,2))\n",
    "\t\tfor i in tqdm(range(n_tasks)):\n",
    "\t\t\tl = l_of_tasks[i]\n",
    "\t\t\tfor j in range(n_episode):\n",
    "\t\t\t\tx_0, u, x, z = TwoArmLinkDataset.generate_episode(l, n_timesteps)\n",
    "\t\t\t\tself.x_0.append(x_0)\n",
    "\t\t\t\tself.u.append(u)\n",
    "\t\t\t\tself.x.append(x)\n",
    "\t\t\t\tself.z.append(z)\n",
    "\n",
    "\tdef __getitem__(self, index):\n",
    "\t\tx_0 = self.x_0[index]\n",
    "\t\tu = self.u[index]\n",
    "\t\tx = self.x[index]\n",
    "\t\tz = self.z[index]\n",
    "\t\tsample = {\n",
    "\t\t\t\"init_pos\": torch.tensor(x_0),\n",
    "\t\t\t\"control\": torch.tensor(u),\n",
    "\t\t\t\"true_pos\": torch.tensor(x),\n",
    "\t\t\t\"noisy_pos\": torch.tensor(z),\n",
    "\t\t}\n",
    "\t\treturn sample\n",
    "\n",
    "\tdef __len__(self):\n",
    "\t\treturn len(self.x_0)\n",
    "\n",
    "\t@staticmethod\n",
    "\tdef generate_episode(l, n_timesteps):\n",
    "\t\tdef x_of_q(q, l):\n",
    "\t\t\t# q: array (2,) containing the two angles\n",
    "\t\t\t# l: array (2,) containing the limb lengths \n",
    "\t\t\tx = l[0] * np.cos(q[0]) + l[1] * np.cos(q[0] + q[1])\n",
    "\t\t\ty = l[0] * np.sin(q[0]) + l[1] * np.sin(q[0] + q[1])\n",
    "\t\t\treturn np.array([x, y])\n",
    "\t\tq_0 = np.random.uniform(low= -np.pi, high= np.pi, size=2)\n",
    "\t\tx_0 = x_of_q(q_0,l=l)\n",
    "\t\tu = np.random.randn(2, n_timesteps)\n",
    "\t\tq = u.cumsum(axis=1) + q_0.reshape(-1,1)\n",
    "\t\tx = x_of_q(q, l=l)\n",
    "\t\tz = x + np.random.normal(0, scale=0.001, size=(2, n_timesteps))\n",
    "\t\treturn x_0, u, x, z"
   ]
  },
  {
   "cell_type": "code",
   "execution_count": 77,
   "metadata": {},
   "outputs": [
    {
     "name": "stderr",
     "output_type": "stream",
     "text": [
      "100%|██████████| 1500/1500 [00:17<00:00, 84.69it/s] \n"
     ]
    }
   ],
   "source": [
    "dataset = TwoArmLinkDataset()"
   ]
  },
  {
   "cell_type": "code",
   "execution_count": 78,
   "metadata": {},
   "outputs": [
    {
     "data": {
      "text/plain": [
       "['__add__',\n",
       " '__class__',\n",
       " '__class_getitem__',\n",
       " '__delattr__',\n",
       " '__dict__',\n",
       " '__dir__',\n",
       " '__doc__',\n",
       " '__eq__',\n",
       " '__format__',\n",
       " '__ge__',\n",
       " '__getattribute__',\n",
       " '__getitem__',\n",
       " '__gt__',\n",
       " '__hash__',\n",
       " '__init__',\n",
       " '__init_subclass__',\n",
       " '__le__',\n",
       " '__len__',\n",
       " '__lt__',\n",
       " '__module__',\n",
       " '__ne__',\n",
       " '__new__',\n",
       " '__orig_bases__',\n",
       " '__parameters__',\n",
       " '__reduce__',\n",
       " '__reduce_ex__',\n",
       " '__repr__',\n",
       " '__setattr__',\n",
       " '__sizeof__',\n",
       " '__slots__',\n",
       " '__str__',\n",
       " '__subclasshook__',\n",
       " '__weakref__',\n",
       " '_is_protocol',\n",
       " 'generate_episode',\n",
       " 'u',\n",
       " 'x',\n",
       " 'x_0',\n",
       " 'z']"
      ]
     },
     "execution_count": 78,
     "metadata": {},
     "output_type": "execute_result"
    }
   ],
   "source": [
    "dir(dataset)"
   ]
  },
  {
   "cell_type": "code",
   "execution_count": 72,
   "metadata": {},
   "outputs": [],
   "source": [
    "torch.save(dataset, 'two_arm_link_dataset')"
   ]
  },
  {
   "cell_type": "code",
   "execution_count": 81,
   "metadata": {},
   "outputs": [
    {
     "data": {
      "text/plain": [
       "{'init_pos': tensor([-0.7607, -0.2701], dtype=torch.float64),\n",
       " 'control': tensor([[-0.2180, -0.3252, -1.2778, -1.5935, -0.8869,  0.9012, -0.4094,  0.3615,\n",
       "          -1.2734, -0.8315],\n",
       "         [ 1.5497, -0.0686,  0.8059,  1.9168,  1.0168,  1.1644, -0.2690, -1.3127,\n",
       "          -0.2142,  0.1618]], dtype=torch.float64),\n",
       " 'true_pos': tensor([[-1.0318, -0.8824,  0.2500,  1.2943,  0.8504,  0.7992,  0.7970,  1.1453,\n",
       "           0.5651, -0.3875],\n",
       "         [ 0.2449,  0.5508,  1.2350,  0.2021, -0.6153,  0.0369, -0.2219,  0.2395,\n",
       "          -1.0882, -1.1192]], dtype=torch.float64),\n",
       " 'noisy_pos': tensor([[-1.0319, -0.8820,  0.2501,  1.2941,  0.8501,  0.7976,  0.7963,  1.1453,\n",
       "           0.5641, -0.3853],\n",
       "         [ 0.2470,  0.5515,  1.2349,  0.2032, -0.6133,  0.0368, -0.2208,  0.2396,\n",
       "          -1.0883, -1.1180]], dtype=torch.float64)}"
      ]
     },
     "execution_count": 81,
     "metadata": {},
     "output_type": "execute_result"
    }
   ],
   "source": [
    "dataset[0]"
   ]
  },
  {
   "cell_type": "code",
   "execution_count": 79,
   "metadata": {},
   "outputs": [],
   "source": [
    "x = dataset[0]['true_pos']\n",
    "z = dataset[0]['noisy_pos']"
   ]
  },
  {
   "cell_type": "code",
   "execution_count": 85,
   "metadata": {},
   "outputs": [
    {
     "data": {
      "text/plain": [
       "<matplotlib.collections.PathCollection at 0x1e53f1d9700>"
      ]
     },
     "execution_count": 85,
     "metadata": {},
     "output_type": "execute_result"
    },
    {
     "data": {
      "image/png": "[encoded data removed]",
      "text/plain": [
       "<Figure size 500x500 with 1 Axes>"
      ]
     },
     "metadata": {},
     "output_type": "display_data"
    }
   ],
   "source": [
    "plt.figure(figsize=(5,5))\n",
    "plt.scatter(*x.numpy())\n",
    "plt.scatter(*z.numpy())"
   ]
  }
 ],
 "metadata": {
  "kernelspec": {
   "display_name": "base",
   "language": "python",
   "name": "python3"
  },
  "language_info": {
   "codemirror_mode": {
    "name": "ipython",
    "version": 3
   },
   "file_extension": ".py",
   "mimetype": "text/x-python",
   "name": "python",
   "nbconvert_exporter": "python",
   "pygments_lexer": "ipython3",
   "version": "3.9.12"
  },
  "orig_nbformat": 4,
  "vscode": {
   "interpreter": {
    "hash": "5179d32cf6ec497baf3f8a3ef987cc77c5d2dc691fdde20a56316522f61a7323"
   }
  }
 },
 "nbformat": 4,
 "nbformat_minor": 2
}
