{
 "cells": [
  {
   "cell_type": "markdown",
   "metadata": {
    "id": "iiTA-Cwr5Pey"
   },
   "source": [
    "# Data Simulation"
   ]
  },
  {
   "cell_type": "code",
   "execution_count": 1,
   "id": "68c40416-2a80-48a1-9da6-b8287cb47cb6",
   "metadata": {},
   "outputs": [],
   "source": [
    "import numpy as np\n",
    "import matplotlib.pyplot as plt\n",
    "import random\n",
    "import torch\n",
    "from torch.utils.data import Dataset\n",
    "from tqdm import tqdm"
   ]
  },
  {
   "attachments": {},
   "cell_type": "markdown",
   "metadata": {},
   "source": [
    "## pretraining data"
   ]
  },
  {
   "cell_type": "code",
   "execution_count": 3,
   "metadata": {},
   "outputs": [],
   "source": [
    "from typing import Literal\n",
    "\n",
    "class TwoArmLinkDataset(Dataset):\n",
    "\tdef __init__(self, n_tasks=1500, n_episode=150, n_timesteps=10, control: Literal['rand','pd'] = 'rand') -> None:\n",
    "\t\tsuper().__init__()\n",
    "\t\tself.x_0 = []\n",
    "\t\tself.u = []\n",
    "\t\tself.x = []\n",
    "\t\tself.z = []\n",
    "\t\tl_of_tasks = np.random.normal(loc=1, scale=0.3, size=(n_tasks,2))\n",
    "\t\tfor i in tqdm(range(n_tasks)):\n",
    "\t\t\tl = l_of_tasks[i]\n",
    "\t\t\tfor j in range(n_episode):\n",
    "\t\t\t\tx_0, u, x, z = TwoArmLinkDataset.generate_episode(l, n_timesteps, control=control)\n",
    "\t\t\t\tself.x_0.append(x_0)\n",
    "\t\t\t\tself.u.append(u)\n",
    "\t\t\t\tself.x.append(x)\n",
    "\t\t\t\tself.z.append(z)\n",
    "\n",
    "\tdef __getitem__(self, index):\n",
    "\t\tx_0 = self.x_0[index]\n",
    "\t\tu = self.u[index]\n",
    "\t\tx = self.x[index]\n",
    "\t\tz = self.z[index]\n",
    "\t\tsample = {\n",
    "\t\t\t\"init_pos\": torch.tensor(x_0),\n",
    "\t\t\t\"control\": torch.tensor(u),\n",
    "\t\t\t\"true_pos\": torch.tensor(x),\n",
    "\t\t\t\"noisy_pos\": torch.tensor(z),\n",
    "\t\t}\n",
    "\t\treturn sample\n",
    "\n",
    "\tdef __len__(self):\n",
    "\t\treturn len(self.x_0)\n",
    "\n",
    "\t@staticmethod\n",
    "\tdef generate_episode(l, n_timesteps, control: Literal['rand','pd']):\n",
    "\t\tdef x_of_q(q, l):\n",
    "\t\t\t'''\n",
    "\t\t\tq: array (2,) containing the two angles\n",
    "\t\t\tl: array (2,) containing the two limb lengths \n",
    "\t\t\t'''\n",
    "\t\t\tx = l[0] * np.cos(q[0]) + l[1] * np.cos(q[0] + q[1])\n",
    "\t\t\ty = l[0] * np.sin(q[0]) + l[1] * np.sin(q[0] + q[1])\n",
    "\t\t\treturn np.array([x, y])\n",
    "\t\t\n",
    "\t\tq_0 = np.random.uniform(low= -np.pi, high= np.pi, size=2)\n",
    "\t\tx_0 = x_of_q(q=q_0,l=l)\n",
    "\t\tu = np.random.randn(2, n_timesteps)\n",
    "\t\tq = u.cumsum(axis=1) + q_0.reshape(-1,1)\n",
    "\t\tx = x_of_q(q, l=l)\n",
    "\t\tz = x + np.random.normal(0, scale=0.001, size=(2, n_timesteps))\n",
    "\t\treturn x_0, u, x, z"
   ]
  },
  {
   "cell_type": "code",
   "execution_count": 9,
   "metadata": {},
   "outputs": [
    {
     "name": "stderr",
     "output_type": "stream",
     "text": [
      "100%|██████████| 1500/1500 [00:16<00:00, 91.14it/s] \n"
     ]
    }
   ],
   "source": [
    "dataset = TwoArmLinkDataset()"
   ]
  },
  {
   "cell_type": "code",
   "execution_count": 40,
   "metadata": {},
   "outputs": [
    {
     "data": {
      "text/plain": [
       "{'init_pos': tensor([-1.0859,  0.6642], dtype=torch.float64),\n",
       " 'control': tensor([[ 1.5262,  0.0481,  0.6559,  0.4097,  1.0826, -0.7199, -2.1535, -0.5783,\n",
       "           1.4463, -0.0688],\n",
       "         [ 0.7410, -0.7139,  2.1297, -1.2783,  1.1284, -0.3392,  0.0805,  1.1137,\n",
       "          -1.1610, -0.1723]], dtype=torch.float64),\n",
       " 'true_pos': tensor([[-0.4507, -0.6537,  0.7808,  0.9930,  0.8540,  1.2193, -0.7531, -0.6420,\n",
       "           0.2158,  0.0680],\n",
       "         [-1.2799, -1.0991, -0.7239, -0.9206,  0.7256, -0.1442, -0.9406, -0.3917,\n",
       "          -1.1993, -1.2612]], dtype=torch.float64),\n",
       " 'noisy_pos': tensor([[-0.4510, -0.6536,  0.7805,  0.9920,  0.8530,  1.2192, -0.7526, -0.6425,\n",
       "           0.2168,  0.0671],\n",
       "         [-1.2796, -1.0969, -0.7241, -0.9202,  0.7255, -0.1448, -0.9395, -0.3910,\n",
       "          -1.2004, -1.2626]], dtype=torch.float64)}"
      ]
     },
     "execution_count": 40,
     "metadata": {},
     "output_type": "execute_result"
    }
   ],
   "source": [
    "dataset[0]"
   ]
  },
  {
   "cell_type": "code",
   "execution_count": 6,
   "metadata": {},
   "outputs": [],
   "source": [
    "x = dataset[0]['true_pos']\n",
    "z = dataset[0]['noisy_pos']"
   ]
  },
  {
   "cell_type": "code",
   "execution_count": 7,
   "metadata": {},
   "outputs": [
    {
     "data": {
      "text/plain": [
       "<matplotlib.collections.PathCollection at 0x216342e9160>"
      ]
     },
     "execution_count": 7,
     "metadata": {},
     "output_type": "execute_result"
    },
    {
     "data": {
      "image/png": "[encoded data removed]",
      "text/plain": [
       "<Figure size 500x500 with 1 Axes>"
      ]
     },
     "metadata": {},
     "output_type": "display_data"
    }
   ],
   "source": [
    "plt.figure(figsize=(5,5))\n",
    "plt.scatter(*x.numpy())\n",
    "plt.scatter(*z.numpy())"
   ]
  },
  {
   "cell_type": "code",
   "execution_count": 72,
   "metadata": {},
   "outputs": [],
   "source": [
    "torch.save(dataset, 'two_arm_link_dataset')"
   ]
  },
  {
   "attachments": {},
   "cell_type": "markdown",
   "metadata": {},
   "source": [
    "## test data"
   ]
  },
  {
   "cell_type": "code",
   "execution_count": 2,
   "metadata": {},
   "outputs": [],
   "source": [
    "from math import pi,sqrt, cos, sin\n",
    "from typing import Literal\n",
    "\n",
    "class TwoArmLinkTestDataset(Dataset):\n",
    "\tdef __init__(self, n_tasks=100, n_episode=1, n_timesteps=200) -> None:\n",
    "\t\tsuper().__init__()\n",
    "\t\tself.l = []\n",
    "\t\tself.q_0 = []\n",
    "\t\tself.x_g = []\n",
    "\t\tself.x = []\n",
    "\t\tself.z = []\n",
    "\t\tl_of_tasks = np.random.normal(loc=1, scale=0.3, size=(n_tasks,2))\n",
    "\t\tfor i in tqdm(range(n_tasks)):\n",
    "\t\t\tl = l_of_tasks[i]\n",
    "\t\t\tself.l.append(l)\n",
    "\t\t\tfor j in range(n_episode):\n",
    "\t\t\t\tq_0, x_g, x, z = TwoArmLinkTestDataset.generate_episode(l, n_timesteps)\n",
    "\t\t\t\tself.q_0.append(q_0)\n",
    "\t\t\t\tself.x_g.append(x_g)\n",
    "\t\t\t\tself.x.append(x)\n",
    "\t\t\t\tself.z.append(z)\n",
    "\n",
    "\tdef __getitem__(self, index):\n",
    "\t\tl = self.l[index]\n",
    "\t\tq_0 = self.q_0[index]\n",
    "\t\tx_g = self.x_g[index]\n",
    "\t\tx = self.x[index]\n",
    "\t\tz = self.z[index]\n",
    "\t\tsample = {\n",
    "\t\t\t\"limb_len\": torch.tensor(l),\n",
    "\t\t\t\"init_pos\": torch.tensor(q_0),\n",
    "\t\t\t\"target_pos\": torch.tensor(x_g),\n",
    "\t\t\t\"true_pos\": torch.tensor(x),\n",
    "\t\t\t\"noisy_pos\": torch.tensor(z),\n",
    "\t\t}\n",
    "\t\treturn sample\n",
    "\n",
    "\tdef __len__(self):\n",
    "\t\treturn len(self.x_0)\n",
    "\n",
    "\t@staticmethod\n",
    "\tdef generate_episode(l, n_timesteps):\n",
    "\t\tdef fk(q, l):\n",
    "\t\t\t'''\n",
    "\t\t\tforward_kinematics\n",
    "\t\t\tq: array (2,) containing the two angles\n",
    "\t\t\tl: array (2,) containing the two limb lengths \n",
    "\t\t\t'''\n",
    "\t\t\tx = l[0] * np.cos(q[0]) + l[1] * np.cos(q[0] + q[1])\n",
    "\t\t\ty = l[0] * np.sin(q[0]) + l[1] * np.sin(q[0] + q[1])\n",
    "\t\t\treturn np.array([x, y])\n",
    "\t\tdef pd(q, x, xg, dq, k=[1,1e-2], l=l):\n",
    "\t\t\t'''\n",
    "\t\t\tpd control\n",
    "\t\t\tq : angle at time t array(2,)\n",
    "\t\t\tx : position at time t array(2,)\n",
    "\t\t\txg : target position array(2,)\n",
    "\t\t\tdq : control at t-1 array(2,)\n",
    "\t\t\tk : hyperparameter array(2,)\n",
    "\t\t\tl : link length array(2,)\n",
    "\t\t\t'''\n",
    "\t\t\ta = l[0]*np.sin(q[0])\n",
    "\t\t\tb = l[0]*np.cos(q[0])\n",
    "\t\t\tc = l[1] * np.sin(q[0] + q[1])\n",
    "\t\t\td = l[1] * np.cos(q[0] + q[1])\n",
    "\t\t\t# jac = np.array([[ -l[0] * np.sin(q[0]) - l[1] * np.sin(q[0] + q[1]), -l[1] * np.sin(q[0] + q[1])],\n",
    "\t\t\t# \t\t\t\t\t\t\t\t[ l[0] * np.cos(q[0]) + l[1] * np.cos(q[0] + q[1]), l[1] * np.cos(q[0] + q[1])]])\n",
    "\t\t\tjac = np.array([[ -a-c, -c],\n",
    "\t\t\t\t\t\t\t\t\t\t\t[ b+d, d]])\n",
    "\t\t\tu = - k[0] * np.matmul(jac , (x - xg)) - k[1] * dq\n",
    "\t\t\treturn u\n",
    "\t\tdef randpt_in_circle(radius):\n",
    "\t\t\tr = radius * sqrt(random.random())\n",
    "\t\t\ttheta = random.random() * 2 * pi\n",
    "\t\t\tx = r * cos(theta)\n",
    "\t\t\ty = r * sin(theta)\n",
    "\t\t\treturn np.array([x,y])\n",
    "\t\tq_0 = np.random.uniform(low= -np.pi, high= np.pi, size=2)\n",
    "\t\t# print(q_0)\n",
    "\t\tx_0 = fk(q=q_0,l=l)\n",
    "\t\tx_g = randpt_in_circle(radius=0.1) + x_0\n",
    "\t\tq_t = q_0.copy()\n",
    "\t\tq = []\n",
    "\t\tx = []\n",
    "\t\tu_t = 0\n",
    "\t\tfor i in range(n_timesteps):\n",
    "\t\t\tq.append(q_t)\n",
    "\t\t\tx_t = fk(q=q_t,l=l)\n",
    "\t\t\tx.append(x_t)\n",
    "\t\t\tu_t = pd(q_t, x=x_t, xg=x_g, dq=u_t)\n",
    "\t\t\tq_t += u_t\n",
    "\n",
    "\t\tx = np.asarray(x)\n",
    "\t\tz = x + np.random.normal(0, scale=0.001, size=x.shape)\n",
    "\t\treturn q_0, x_g, x, z"
   ]
  },
  {
   "cell_type": "code",
   "execution_count": 3,
   "metadata": {},
   "outputs": [
    {
     "name": "stderr",
     "output_type": "stream",
     "text": [
      "100%|██████████| 100/100 [00:00<00:00, 118.10it/s]\n"
     ]
    }
   ],
   "source": [
    "testset = TwoArmLinkTestDataset()"
   ]
  },
  {
   "cell_type": "code",
   "execution_count": 4,
   "metadata": {},
   "outputs": [],
   "source": [
    "torch.save(testset, 'two-links-arm-test')"
   ]
  },
  {
   "cell_type": "code",
   "execution_count": 26,
   "metadata": {},
   "outputs": [
    {
     "name": "stdout",
     "output_type": "stream",
     "text": [
      "0.19\n"
     ]
    }
   ],
   "source": [
    "singular = []\n",
    "for i in range(100):\n",
    "\tt = testset[i]\n",
    "\tinit_pos = t['init_pos'].numpy()\n",
    "\ttarget_pos = t['target_pos'].numpy()\n",
    "\ttrue_pos = t['true_pos'].numpy()\n",
    "\tif not np.allclose(true_pos[-1], target_pos, rtol=1):\n",
    "\t\tsingular.append(i)\n",
    "\n",
    "print(len(singular)/100)"
   ]
  },
  {
   "cell_type": "code",
   "execution_count": 27,
   "metadata": {},
   "outputs": [
    {
     "data": {
      "text/plain": [
       "[2, 3, 6, 28, 33, 34, 37, 39, 40, 60, 62, 63, 65, 67, 75, 81, 86, 92, 94]"
      ]
     },
     "execution_count": 27,
     "metadata": {},
     "output_type": "execute_result"
    }
   ],
   "source": [
    "singular"
   ]
  },
  {
   "cell_type": "code",
   "execution_count": 31,
   "metadata": {},
   "outputs": [],
   "source": [
    "def plot_trace(t):\n",
    "\tinit_pos = t['init_pos'].numpy()\n",
    "\ttarget_pos = t['target_pos'].numpy()\n",
    "\ttrue_pos = t['true_pos'].numpy()\n",
    "\tplt.figure()\n",
    "\tplt.scatter(*init_pos, label='init_pos')\n",
    "\tplt.scatter(*target_pos, label='target_pos')\n",
    "\tplt.plot(true_pos[50:,0], true_pos[50:,1], label='true_pos')\n",
    "\tplt.legend()"
   ]
  }
 ],
 "metadata": {
  "kernelspec": {
   "display_name": "base",
   "language": "python",
   "name": "python3"
  },
  "language_info": {
   "codemirror_mode": {
    "name": "ipython",
    "version": 3
   },
   "file_extension": ".py",
   "mimetype": "text/x-python",
   "name": "python",
   "nbconvert_exporter": "python",
   "pygments_lexer": "ipython3",
   "version": "3.9.12"
  },
  "orig_nbformat": 4,
  "vscode": {
   "interpreter": {
    "hash": "5179d32cf6ec497baf3f8a3ef987cc77c5d2dc691fdde20a56316522f61a7323"
   }
  }
 },
 "nbformat": 4,
 "nbformat_minor": 2
}
