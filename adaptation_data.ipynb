{
 "cells": [
  {
   "cell_type": "code",
   "execution_count": 1,
   "id": "68c40416-2a80-48a1-9da6-b8287cb47cb6",
   "metadata": {},
   "outputs": [],
   "source": [
    "import numpy as np\n",
    "import matplotlib.pyplot as plt\n",
    "import torch\n",
    "from torch.utils.data import Dataset\n",
    "from tqdm import tqdm\n",
    "from utils import *"
   ]
  },
  {
   "attachments": {},
   "cell_type": "markdown",
   "metadata": {},
   "source": [
    "## simulate test data"
   ]
  },
  {
   "cell_type": "code",
   "execution_count": 2,
   "metadata": {},
   "outputs": [],
   "source": [
    "class TwoArmLinkTestDataset(Dataset):\n",
    "\tdef __init__(self, n_tasks=100, n_episode=1, n_timesteps=200) -> None:\n",
    "\t\tsuper().__init__()\n",
    "\t\tself.l = []\n",
    "\t\tself.adapt = {\n",
    "\t\t\t'q':[],\n",
    "\t\t\t'x':[],\n",
    "\t\t\t'z':[]}\n",
    "\t\tself.test = {\n",
    "\t\t\t'q0':[],\n",
    "\t\t\t'xg':[],\n",
    "\t\t\t'x':[],\n",
    "\t\t\t'z':[],\n",
    "\t\t}\n",
    "\t\tl_of_tasks = np.random.normal(loc=1, scale=0.3, size=(n_tasks,2))\n",
    "\t\tfor i in tqdm(range(n_tasks)):\n",
    "\t\t\tl = l_of_tasks[i]\n",
    "\t\t\tself.l.append(l)\n",
    "\t\t\tfor j in range(n_episode):\n",
    "\t\t\t\t# generate motor babbling\n",
    "\t\t\t\tq, x, z = generate_motor_babbling_episode(l, n_timesteps)\n",
    "\t\t\t\tself.adapt['q'].append(q)\n",
    "\t\t\t\tself.adapt['x'].append(x)\n",
    "\t\t\t\tself.adapt['z'].append(z)\n",
    "\t\t\t\t# generate pd control\n",
    "\t\t\t\tq_0, x_g, x, z = generate_pd_control_episode(l, n_timesteps)\n",
    "\t\t\t\tself.test['q0'].append(q_0)\n",
    "\t\t\t\tself.test['xg'].append(x_g)\n",
    "\t\t\t\tself.test['x'].append(x)\n",
    "\t\t\t\tself.test['z'].append(z)\n",
    "\n",
    "\tdef __getitem__(self, index):\n",
    "\t\tsample = {\n",
    "\t\t'adapt':{\n",
    "\t\t\t'angle': torch.tensor(self.adapt['q'][index]),\n",
    "\t\t\t'true_pos': torch.tensor(self.adapt['x'][index]),\n",
    "\t\t\t'noisy_pos': torch.tensor(self.adapt['z'][index]),\n",
    "\t\t},\n",
    "\t\t'test': {\n",
    "\t\t\t\"init_angle\": torch.tensor(self.test['q0'][index]),\n",
    "\t\t\t\"target_pos\": torch.tensor(self.test['xg'][index]),\n",
    "\t\t\t\"true_pos\": torch.tensor(self.test['x'][index]),\n",
    "\t\t\t\"noisy_pos\": torch.tensor(self.test['z'][index]),\n",
    "\t\t}}\n",
    "\t\treturn sample\n",
    "\n",
    "\tdef __len__(self):\n",
    "\t\treturn len(self.x_0)"
   ]
  },
  {
   "cell_type": "code",
   "execution_count": 3,
   "metadata": {},
   "outputs": [
    {
     "name": "stderr",
     "output_type": "stream",
     "text": [
      "100%|██████████| 100/100 [00:00<00:00, 110.54it/s]\n"
     ]
    }
   ],
   "source": [
    "testset = TwoArmLinkTestDataset()"
   ]
  },
  {
   "cell_type": "code",
   "execution_count": 4,
   "metadata": {},
   "outputs": [],
   "source": [
    "torch.save(testset, 'two_links_arm_test')"
   ]
  },
  {
   "cell_type": "code",
   "execution_count": 5,
   "metadata": {},
   "outputs": [],
   "source": [
    "t = testset[0]['adapt']\n",
    "x = t['true_pos']\n",
    "z = t['noisy_pos']"
   ]
  },
  {
   "cell_type": "code",
   "execution_count": 6,
   "metadata": {},
   "outputs": [
    {
     "data": {
      "text/plain": [
       "<matplotlib.collections.PathCollection at 0x1eed6633dc0>"
      ]
     },
     "execution_count": 6,
     "metadata": {},
     "output_type": "execute_result"
    },
    {
     "data": {
      "image/png": "[encoded data removed]",
      "text/plain": [
       "<Figure size 500x500 with 1 Axes>"
      ]
     },
     "metadata": {},
     "output_type": "display_data"
    }
   ],
   "source": [
    "plt.figure(figsize=(5,5))\n",
    "plt.scatter(*x.numpy())\n",
    "plt.scatter(*z.numpy())"
   ]
  },
  {
   "cell_type": "code",
   "execution_count": 7,
   "metadata": {},
   "outputs": [
    {
     "name": "stdout",
     "output_type": "stream",
     "text": [
      "[1.26156726 1.08049519]\n"
     ]
    }
   ],
   "source": [
    "t = testset[0]['test']\n",
    "init_pos = t['init_angle'].numpy()\n",
    "target_pos = t['target_pos'].numpy()\n",
    "true_pos = t['true_pos'].numpy()\n",
    "for pos in true_pos:\n",
    "\tprint(pos)\n",
    "\tbreak"
   ]
  },
  {
   "cell_type": "code",
   "execution_count": 13,
   "metadata": {},
   "outputs": [
    {
     "name": "stdout",
     "output_type": "stream",
     "text": [
      "0.0\n"
     ]
    }
   ],
   "source": [
    "singular = []\n",
    "flag = False\n",
    "for i in range(100):\n",
    "\tt = testset[i]['test']\n",
    "\tinit_pos = t['init_angle'].numpy()\n",
    "\ttarget_pos = t['target_pos'].numpy()\n",
    "\ttrue_pos = t['true_pos'].numpy()\n",
    "\tfor pos in true_pos:\n",
    "\t\tif np.allclose(pos, target_pos):\n",
    "\t\t\tflag = True\n",
    "\t\t\tbreak\n",
    "\tif not flag:\n",
    "\t\tsingular.append(i) \n",
    "print(len(singular)/100)"
   ]
  },
  {
   "cell_type": "code",
   "execution_count": 14,
   "metadata": {},
   "outputs": [
    {
     "data": {
      "text/plain": [
       "[]"
      ]
     },
     "execution_count": 14,
     "metadata": {},
     "output_type": "execute_result"
    }
   ],
   "source": [
    "singular"
   ]
  },
  {
   "cell_type": "code",
   "execution_count": 15,
   "metadata": {},
   "outputs": [],
   "source": [
    "def plot_trace(t):\n",
    "\tinit_pos = t['init_pos'].numpy()\n",
    "\ttarget_pos = t['target_pos'].numpy()\n",
    "\ttrue_pos = t['true_pos'].numpy()\n",
    "\tplt.figure()\n",
    "\tplt.scatter(*init_pos, label='init_pos')\n",
    "\tplt.scatter(*target_pos, label='target_pos')\n",
    "\tplt.plot(true_pos[50:,0], true_pos[50:,1], label='true_pos')\n",
    "\tplt.legend()"
   ]
  },
  {
   "cell_type": "code",
   "execution_count": 16,
   "metadata": {},
   "outputs": [],
   "source": [
    "for i in singular:\n",
    "\tplot_trace(testset[i])"
   ]
  }
 ],
 "metadata": {
  "kernelspec": {
   "display_name": "base",
   "language": "python",
   "name": "python3"
  },
  "language_info": {
   "codemirror_mode": {
    "name": "ipython",
    "version": 3
   },
   "file_extension": ".py",
   "mimetype": "text/x-python",
   "name": "python",
   "nbconvert_exporter": "python",
   "pygments_lexer": "ipython3",
   "version": "3.9.12"
  },
  "orig_nbformat": 4,
  "vscode": {
   "interpreter": {
    "hash": "5179d32cf6ec497baf3f8a3ef987cc77c5d2dc691fdde20a56316522f61a7323"
   }
  }
 },
 "nbformat": 4,
 "nbformat_minor": 2
}
