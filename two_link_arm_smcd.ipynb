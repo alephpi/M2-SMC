{
 "cells": [
  {
   "cell_type": "markdown",
   "metadata": {},
   "source": [
    "# import"
   ]
  },
  {
   "cell_type": "code",
   "execution_count": 1,
   "metadata": {},
   "outputs": [],
   "source": [
    "import numpy as np\n",
    "import matplotlib.pyplot as plt\n",
    "import torch\n",
    "from torch.utils.data import Dataset, DataLoader\n",
    "from torch import nn\n",
    "import scipy.stats as st\n",
    "import random\n",
    "from tqdm import tqdm\n",
    "\n",
    "from model import *\n",
    "from dataset import *\n",
    "from utils import *"
   ]
  },
  {
   "cell_type": "code",
   "execution_count": 2,
   "metadata": {},
   "outputs": [],
   "source": [
    "hyperparams = {\n",
    "        'n_tasks': 1000,\n",
    "        'n_episode': 150,\n",
    "        'n_timesteps': 10,\n",
    "        'input_dim': 2, \n",
    "        'hidden_dim': 512,\n",
    "        'output_dim': 2,\n",
    "        'lr': 1e-4,\n",
    "        'batch_size': 128,\n",
    "        'n_epochs': 100,\n",
    "        }"
   ]
  },
  {
   "cell_type": "markdown",
   "metadata": {},
   "source": [
    "# Load model"
   ]
  },
  {
   "cell_type": "code",
   "execution_count": 3,
   "metadata": {},
   "outputs": [],
   "source": [
    "# device = torch.device(\"cuda\" if torch.cuda.is_available() else \"cpu\")\n",
    "device = torch.device(\"cpu\")\n",
    "def load_model(n_particle=1):\n",
    "    model = MyModel(input_dim=hyperparams['input_dim'], hidden_dim=hyperparams['hidden_dim'],\n",
    "                    output_dim=hyperparams['output_dim'], n_particle=n_particle).to(device)\n",
    "    checkpoint = torch.load('Task1_multiTask.pth.tar', map_location=device)\n",
    "    model.load_state_dict(checkpoint['state_dict'])\n",
    "    model.eval()\n",
    "    return model"
   ]
  },
  {
   "cell_type": "markdown",
   "metadata": {},
   "source": [
    "# Load data"
   ]
  },
  {
   "cell_type": "code",
   "execution_count": 4,
   "metadata": {},
   "outputs": [],
   "source": [
    "dataset = torch.load('./two_links_arm_test')\n",
    "adapt_data = [data['adapt'] for data in dataset]\n",
    "test_data = [data['test'] for data in dataset]"
   ]
  },
  {
   "cell_type": "code",
   "execution_count": 18,
   "metadata": {},
   "outputs": [
    {
     "data": {
      "text/plain": [
       "torch.Size([2])"
      ]
     },
     "execution_count": 18,
     "metadata": {},
     "output_type": "execute_result"
    }
   ],
   "source": [
    "adapt_data[0]['angle'][:,0].shape"
   ]
  },
  {
   "cell_type": "code",
   "execution_count": 19,
   "metadata": {},
   "outputs": [],
   "source": [
    "mask = torch.ones(size=(20,512), dtype=torch.float32, requires_grad=False)"
   ]
  },
  {
   "cell_type": "code",
   "execution_count": 30,
   "metadata": {},
   "outputs": [],
   "source": [
    "a = torch.rand(size=(1,512))"
   ]
  },
  {
   "cell_type": "code",
   "execution_count": 31,
   "metadata": {},
   "outputs": [
    {
     "data": {
      "text/plain": [
       "torch.Size([20, 512])"
      ]
     },
     "execution_count": 31,
     "metadata": {},
     "output_type": "execute_result"
    }
   ],
   "source": [
    "(a * mask).shape"
   ]
  },
  {
   "attachments": {},
   "cell_type": "markdown",
   "metadata": {},
   "source": [
    "either one x, multiple mask(multiple particle moving), either a batch of x, one mask(one best particle moving)"
   ]
  },
  {
   "cell_type": "markdown",
   "metadata": {},
   "source": [
    "# Adaptation "
   ]
  },
  {
   "cell_type": "code",
   "execution_count": 16,
   "metadata": {},
   "outputs": [],
   "source": [
    "def smcd(T, N, adapt_data, d=0.05):\n",
    "    '''\n",
    "    model: neural network\n",
    "    T: adaptation timestep\n",
    "\tN: particle numbers\n",
    "\tadapt_data: as name\n",
    "\td: flip rate\n",
    "\t'''\n",
    "    model = load_model(n_particle=N)\n",
    "    q = adapt_data['angle']\n",
    "    # z = adapt_data['noisy_pos']\n",
    "    z = adapt_data['true_pos']\n",
    "    n_features = model.get_dropout_mask().shape[1]\n",
    "\t# initialize M_0\n",
    "    # M = np.random.randint(low=0,high=2,size=(n_features, N))\n",
    "    M = np.ones((n_features, N), dtype=np.int8)\n",
    "    M_best = np.ones(n_features)\n",
    "    assert T <= q.shape[-1], f'T should be less than {q.shape[-1]}'\n",
    "    assert not model.training, f'please call model.eval()'\n",
    "    M_bests = []\n",
    "    for t in tqdm(range(T)):\n",
    "        M = flip(M,d)\n",
    "        M[:,0] = M_best # replace one particle by the last best one (no mutation for the last champion particle)\n",
    "        # w = []\n",
    "        model.update_dropout_mask(M.swapaxes(1,0))\n",
    "        X = model(q[:,t].to(device, dtype=torch.float32)).detach().numpy()\n",
    "        # for i in range(N):\n",
    "        #     w_i = st.multivariate_normal.pdf(z[:,t].detach().numpy(), mean=X[i], cov=0.001)\n",
    "        #     w.append(w_i)\n",
    "        # to benefit from vectorization we replace p(z_t|x_i) by p(x_i|z_t)\n",
    "        logW = st.multivariate_normal.logpdf(X, mean=z[:,t].detach().numpy(), cov=0.0001)\n",
    "        W = exp_and_normalise(logW)\n",
    "        # print(W.shape)\n",
    "        # print(w)\n",
    "        # N_eff = int(1 / np.sum((np.asarray(w)) ** 2))\n",
    "        # print(N_eff)\n",
    "        if W.sum() != 0: #if w not valid, no update for M_best\n",
    "            resample_index = resample(range(N), W)\n",
    "            M = np.take(M, resample_index, axis=1)\n",
    "            M_best = (M.mean(axis=1) > 0.5).astype(np.int_)\n",
    "        M_bests.append(M_best)\n",
    "    return M_bests"
   ]
  },
  {
   "cell_type": "code",
   "execution_count": 9,
   "metadata": {},
   "outputs": [],
   "source": [
    "def smcd(model: MyModel, T, N, adapt_data, d=0.05):\n",
    "    '''\n",
    "    model: neural network\n",
    "    T: adaptation timestep\n",
    "\tN: particle numbers\n",
    "\tadapt_data: as name\n",
    "\td: flip rate\n",
    "\t'''\n",
    "    q = adapt_data['angle']\n",
    "    # z = adapt_data['noisy_pos']\n",
    "    z = adapt_data['true_pos']\n",
    "    n_features = model.get_dropout_mask().shape[0]\n",
    "\t# initialize M_0\n",
    "    # M = np.random.randint(low=0,high=2,size=(n_features, N))\n",
    "    M = np.ones((n_features, N), dtype=np.int8)\n",
    "    M_best = np.ones(n_features)\n",
    "    assert T <= q.shape[-1], f'T should be less than {q.shape[-1]}'\n",
    "    assert not model.training, f'please call model.eval()'\n",
    "    M_bests = []\n",
    "    for t in tqdm(range(T)):\n",
    "        M = flip(M,d)\n",
    "        M[:,0] = M_best # replace one particle by the last best one (no mutation for the last champion particle)\n",
    "        w = []\n",
    "        for i in range(N):\n",
    "            model.update_dropout_mask(M[:,i])\n",
    "            x_i = model(q[:,t].to(device, dtype=torch.float32)).detach().numpy()\n",
    "            w_i = st.multivariate_normal.pdf(z[:,t].detach().numpy(), mean=x_i, cov=0.001)\n",
    "            w.append(w_i)\n",
    "        # print(w)\n",
    "        # N_eff = int(1 / np.sum((np.asarray(w)) ** 2))\n",
    "        # print(N_eff)\n",
    "        if sum(w) != 0:\n",
    "            resample_index = resample(range(N), w)\n",
    "            M = np.take(M, resample_index, axis=1)\n",
    "            M_best = (M.mean(axis=1) > 0.5).astype(np.int_)\n",
    "        M_bests.append(M_best)\n",
    "    return M_bests"
   ]
  },
  {
   "cell_type": "code",
   "execution_count": 21,
   "metadata": {
    "collapsed": true,
    "jupyter": {
     "outputs_hidden": true
    },
    "tags": []
   },
   "outputs": [],
   "source": [
    "def adapt_smcd(adapt_timestep=10, n_particles=300):\n",
    "    losses = []\n",
    "    losses_no_adaptation = []\n",
    "    criterion = nn.MSELoss()\n",
    "    M_best_per_task = []\n",
    "    for i in range(len(adapt_data)):\n",
    "        model = load_model()\n",
    "        q = adapt_data[i]['angle'].to(torch.float32).swapaxes(1,0)\n",
    "        x = adapt_data[i]['true_pos'].to(torch.float32).swapaxes(1,0)\n",
    "        x_noadapt = model(q).detach()\n",
    "        \n",
    "        M_best = smcd(adapt_timestep, n_particles, adapt_data[i], d=0.15)\n",
    "        M_best_per_task.append(M_best[-1].reshape(1,-1))\n",
    "        model.update_dropout_mask(M_best[-1].reshape(1,-1))\n",
    "        x_pred = model(q).detach()\n",
    "        \n",
    "        loss = criterion(x_pred, x)\n",
    "        loss_no_adapt = criterion(x_noadapt, x)\n",
    "        # print(f\"For {i}th task, loss after adaptation is {round(loss.item(), 3)}, limb length is {dataset.l[i]}\")\n",
    "        # print(f\"For {i}th task, loss after adaptation is {round(loss.item(), 3)}, No adaptation loss is {round(loss_no_adapt.item(), 3)}, limb length is {dataset.l[i]}\")\n",
    "        print(f\"For {i}th task, loss after adaptation is {round(loss.item(), 3)}, No adaptation loss is {round(loss_no_adapt.item(), 3)}\")\n",
    "        losses.append(loss)\n",
    "        losses_no_adaptation.append(loss_no_adapt)\n",
    "    return losses, losses_no_adaptation, M_best_per_task"
   ]
  },
  {
   "cell_type": "code",
   "execution_count": 22,
   "metadata": {},
   "outputs": [
    {
     "name": "stderr",
     "output_type": "stream",
     "text": [
      "100%|██████████| 100/100 [00:03<00:00, 32.72it/s]\n"
     ]
    },
    {
     "name": "stdout",
     "output_type": "stream",
     "text": [
      "For 0th task, loss after adaptation is 1.575, No adaptation loss is 1.522\n"
     ]
    },
    {
     "name": "stderr",
     "output_type": "stream",
     "text": [
      "100%|██████████| 100/100 [00:02<00:00, 35.90it/s]\n"
     ]
    },
    {
     "name": "stdout",
     "output_type": "stream",
     "text": [
      "For 1th task, loss after adaptation is 0.77, No adaptation loss is 0.823\n"
     ]
    },
    {
     "name": "stderr",
     "output_type": "stream",
     "text": [
      "100%|██████████| 100/100 [00:02<00:00, 35.30it/s]\n"
     ]
    },
    {
     "name": "stdout",
     "output_type": "stream",
     "text": [
      "For 2th task, loss after adaptation is 0.404, No adaptation loss is 0.629\n"
     ]
    },
    {
     "name": "stderr",
     "output_type": "stream",
     "text": [
      "100%|██████████| 100/100 [00:02<00:00, 36.76it/s]\n"
     ]
    },
    {
     "name": "stdout",
     "output_type": "stream",
     "text": [
      "For 3th task, loss after adaptation is 0.088, No adaptation loss is 0.454\n"
     ]
    },
    {
     "name": "stderr",
     "output_type": "stream",
     "text": [
      "100%|██████████| 100/100 [00:02<00:00, 34.63it/s]\n"
     ]
    },
    {
     "name": "stdout",
     "output_type": "stream",
     "text": [
      "For 4th task, loss after adaptation is 1.836, No adaptation loss is 2.0\n"
     ]
    },
    {
     "name": "stderr",
     "output_type": "stream",
     "text": [
      "100%|██████████| 100/100 [00:02<00:00, 36.51it/s]\n"
     ]
    },
    {
     "name": "stdout",
     "output_type": "stream",
     "text": [
      "For 5th task, loss after adaptation is 1.293, No adaptation loss is 1.34\n"
     ]
    },
    {
     "name": "stderr",
     "output_type": "stream",
     "text": [
      "100%|██████████| 100/100 [00:02<00:00, 34.67it/s]\n"
     ]
    },
    {
     "name": "stdout",
     "output_type": "stream",
     "text": [
      "For 6th task, loss after adaptation is 0.707, No adaptation loss is 0.913\n"
     ]
    },
    {
     "name": "stderr",
     "output_type": "stream",
     "text": [
      "100%|██████████| 100/100 [00:02<00:00, 35.13it/s]\n"
     ]
    },
    {
     "name": "stdout",
     "output_type": "stream",
     "text": [
      "For 7th task, loss after adaptation is 1.077, No adaptation loss is 1.172\n"
     ]
    },
    {
     "name": "stderr",
     "output_type": "stream",
     "text": [
      "100%|██████████| 100/100 [00:02<00:00, 37.09it/s]\n"
     ]
    },
    {
     "name": "stdout",
     "output_type": "stream",
     "text": [
      "For 8th task, loss after adaptation is 0.466, No adaptation loss is 0.784\n"
     ]
    },
    {
     "name": "stderr",
     "output_type": "stream",
     "text": [
      "100%|██████████| 100/100 [00:02<00:00, 35.59it/s]\n"
     ]
    },
    {
     "name": "stdout",
     "output_type": "stream",
     "text": [
      "For 9th task, loss after adaptation is 0.253, No adaptation loss is 0.398\n"
     ]
    },
    {
     "name": "stderr",
     "output_type": "stream",
     "text": [
      "100%|██████████| 100/100 [00:02<00:00, 37.68it/s]\n"
     ]
    },
    {
     "name": "stdout",
     "output_type": "stream",
     "text": [
      "For 10th task, loss after adaptation is 0.861, No adaptation loss is 0.88\n"
     ]
    },
    {
     "name": "stderr",
     "output_type": "stream",
     "text": [
      "100%|██████████| 100/100 [00:02<00:00, 37.14it/s]\n"
     ]
    },
    {
     "name": "stdout",
     "output_type": "stream",
     "text": [
      "For 11th task, loss after adaptation is 0.909, No adaptation loss is 1.023\n"
     ]
    },
    {
     "name": "stderr",
     "output_type": "stream",
     "text": [
      "100%|██████████| 100/100 [00:02<00:00, 38.45it/s]\n"
     ]
    },
    {
     "name": "stdout",
     "output_type": "stream",
     "text": [
      "For 12th task, loss after adaptation is 1.107, No adaptation loss is 1.131\n"
     ]
    },
    {
     "name": "stderr",
     "output_type": "stream",
     "text": [
      "100%|██████████| 100/100 [00:02<00:00, 36.73it/s]\n"
     ]
    },
    {
     "name": "stdout",
     "output_type": "stream",
     "text": [
      "For 13th task, loss after adaptation is 0.809, No adaptation loss is 0.923\n"
     ]
    },
    {
     "name": "stderr",
     "output_type": "stream",
     "text": [
      "100%|██████████| 100/100 [00:02<00:00, 38.86it/s]\n"
     ]
    },
    {
     "name": "stdout",
     "output_type": "stream",
     "text": [
      "For 14th task, loss after adaptation is 0.415, No adaptation loss is 0.783\n"
     ]
    },
    {
     "name": "stderr",
     "output_type": "stream",
     "text": [
      "100%|██████████| 100/100 [00:02<00:00, 36.36it/s]\n"
     ]
    },
    {
     "name": "stdout",
     "output_type": "stream",
     "text": [
      "For 15th task, loss after adaptation is 0.606, No adaptation loss is 0.722\n"
     ]
    },
    {
     "name": "stderr",
     "output_type": "stream",
     "text": [
      "100%|██████████| 100/100 [00:02<00:00, 39.09it/s]\n"
     ]
    },
    {
     "name": "stdout",
     "output_type": "stream",
     "text": [
      "For 16th task, loss after adaptation is 0.866, No adaptation loss is 0.973\n"
     ]
    },
    {
     "name": "stderr",
     "output_type": "stream",
     "text": [
      "100%|██████████| 100/100 [00:02<00:00, 38.48it/s]\n"
     ]
    },
    {
     "name": "stdout",
     "output_type": "stream",
     "text": [
      "For 17th task, loss after adaptation is 1.206, No adaptation loss is 1.278\n"
     ]
    },
    {
     "name": "stderr",
     "output_type": "stream",
     "text": [
      "100%|██████████| 100/100 [00:02<00:00, 37.81it/s]\n"
     ]
    },
    {
     "name": "stdout",
     "output_type": "stream",
     "text": [
      "For 18th task, loss after adaptation is 0.959, No adaptation loss is 1.021\n"
     ]
    },
    {
     "name": "stderr",
     "output_type": "stream",
     "text": [
      "100%|██████████| 100/100 [00:02<00:00, 36.65it/s]\n"
     ]
    },
    {
     "name": "stdout",
     "output_type": "stream",
     "text": [
      "For 19th task, loss after adaptation is 1.587, No adaptation loss is 1.573\n"
     ]
    },
    {
     "name": "stderr",
     "output_type": "stream",
     "text": [
      "100%|██████████| 100/100 [00:02<00:00, 38.09it/s]\n"
     ]
    },
    {
     "name": "stdout",
     "output_type": "stream",
     "text": [
      "For 20th task, loss after adaptation is 1.022, No adaptation loss is 1.053\n"
     ]
    },
    {
     "name": "stderr",
     "output_type": "stream",
     "text": [
      "100%|██████████| 100/100 [00:02<00:00, 39.17it/s]\n"
     ]
    },
    {
     "name": "stdout",
     "output_type": "stream",
     "text": [
      "For 21th task, loss after adaptation is 0.972, No adaptation loss is 1.111\n"
     ]
    },
    {
     "name": "stderr",
     "output_type": "stream",
     "text": [
      "100%|██████████| 100/100 [00:02<00:00, 37.90it/s]\n"
     ]
    },
    {
     "name": "stdout",
     "output_type": "stream",
     "text": [
      "For 22th task, loss after adaptation is 0.775, No adaptation loss is 1.261\n"
     ]
    },
    {
     "name": "stderr",
     "output_type": "stream",
     "text": [
      "100%|██████████| 100/100 [00:02<00:00, 37.07it/s]\n"
     ]
    },
    {
     "name": "stdout",
     "output_type": "stream",
     "text": [
      "For 23th task, loss after adaptation is 0.864, No adaptation loss is 0.965\n"
     ]
    },
    {
     "name": "stderr",
     "output_type": "stream",
     "text": [
      "100%|██████████| 100/100 [00:02<00:00, 36.69it/s]\n"
     ]
    },
    {
     "name": "stdout",
     "output_type": "stream",
     "text": [
      "For 24th task, loss after adaptation is 0.782, No adaptation loss is 0.867\n"
     ]
    },
    {
     "name": "stderr",
     "output_type": "stream",
     "text": [
      "100%|██████████| 100/100 [00:02<00:00, 39.99it/s]\n"
     ]
    },
    {
     "name": "stdout",
     "output_type": "stream",
     "text": [
      "For 25th task, loss after adaptation is 1.041, No adaptation loss is 1.122\n"
     ]
    },
    {
     "name": "stderr",
     "output_type": "stream",
     "text": [
      "100%|██████████| 100/100 [00:02<00:00, 38.39it/s]\n"
     ]
    },
    {
     "name": "stdout",
     "output_type": "stream",
     "text": [
      "For 26th task, loss after adaptation is 0.952, No adaptation loss is 1.325\n"
     ]
    },
    {
     "name": "stderr",
     "output_type": "stream",
     "text": [
      "100%|██████████| 100/100 [00:02<00:00, 39.50it/s]\n"
     ]
    },
    {
     "name": "stdout",
     "output_type": "stream",
     "text": [
      "For 27th task, loss after adaptation is 0.486, No adaptation loss is 1.028\n"
     ]
    },
    {
     "name": "stderr",
     "output_type": "stream",
     "text": [
      "100%|██████████| 100/100 [00:02<00:00, 36.72it/s]\n"
     ]
    },
    {
     "name": "stdout",
     "output_type": "stream",
     "text": [
      "For 28th task, loss after adaptation is 0.818, No adaptation loss is 0.855\n"
     ]
    },
    {
     "name": "stderr",
     "output_type": "stream",
     "text": [
      "100%|██████████| 100/100 [00:02<00:00, 39.87it/s]\n"
     ]
    },
    {
     "name": "stdout",
     "output_type": "stream",
     "text": [
      "For 29th task, loss after adaptation is 1.23, No adaptation loss is 1.172\n"
     ]
    },
    {
     "name": "stderr",
     "output_type": "stream",
     "text": [
      "100%|██████████| 100/100 [00:02<00:00, 37.74it/s]\n"
     ]
    },
    {
     "name": "stdout",
     "output_type": "stream",
     "text": [
      "For 30th task, loss after adaptation is 0.574, No adaptation loss is 0.818\n"
     ]
    },
    {
     "name": "stderr",
     "output_type": "stream",
     "text": [
      "100%|██████████| 100/100 [00:02<00:00, 38.63it/s]\n"
     ]
    },
    {
     "name": "stdout",
     "output_type": "stream",
     "text": [
      "For 31th task, loss after adaptation is 1.377, No adaptation loss is 1.431\n"
     ]
    },
    {
     "name": "stderr",
     "output_type": "stream",
     "text": [
      "100%|██████████| 100/100 [00:02<00:00, 39.09it/s]\n"
     ]
    },
    {
     "name": "stdout",
     "output_type": "stream",
     "text": [
      "For 32th task, loss after adaptation is 0.923, No adaptation loss is 0.92\n"
     ]
    },
    {
     "name": "stderr",
     "output_type": "stream",
     "text": [
      "100%|██████████| 100/100 [00:02<00:00, 38.82it/s]\n"
     ]
    },
    {
     "name": "stdout",
     "output_type": "stream",
     "text": [
      "For 33th task, loss after adaptation is 0.969, No adaptation loss is 1.302\n"
     ]
    },
    {
     "name": "stderr",
     "output_type": "stream",
     "text": [
      "100%|██████████| 100/100 [00:02<00:00, 38.97it/s]\n"
     ]
    },
    {
     "name": "stdout",
     "output_type": "stream",
     "text": [
      "For 34th task, loss after adaptation is 0.734, No adaptation loss is 0.858\n"
     ]
    },
    {
     "name": "stderr",
     "output_type": "stream",
     "text": [
      "100%|██████████| 100/100 [00:02<00:00, 37.52it/s]\n"
     ]
    },
    {
     "name": "stdout",
     "output_type": "stream",
     "text": [
      "For 35th task, loss after adaptation is 1.362, No adaptation loss is 1.374\n"
     ]
    },
    {
     "name": "stderr",
     "output_type": "stream",
     "text": [
      "100%|██████████| 100/100 [00:02<00:00, 37.51it/s]\n"
     ]
    },
    {
     "name": "stdout",
     "output_type": "stream",
     "text": [
      "For 36th task, loss after adaptation is 1.863, No adaptation loss is 1.736\n"
     ]
    },
    {
     "name": "stderr",
     "output_type": "stream",
     "text": [
      "100%|██████████| 100/100 [00:02<00:00, 37.11it/s]\n"
     ]
    },
    {
     "name": "stdout",
     "output_type": "stream",
     "text": [
      "For 37th task, loss after adaptation is 1.737, No adaptation loss is 1.797\n"
     ]
    },
    {
     "name": "stderr",
     "output_type": "stream",
     "text": [
      "100%|██████████| 100/100 [00:02<00:00, 36.32it/s]\n"
     ]
    },
    {
     "name": "stdout",
     "output_type": "stream",
     "text": [
      "For 38th task, loss after adaptation is 0.815, No adaptation loss is 0.96\n"
     ]
    },
    {
     "name": "stderr",
     "output_type": "stream",
     "text": [
      "100%|██████████| 100/100 [00:02<00:00, 35.74it/s]\n"
     ]
    },
    {
     "name": "stdout",
     "output_type": "stream",
     "text": [
      "For 39th task, loss after adaptation is 0.638, No adaptation loss is 0.718\n"
     ]
    },
    {
     "name": "stderr",
     "output_type": "stream",
     "text": [
      "100%|██████████| 100/100 [00:02<00:00, 37.21it/s]\n"
     ]
    },
    {
     "name": "stdout",
     "output_type": "stream",
     "text": [
      "For 40th task, loss after adaptation is 0.662, No adaptation loss is 0.955\n"
     ]
    },
    {
     "name": "stderr",
     "output_type": "stream",
     "text": [
      "100%|██████████| 100/100 [00:02<00:00, 36.89it/s]\n"
     ]
    },
    {
     "name": "stdout",
     "output_type": "stream",
     "text": [
      "For 41th task, loss after adaptation is 1.273, No adaptation loss is 1.423\n"
     ]
    },
    {
     "name": "stderr",
     "output_type": "stream",
     "text": [
      "100%|██████████| 100/100 [00:02<00:00, 36.99it/s]\n"
     ]
    },
    {
     "name": "stdout",
     "output_type": "stream",
     "text": [
      "For 42th task, loss after adaptation is 0.677, No adaptation loss is 0.703\n"
     ]
    },
    {
     "name": "stderr",
     "output_type": "stream",
     "text": [
      "100%|██████████| 100/100 [00:02<00:00, 37.96it/s]\n"
     ]
    },
    {
     "name": "stdout",
     "output_type": "stream",
     "text": [
      "For 43th task, loss after adaptation is 1.023, No adaptation loss is 1.1\n"
     ]
    },
    {
     "name": "stderr",
     "output_type": "stream",
     "text": [
      "100%|██████████| 100/100 [00:02<00:00, 38.34it/s]\n"
     ]
    },
    {
     "name": "stdout",
     "output_type": "stream",
     "text": [
      "For 44th task, loss after adaptation is 0.709, No adaptation loss is 0.825\n"
     ]
    },
    {
     "name": "stderr",
     "output_type": "stream",
     "text": [
      "100%|██████████| 100/100 [00:02<00:00, 39.29it/s]\n"
     ]
    },
    {
     "name": "stdout",
     "output_type": "stream",
     "text": [
      "For 45th task, loss after adaptation is 1.828, No adaptation loss is 1.904\n"
     ]
    },
    {
     "name": "stderr",
     "output_type": "stream",
     "text": [
      "100%|██████████| 100/100 [00:02<00:00, 38.04it/s]\n"
     ]
    },
    {
     "name": "stdout",
     "output_type": "stream",
     "text": [
      "For 46th task, loss after adaptation is 0.733, No adaptation loss is 1.025\n"
     ]
    },
    {
     "name": "stderr",
     "output_type": "stream",
     "text": [
      "100%|██████████| 100/100 [00:02<00:00, 38.32it/s]\n"
     ]
    },
    {
     "name": "stdout",
     "output_type": "stream",
     "text": [
      "For 47th task, loss after adaptation is 0.914, No adaptation loss is 0.913\n"
     ]
    },
    {
     "name": "stderr",
     "output_type": "stream",
     "text": [
      "100%|██████████| 100/100 [00:02<00:00, 37.34it/s]\n"
     ]
    },
    {
     "name": "stdout",
     "output_type": "stream",
     "text": [
      "For 48th task, loss after adaptation is 1.109, No adaptation loss is 1.233\n"
     ]
    },
    {
     "name": "stderr",
     "output_type": "stream",
     "text": [
      "100%|██████████| 100/100 [00:02<00:00, 38.73it/s]\n"
     ]
    },
    {
     "name": "stdout",
     "output_type": "stream",
     "text": [
      "For 49th task, loss after adaptation is 0.751, No adaptation loss is 1.015\n"
     ]
    },
    {
     "name": "stderr",
     "output_type": "stream",
     "text": [
      "100%|██████████| 100/100 [00:02<00:00, 37.86it/s]\n"
     ]
    },
    {
     "name": "stdout",
     "output_type": "stream",
     "text": [
      "For 50th task, loss after adaptation is 1.428, No adaptation loss is 1.393\n"
     ]
    },
    {
     "name": "stderr",
     "output_type": "stream",
     "text": [
      "100%|██████████| 100/100 [00:02<00:00, 39.06it/s]\n"
     ]
    },
    {
     "name": "stdout",
     "output_type": "stream",
     "text": [
      "For 51th task, loss after adaptation is 0.543, No adaptation loss is 0.831\n"
     ]
    },
    {
     "name": "stderr",
     "output_type": "stream",
     "text": [
      "100%|██████████| 100/100 [00:02<00:00, 37.77it/s]\n"
     ]
    },
    {
     "name": "stdout",
     "output_type": "stream",
     "text": [
      "For 52th task, loss after adaptation is 1.047, No adaptation loss is 1.227\n"
     ]
    },
    {
     "name": "stderr",
     "output_type": "stream",
     "text": [
      "100%|██████████| 100/100 [00:02<00:00, 39.25it/s]\n"
     ]
    },
    {
     "name": "stdout",
     "output_type": "stream",
     "text": [
      "For 53th task, loss after adaptation is 1.616, No adaptation loss is 1.587\n"
     ]
    },
    {
     "name": "stderr",
     "output_type": "stream",
     "text": [
      "100%|██████████| 100/100 [00:02<00:00, 36.64it/s]\n"
     ]
    },
    {
     "name": "stdout",
     "output_type": "stream",
     "text": [
      "For 54th task, loss after adaptation is 0.462, No adaptation loss is 0.782\n"
     ]
    },
    {
     "name": "stderr",
     "output_type": "stream",
     "text": [
      "100%|██████████| 100/100 [00:02<00:00, 39.35it/s]\n"
     ]
    },
    {
     "name": "stdout",
     "output_type": "stream",
     "text": [
      "For 55th task, loss after adaptation is 0.959, No adaptation loss is 1.016\n"
     ]
    },
    {
     "name": "stderr",
     "output_type": "stream",
     "text": [
      "100%|██████████| 100/100 [00:02<00:00, 35.86it/s]\n"
     ]
    },
    {
     "name": "stdout",
     "output_type": "stream",
     "text": [
      "For 56th task, loss after adaptation is 1.008, No adaptation loss is 1.106\n"
     ]
    },
    {
     "name": "stderr",
     "output_type": "stream",
     "text": [
      "100%|██████████| 100/100 [00:02<00:00, 37.96it/s]\n"
     ]
    },
    {
     "name": "stdout",
     "output_type": "stream",
     "text": [
      "For 57th task, loss after adaptation is 1.494, No adaptation loss is 1.498\n"
     ]
    },
    {
     "name": "stderr",
     "output_type": "stream",
     "text": [
      "100%|██████████| 100/100 [00:02<00:00, 36.78it/s]\n"
     ]
    },
    {
     "name": "stdout",
     "output_type": "stream",
     "text": [
      "For 58th task, loss after adaptation is 0.97, No adaptation loss is 1.059\n"
     ]
    },
    {
     "name": "stderr",
     "output_type": "stream",
     "text": [
      "100%|██████████| 100/100 [00:02<00:00, 37.11it/s]\n"
     ]
    },
    {
     "name": "stdout",
     "output_type": "stream",
     "text": [
      "For 59th task, loss after adaptation is 0.351, No adaptation loss is 0.631\n"
     ]
    },
    {
     "name": "stderr",
     "output_type": "stream",
     "text": [
      "100%|██████████| 100/100 [00:02<00:00, 37.42it/s]\n"
     ]
    },
    {
     "name": "stdout",
     "output_type": "stream",
     "text": [
      "For 60th task, loss after adaptation is 1.032, No adaptation loss is 1.126\n"
     ]
    },
    {
     "name": "stderr",
     "output_type": "stream",
     "text": [
      "100%|██████████| 100/100 [00:02<00:00, 36.22it/s]\n"
     ]
    },
    {
     "name": "stdout",
     "output_type": "stream",
     "text": [
      "For 61th task, loss after adaptation is 0.964, No adaptation loss is 1.056\n"
     ]
    },
    {
     "name": "stderr",
     "output_type": "stream",
     "text": [
      "100%|██████████| 100/100 [00:02<00:00, 37.47it/s]\n"
     ]
    },
    {
     "name": "stdout",
     "output_type": "stream",
     "text": [
      "For 62th task, loss after adaptation is 0.55, No adaptation loss is 0.763\n"
     ]
    },
    {
     "name": "stderr",
     "output_type": "stream",
     "text": [
      "100%|██████████| 100/100 [00:02<00:00, 35.95it/s]\n"
     ]
    },
    {
     "name": "stdout",
     "output_type": "stream",
     "text": [
      "For 63th task, loss after adaptation is 1.625, No adaptation loss is 1.671\n"
     ]
    },
    {
     "name": "stderr",
     "output_type": "stream",
     "text": [
      "100%|██████████| 100/100 [00:02<00:00, 34.92it/s]\n"
     ]
    },
    {
     "name": "stdout",
     "output_type": "stream",
     "text": [
      "For 64th task, loss after adaptation is 1.058, No adaptation loss is 1.091\n"
     ]
    },
    {
     "name": "stderr",
     "output_type": "stream",
     "text": [
      "100%|██████████| 100/100 [00:02<00:00, 37.24it/s]\n"
     ]
    },
    {
     "name": "stdout",
     "output_type": "stream",
     "text": [
      "For 65th task, loss after adaptation is 0.868, No adaptation loss is 0.912\n"
     ]
    },
    {
     "name": "stderr",
     "output_type": "stream",
     "text": [
      "100%|██████████| 100/100 [00:02<00:00, 38.04it/s]\n"
     ]
    },
    {
     "name": "stdout",
     "output_type": "stream",
     "text": [
      "For 66th task, loss after adaptation is 0.707, No adaptation loss is 0.788\n"
     ]
    },
    {
     "name": "stderr",
     "output_type": "stream",
     "text": [
      "100%|██████████| 100/100 [00:02<00:00, 36.98it/s]\n"
     ]
    },
    {
     "name": "stdout",
     "output_type": "stream",
     "text": [
      "For 67th task, loss after adaptation is 1.093, No adaptation loss is 1.087\n"
     ]
    },
    {
     "name": "stderr",
     "output_type": "stream",
     "text": [
      "100%|██████████| 100/100 [00:02<00:00, 38.02it/s]\n"
     ]
    },
    {
     "name": "stdout",
     "output_type": "stream",
     "text": [
      "For 68th task, loss after adaptation is 0.338, No adaptation loss is 0.548\n"
     ]
    },
    {
     "name": "stderr",
     "output_type": "stream",
     "text": [
      "100%|██████████| 100/100 [00:02<00:00, 38.10it/s]\n"
     ]
    },
    {
     "name": "stdout",
     "output_type": "stream",
     "text": [
      "For 69th task, loss after adaptation is 0.439, No adaptation loss is 0.886\n"
     ]
    },
    {
     "name": "stderr",
     "output_type": "stream",
     "text": [
      "100%|██████████| 100/100 [00:02<00:00, 38.26it/s]\n"
     ]
    },
    {
     "name": "stdout",
     "output_type": "stream",
     "text": [
      "For 70th task, loss after adaptation is 1.172, No adaptation loss is 1.439\n"
     ]
    },
    {
     "name": "stderr",
     "output_type": "stream",
     "text": [
      "100%|██████████| 100/100 [00:02<00:00, 38.21it/s]\n"
     ]
    },
    {
     "name": "stdout",
     "output_type": "stream",
     "text": [
      "For 71th task, loss after adaptation is 1.027, No adaptation loss is 1.061\n"
     ]
    },
    {
     "name": "stderr",
     "output_type": "stream",
     "text": [
      "100%|██████████| 100/100 [00:02<00:00, 38.60it/s]\n"
     ]
    },
    {
     "name": "stdout",
     "output_type": "stream",
     "text": [
      "For 72th task, loss after adaptation is 0.949, No adaptation loss is 1.268\n"
     ]
    },
    {
     "name": "stderr",
     "output_type": "stream",
     "text": [
      "100%|██████████| 100/100 [00:02<00:00, 38.76it/s]\n"
     ]
    },
    {
     "name": "stdout",
     "output_type": "stream",
     "text": [
      "For 73th task, loss after adaptation is 0.415, No adaptation loss is 0.643\n"
     ]
    },
    {
     "name": "stderr",
     "output_type": "stream",
     "text": [
      "100%|██████████| 100/100 [00:02<00:00, 36.68it/s]\n"
     ]
    },
    {
     "name": "stdout",
     "output_type": "stream",
     "text": [
      "For 74th task, loss after adaptation is 1.682, No adaptation loss is 1.944\n"
     ]
    },
    {
     "name": "stderr",
     "output_type": "stream",
     "text": [
      "100%|██████████| 100/100 [00:02<00:00, 36.94it/s]\n"
     ]
    },
    {
     "name": "stdout",
     "output_type": "stream",
     "text": [
      "For 75th task, loss after adaptation is 0.604, No adaptation loss is 0.735\n"
     ]
    },
    {
     "name": "stderr",
     "output_type": "stream",
     "text": [
      "100%|██████████| 100/100 [00:02<00:00, 36.70it/s]\n"
     ]
    },
    {
     "name": "stdout",
     "output_type": "stream",
     "text": [
      "For 76th task, loss after adaptation is 0.404, No adaptation loss is 0.622\n"
     ]
    },
    {
     "name": "stderr",
     "output_type": "stream",
     "text": [
      "100%|██████████| 100/100 [00:02<00:00, 37.33it/s]\n"
     ]
    },
    {
     "name": "stdout",
     "output_type": "stream",
     "text": [
      "For 77th task, loss after adaptation is 2.048, No adaptation loss is 2.159\n"
     ]
    },
    {
     "name": "stderr",
     "output_type": "stream",
     "text": [
      "100%|██████████| 100/100 [00:02<00:00, 35.86it/s]\n"
     ]
    },
    {
     "name": "stdout",
     "output_type": "stream",
     "text": [
      "For 78th task, loss after adaptation is 0.391, No adaptation loss is 0.682\n"
     ]
    },
    {
     "name": "stderr",
     "output_type": "stream",
     "text": [
      "100%|██████████| 100/100 [00:02<00:00, 37.89it/s]\n"
     ]
    },
    {
     "name": "stdout",
     "output_type": "stream",
     "text": [
      "For 79th task, loss after adaptation is 0.988, No adaptation loss is 1.31\n"
     ]
    },
    {
     "name": "stderr",
     "output_type": "stream",
     "text": [
      "100%|██████████| 100/100 [00:02<00:00, 34.42it/s]\n"
     ]
    },
    {
     "name": "stdout",
     "output_type": "stream",
     "text": [
      "For 80th task, loss after adaptation is 0.578, No adaptation loss is 0.682\n"
     ]
    },
    {
     "name": "stderr",
     "output_type": "stream",
     "text": [
      "100%|██████████| 100/100 [00:02<00:00, 37.00it/s]\n"
     ]
    },
    {
     "name": "stdout",
     "output_type": "stream",
     "text": [
      "For 81th task, loss after adaptation is 1.219, No adaptation loss is 1.307\n"
     ]
    },
    {
     "name": "stderr",
     "output_type": "stream",
     "text": [
      "100%|██████████| 100/100 [00:02<00:00, 36.66it/s]\n"
     ]
    },
    {
     "name": "stdout",
     "output_type": "stream",
     "text": [
      "For 82th task, loss after adaptation is 1.225, No adaptation loss is 1.364\n"
     ]
    },
    {
     "name": "stderr",
     "output_type": "stream",
     "text": [
      "100%|██████████| 100/100 [00:02<00:00, 35.50it/s]\n"
     ]
    },
    {
     "name": "stdout",
     "output_type": "stream",
     "text": [
      "For 83th task, loss after adaptation is 0.59, No adaptation loss is 0.787\n"
     ]
    },
    {
     "name": "stderr",
     "output_type": "stream",
     "text": [
      "100%|██████████| 100/100 [00:02<00:00, 35.63it/s]\n"
     ]
    },
    {
     "name": "stdout",
     "output_type": "stream",
     "text": [
      "For 84th task, loss after adaptation is 0.605, No adaptation loss is 0.739\n"
     ]
    },
    {
     "name": "stderr",
     "output_type": "stream",
     "text": [
      "100%|██████████| 100/100 [00:02<00:00, 35.36it/s]\n"
     ]
    },
    {
     "name": "stdout",
     "output_type": "stream",
     "text": [
      "For 85th task, loss after adaptation is 1.034, No adaptation loss is 1.077\n"
     ]
    },
    {
     "name": "stderr",
     "output_type": "stream",
     "text": [
      "100%|██████████| 100/100 [00:02<00:00, 36.25it/s]\n"
     ]
    },
    {
     "name": "stdout",
     "output_type": "stream",
     "text": [
      "For 86th task, loss after adaptation is 0.428, No adaptation loss is 0.673\n"
     ]
    },
    {
     "name": "stderr",
     "output_type": "stream",
     "text": [
      "100%|██████████| 100/100 [00:02<00:00, 36.18it/s]\n"
     ]
    },
    {
     "name": "stdout",
     "output_type": "stream",
     "text": [
      "For 87th task, loss after adaptation is 0.795, No adaptation loss is 1.124\n"
     ]
    },
    {
     "name": "stderr",
     "output_type": "stream",
     "text": [
      "100%|██████████| 100/100 [00:02<00:00, 35.73it/s]\n"
     ]
    },
    {
     "name": "stdout",
     "output_type": "stream",
     "text": [
      "For 88th task, loss after adaptation is 0.597, No adaptation loss is 0.814\n"
     ]
    },
    {
     "name": "stderr",
     "output_type": "stream",
     "text": [
      "100%|██████████| 100/100 [00:02<00:00, 33.64it/s]\n"
     ]
    },
    {
     "name": "stdout",
     "output_type": "stream",
     "text": [
      "For 89th task, loss after adaptation is 0.923, No adaptation loss is 1.067\n"
     ]
    },
    {
     "name": "stderr",
     "output_type": "stream",
     "text": [
      "100%|██████████| 100/100 [00:03<00:00, 31.80it/s]\n"
     ]
    },
    {
     "name": "stdout",
     "output_type": "stream",
     "text": [
      "For 90th task, loss after adaptation is 1.007, No adaptation loss is 1.146\n"
     ]
    },
    {
     "name": "stderr",
     "output_type": "stream",
     "text": [
      "100%|██████████| 100/100 [00:02<00:00, 36.00it/s]\n"
     ]
    },
    {
     "name": "stdout",
     "output_type": "stream",
     "text": [
      "For 91th task, loss after adaptation is 1.224, No adaptation loss is 1.408\n"
     ]
    },
    {
     "name": "stderr",
     "output_type": "stream",
     "text": [
      "100%|██████████| 100/100 [00:02<00:00, 36.47it/s]\n"
     ]
    },
    {
     "name": "stdout",
     "output_type": "stream",
     "text": [
      "For 92th task, loss after adaptation is 0.8, No adaptation loss is 0.986\n"
     ]
    },
    {
     "name": "stderr",
     "output_type": "stream",
     "text": [
      "100%|██████████| 100/100 [00:02<00:00, 36.99it/s]\n"
     ]
    },
    {
     "name": "stdout",
     "output_type": "stream",
     "text": [
      "For 93th task, loss after adaptation is 0.43, No adaptation loss is 0.556\n"
     ]
    },
    {
     "name": "stderr",
     "output_type": "stream",
     "text": [
      "100%|██████████| 100/100 [00:02<00:00, 36.30it/s]\n"
     ]
    },
    {
     "name": "stdout",
     "output_type": "stream",
     "text": [
      "For 94th task, loss after adaptation is 1.214, No adaptation loss is 1.138\n"
     ]
    },
    {
     "name": "stderr",
     "output_type": "stream",
     "text": [
      "100%|██████████| 100/100 [00:02<00:00, 36.41it/s]\n"
     ]
    },
    {
     "name": "stdout",
     "output_type": "stream",
     "text": [
      "For 95th task, loss after adaptation is 0.391, No adaptation loss is 0.582\n"
     ]
    },
    {
     "name": "stderr",
     "output_type": "stream",
     "text": [
      "100%|██████████| 100/100 [00:02<00:00, 36.14it/s]\n"
     ]
    },
    {
     "name": "stdout",
     "output_type": "stream",
     "text": [
      "For 96th task, loss after adaptation is 1.091, No adaptation loss is 1.183\n"
     ]
    },
    {
     "name": "stderr",
     "output_type": "stream",
     "text": [
      "100%|██████████| 100/100 [00:02<00:00, 36.59it/s]\n"
     ]
    },
    {
     "name": "stdout",
     "output_type": "stream",
     "text": [
      "For 97th task, loss after adaptation is 0.269, No adaptation loss is 0.563\n"
     ]
    },
    {
     "name": "stderr",
     "output_type": "stream",
     "text": [
      "100%|██████████| 100/100 [00:02<00:00, 36.64it/s]\n"
     ]
    },
    {
     "name": "stdout",
     "output_type": "stream",
     "text": [
      "For 98th task, loss after adaptation is 0.751, No adaptation loss is 0.98\n"
     ]
    },
    {
     "name": "stderr",
     "output_type": "stream",
     "text": [
      "100%|██████████| 100/100 [00:02<00:00, 36.15it/s]"
     ]
    },
    {
     "name": "stdout",
     "output_type": "stream",
     "text": [
      "For 99th task, loss after adaptation is 1.941, No adaptation loss is 1.958\n"
     ]
    },
    {
     "name": "stderr",
     "output_type": "stream",
     "text": [
      "\n"
     ]
    }
   ],
   "source": [
    "losses, losses_no_adaptation, M_best_per_task = adapt_smcd(100, 1000)"
   ]
  },
  {
   "cell_type": "code",
   "execution_count": 23,
   "metadata": {},
   "outputs": [],
   "source": [
    "np.save('loss_smcd',losses)\n",
    "np.save('loss_N',losses_no_adaptation)"
   ]
  },
  {
   "cell_type": "code",
   "execution_count": 24,
   "metadata": {},
   "outputs": [],
   "source": [
    "import numpy as np\n",
    "import matplotlib.pyplot as plt\n",
    "loss_smcd = np.load('loss_smcd.npy')\n",
    "loss_N = np.load('loss_N.npy')"
   ]
  },
  {
   "cell_type": "code",
   "execution_count": 25,
   "metadata": {},
   "outputs": [
    {
     "data": {
      "text/plain": [
       "1.071675"
      ]
     },
     "execution_count": 25,
     "metadata": {},
     "output_type": "execute_result"
    }
   ],
   "source": [
    "loss_N.mean()"
   ]
  },
  {
   "cell_type": "code",
   "execution_count": 26,
   "metadata": {},
   "outputs": [
    {
     "data": {
      "text/plain": [
       "0.9274951"
      ]
     },
     "execution_count": 26,
     "metadata": {},
     "output_type": "execute_result"
    }
   ],
   "source": [
    "loss_smcd.mean()"
   ]
  },
  {
   "cell_type": "code",
   "execution_count": 27,
   "metadata": {},
   "outputs": [],
   "source": [
    "ind = np.argsort(loss_smcd)"
   ]
  },
  {
   "cell_type": "code",
   "execution_count": 29,
   "metadata": {},
   "outputs": [
    {
     "data": {
      "text/plain": [
       "<matplotlib.legend.Legend at 0x1b9156dc820>"
      ]
     },
     "execution_count": 29,
     "metadata": {},
     "output_type": "execute_result"
    },
    {
     "data": {
      "image/png": "[encoded data removed]",
      "text/plain": [
       "<Figure size 640x480 with 1 Axes>"
      ]
     },
     "metadata": {},
     "output_type": "display_data"
    }
   ],
   "source": [
    "plt.plot(loss_N[ind], label='N')\n",
    "plt.plot(loss_smcd[ind], label='S')\n",
    "plt.legend()"
   ]
  },
  {
   "attachments": {},
   "cell_type": "markdown",
   "metadata": {},
   "source": [
    "# Prediction"
   ]
  },
  {
   "cell_type": "code",
   "execution_count": 9,
   "metadata": {},
   "outputs": [
    {
     "data": {
      "text/plain": [
       "dict_keys(['init_angle', 'init_pos', 'target_pos', 'true_pos', 'noisy_pos'])"
      ]
     },
     "execution_count": 9,
     "metadata": {},
     "output_type": "execute_result"
    }
   ],
   "source": [
    "test_data[0].keys()"
   ]
  },
  {
   "cell_type": "code",
   "execution_count": 27,
   "metadata": {},
   "outputs": [],
   "source": [
    "def plot_trace(t, start=0, end=-1):\n",
    "\tinit_pos = t['init_pos'].numpy()\n",
    "\ttarget_pos = t['target_pos'].numpy()\n",
    "\ttrue_pos = t['true_pos'].numpy()\n",
    "\tplt.figure()\n",
    "\tplt.scatter(*init_pos, label='init_pos')\n",
    "\tplt.scatter(*target_pos, label='target_pos')\n",
    "\tplt.plot(true_pos[start:end,0], true_pos[start:end,1], label='true_pos')\n",
    "\tplt.legend()"
   ]
  },
  {
   "cell_type": "code",
   "execution_count": 37,
   "metadata": {},
   "outputs": [
    {
     "data": {
      "image/png": "[encoded data removed]",
      "text/plain": [
       "<Figure size 640x480 with 1 Axes>"
      ]
     },
     "metadata": {},
     "output_type": "display_data"
    }
   ],
   "source": [
    "plot_trace(test_data[99], 0, 200)"
   ]
  },
  {
   "cell_type": "code",
   "execution_count": 148,
   "metadata": {},
   "outputs": [],
   "source": [
    "def test_smcd(mask_per_task, n_tasks = -1):\n",
    "\ttrace_pred = []\n",
    "\ttrace_true = []\n",
    "\tcriterion = nn.MSELoss()\n",
    "\twith tqdm(test_data[0:n_tasks], unit='task')as tepoch:\n",
    "\t\tfor i, task in enumerate(tepoch):\n",
    "\t\t\ttrace_pred_i = np.array([])\n",
    "\t\t\ttrace_true_i = np.array([])\n",
    "\t\t\tmodel = load_model()\n",
    "\t\t\tq0 = task['init_angle'].to(dtype=torch.float32)\n",
    "\t\t\txg = task['target_pos']\n",
    "\t\t\tx_oracle = task['true_pos']\n",
    "\t\t\tmodel.update_dropout_mask(mask_per_task[i])\n",
    "\t\t\tq = q0\n",
    "\t\t\tu = 0\n",
    "\t\t\tl = dataset.l[i]\n",
    "\t\t\tx0 = task['init_pos']\n",
    "\t\t\tx0_pred = model(q0)\n",
    "\t\t\tloss = criterion(x0_pred, x0)\n",
    "\t\t\tprint(loss)\n",
    "\t\t\tfor t in range(len(x_oracle)):\n",
    "\t\t\t\tx_pred = model(q).detach()\n",
    "\t\t\t\tx_true = fk(q, l)\n",
    "\t\t\t\t# emit control from predicted position\n",
    "\t\t\t\tu = pd(q, x_pred, xg, u, k=[1,1e-2], l=l)\n",
    "\t\t\t\tq += u\n",
    "\t\t\t\t# normalize\n",
    "\t\t\t\tq = np.mod(q, 2 * np.pi)\n",
    "\t\t\t\tq[q>np.pi] -= 2*np.pi\n",
    "\t\t\t\t# the system evolve subject to control and real setting\n",
    "\t\t\t\t# print(x_pred)\n",
    "\t\t\t\t# print(x_true)\n",
    "\t\t\t\ttrace_pred_i = np.append(trace_pred_i, x_pred.numpy(), axis=0)\n",
    "\t\t\t\ttrace_true_i = np.append(trace_true_i, x_true, axis=0)\n",
    "\t\t\ttrace_pred.append(trace_pred_i.reshape(-1,2))\n",
    "\t\t\ttrace_true.append(trace_true_i.reshape(-1,2))\n",
    "\treturn trace_pred, trace_true\n"
   ]
  },
  {
   "cell_type": "code",
   "execution_count": 156,
   "metadata": {},
   "outputs": [
    {
     "data": {
      "text/plain": [
       "1.0"
      ]
     },
     "execution_count": 156,
     "metadata": {},
     "output_type": "execute_result"
    }
   ],
   "source": [
    "q = np.pi + 1\n",
    "np.mod(q, 2 * np.pi) - np.pi"
   ]
  },
  {
   "cell_type": "code",
   "execution_count": 149,
   "metadata": {},
   "outputs": [
    {
     "name": "stderr",
     "output_type": "stream",
     "text": [
      "  0%|          | 0/5 [00:00<?, ?task/s]"
     ]
    },
    {
     "name": "stdout",
     "output_type": "stream",
     "text": [
      "tensor(0.2336, dtype=torch.float64, grad_fn=<MseLossBackward0>)\n"
     ]
    },
    {
     "name": "stderr",
     "output_type": "stream",
     "text": [
      " 20%|██        | 1/5 [00:00<00:01,  2.43task/s]"
     ]
    },
    {
     "name": "stdout",
     "output_type": "stream",
     "text": [
      "tensor(0.0029, dtype=torch.float64, grad_fn=<MseLossBackward0>)\n"
     ]
    },
    {
     "name": "stderr",
     "output_type": "stream",
     "text": [
      " 40%|████      | 2/5 [00:00<00:01,  2.67task/s]"
     ]
    },
    {
     "name": "stdout",
     "output_type": "stream",
     "text": [
      "tensor(0.0099, dtype=torch.float64, grad_fn=<MseLossBackward0>)\n"
     ]
    },
    {
     "name": "stderr",
     "output_type": "stream",
     "text": [
      " 60%|██████    | 3/5 [00:01<00:00,  2.62task/s]"
     ]
    },
    {
     "name": "stdout",
     "output_type": "stream",
     "text": [
      "tensor(0.8566, dtype=torch.float64, grad_fn=<MseLossBackward0>)\n"
     ]
    },
    {
     "name": "stderr",
     "output_type": "stream",
     "text": [
      " 80%|████████  | 4/5 [00:01<00:00,  2.39task/s]"
     ]
    },
    {
     "name": "stdout",
     "output_type": "stream",
     "text": [
      "tensor(0.0810, dtype=torch.float64, grad_fn=<MseLossBackward0>)\n"
     ]
    },
    {
     "name": "stderr",
     "output_type": "stream",
     "text": [
      "100%|██████████| 5/5 [00:01<00:00,  2.50task/s]\n"
     ]
    }
   ],
   "source": [
    "trace_pred, trace_true = test_smcd(M_best_per_task, 5)"
   ]
  },
  {
   "cell_type": "code",
   "execution_count": 150,
   "metadata": {},
   "outputs": [
    {
     "data": {
      "text/plain": [
       "5"
      ]
     },
     "execution_count": 150,
     "metadata": {},
     "output_type": "execute_result"
    }
   ],
   "source": [
    "trace_true[0].shape\n",
    "len(trace_true)"
   ]
  },
  {
   "cell_type": "code",
   "execution_count": 151,
   "metadata": {},
   "outputs": [],
   "source": [
    "def plot_trace(i, start=0, end=-1):\n",
    "\tt = test_data[i]\n",
    "\tinit_pos = t['init_pos'].numpy()\n",
    "\ttarget_pos = t['target_pos'].numpy()\n",
    "\ttrue_pos = t['true_pos'].numpy()\n",
    "\tplt.figure()\n",
    "\tplt.scatter(*init_pos, label='init_pos')\n",
    "\tplt.scatter(*trace_true[i][start], marker='o')\n",
    "\tplt.scatter(*trace_pred[i][start], marker='o')\n",
    "\tplt.scatter(*trace_true[i][end], marker='^')\n",
    "\tplt.scatter(*trace_pred[i][end], marker='^')\n",
    "\tplt.plot(true_pos[start:end,0], true_pos[start:end,1], label='oracle_pos')\n",
    "\tplt.plot(trace_true[i][start:end,0], trace_true[i][start:end,1], label='true_pos')\n",
    "\tplt.plot(trace_pred[i][start:end,0], trace_pred[i][start:end,1], label='pred_pos')\n",
    "\tplt.scatter(*target_pos, label='target_pos')\n",
    "\tplt.legend()"
   ]
  },
  {
   "cell_type": "code",
   "execution_count": 154,
   "metadata": {},
   "outputs": [
    {
     "data": {
      "image/png": "[encoded data removed]",
      "text/plain": [
       "<Figure size 640x480 with 1 Axes>"
      ]
     },
     "metadata": {},
     "output_type": "display_data"
    }
   ],
   "source": [
    "plot_trace(2, 0, 100)"
   ]
  },
  {
   "cell_type": "code",
   "execution_count": null,
   "metadata": {},
   "outputs": [],
   "source": []
  }
 ],
 "metadata": {
  "kernelspec": {
   "display_name": "base",
   "language": "python",
   "name": "python3"
  },
  "language_info": {
   "codemirror_mode": {
    "name": "ipython",
    "version": 3
   },
   "file_extension": ".py",
   "mimetype": "text/x-python",
   "name": "python",
   "nbconvert_exporter": "python",
   "pygments_lexer": "ipython3",
   "version": "3.9.12"
  },
  "vscode": {
   "interpreter": {
    "hash": "5179d32cf6ec497baf3f8a3ef987cc77c5d2dc691fdde20a56316522f61a7323"
   }
  }
 },
 "nbformat": 4,
 "nbformat_minor": 4
}
