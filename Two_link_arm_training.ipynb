{
 "cells": [
  {
   "cell_type": "code",
   "execution_count": 1,
   "metadata": {},
   "outputs": [],
   "source": [
    "import numpy as np\n",
    "import matplotlib.pyplot as plt\n",
    "import random\n",
    "import torch\n",
    "from torch.utils.data import Dataset, DataLoader\n",
    "from torch import nn, autograd as ag\n",
    "from tqdm import tqdm\n",
    "from typing import Union\n",
    "from copy import deepcopy"
   ]
  },
  {
   "cell_type": "code",
   "execution_count": 2,
   "metadata": {},
   "outputs": [],
   "source": [
    "hyperparams = {\n",
    "        'n_tasks': 1000,\n",
    "        'n_episode': 150,\n",
    "        'n_timesteps': 10,\n",
    "        'input_dim': 2,\n",
    "        'hidden_dim': 512,\n",
    "        'output_dim': 2,\n",
    "        'lr': 1e-4,\n",
    "        'batch_size': 128,\n",
    "        'n_epochs': 100,\n",
    "        }"
   ]
  },
  {
   "cell_type": "markdown",
   "metadata": {
    "id": "iiTA-Cwr5Pey"
   },
   "source": [
    "# Data Simulation"
   ]
  },
  {
   "cell_type": "code",
   "execution_count": 3,
   "metadata": {},
   "outputs": [],
   "source": [
    "class TrainingDataset(Dataset):\n",
    "\t# `set_seed=None` means no seed fixed.  \n",
    "\tdef __init__(self, n_tasks=hyperparams['n_tasks'], n_episode=hyperparams['n_episode'], \n",
    "\t\t\t\tn_timesteps=hyperparams['n_timesteps'], set_seed: Union[int, None]=None):\n",
    "\t\tsuper().__init__()\n",
    "\t\tself.q = []\n",
    "\t\tself.x = []\n",
    "\t\tself.z = []\n",
    "\t\tif set_seed is not None:\n",
    "\t\t\tnp.random.seed(set_seed)\n",
    "\t\tl_of_tasks = np.random.normal(loc=1, scale=0.3, size=(n_tasks,2))\n",
    "\t\tfor i in tqdm(range(n_tasks)):\n",
    "\t\t\tl = l_of_tasks[i]\n",
    "\t\t\tfor _ in range(n_episode):\n",
    "\t\t\t\tq_, x, z = TrainingDataset.generate_episode(l, n_timesteps)\n",
    "\t\t\t\tself.q.extend(q_)\n",
    "\t\t\t\tself.x.extend(x)\n",
    "\t\t\t\tself.z.extend(z)\n",
    "\t\tself.q = np.stack(self.q, axis=1).reshape(-1,2)\n",
    "\t\tself.x = np.stack(self.x, axis=1).reshape(-1,2)\n",
    "\t\tself.z = np.stack(self.z, axis=1).reshape(-1,2)\n",
    "\t\tassert self.q.shape == self.x.shape\n",
    "\t\tprint(\"Two Arm Link Dataset Generation Finished!\")\n",
    "\t\t\n",
    "\tdef __getitem__(self, index):\n",
    "\t\tq = self.q[index]\n",
    "\t\tx = self.x[index]\n",
    "\t\tz = self.z[index]\n",
    "\t\tsample = {\n",
    "\t\t\t\"angle\": torch.tensor(q),\n",
    "\t\t\t\"true_pos\": torch.tensor(x),\n",
    "\t\t\t\"noisy_pos\": torch.tensor(z),\n",
    "\t\t}\n",
    "\t\treturn sample\n",
    "\n",
    "\tdef __len__(self):\n",
    "\t\treturn len(self.q)\n",
    "\n",
    "\t@staticmethod\n",
    "\tdef generate_episode(l, n_timesteps):\n",
    "\t\tdef x_of_q(q, l):\n",
    "\t\t\t# q: array (2,) containing the two angles\n",
    "\t\t\t# l: array (2,) containing the limb lengths \n",
    "\t\t\tx = l[0] * np.cos(q[0]) + l[1] * np.cos(q[0] + q[1])\n",
    "\t\t\ty = l[0] * np.sin(q[0]) + l[1] * np.sin(q[0] + q[1])\n",
    "\t\t\treturn np.array([x, y])\n",
    "\n",
    "\t\tq_0 = np.random.uniform(low= -np.pi, high= np.pi, size=(2,1))\n",
    "\t\tu = np.random.randn(2, n_timesteps-1)\n",
    "\t\tq = u.cumsum(axis=1) + q_0\n",
    "\t\tq = np.concatenate((q_0, q), axis=1)\n",
    "\t\tx = x_of_q(q, l=l)\n",
    "\t\tz = x + np.random.normal(0, scale=0.001, size=(2, n_timesteps))\n",
    "\t\tassert q.shape == x.shape\n",
    "\t\treturn q, x, z"
   ]
  },
  {
   "cell_type": "code",
   "execution_count": 4,
   "metadata": {},
   "outputs": [],
   "source": [
    "def get_loader(batch_size=hyperparams['batch_size'], n_tasks=hyperparams['n_tasks'], \n",
    "                set_seed: Union[int, None]=None, shuffle: bool=True):\n",
    "    dataset = TrainingDataset(n_tasks=n_tasks, set_seed=set_seed)\n",
    "    data_loader = DataLoader(dataset=dataset,\n",
    "                            batch_size=batch_size,\n",
    "                            shuffle=shuffle,\n",
    "                            pin_memory=True,\n",
    "                            drop_last=True,\n",
    "                            )\n",
    "    return data_loader"
   ]
  },
  {
   "cell_type": "markdown",
   "metadata": {},
   "source": [
    "# Build model"
   ]
  },
  {
   "cell_type": "code",
   "execution_count": 5,
   "metadata": {},
   "outputs": [],
   "source": [
    "class DropoutLayer(nn.Module):\n",
    "    def __init__(self, hidden_dim=hyperparams['hidden_dim']):\n",
    "        super(DropoutLayer, self).__init__()\n",
    "        self.mask = torch.ones(hidden_dim, dtype=torch.float32, requires_grad=False)\n",
    "        self.training = False\n",
    "\n",
    "    def forward(self, x):\n",
    "        return x * self.mask\n",
    "\n",
    "    def update(self, mask: np.ndarray):\n",
    "        assert mask.shape == self.mask.shape, f\"new mask shape should be {self.mask.shape} but giving {mask.shape}\"\n",
    "        self.mask = torch.Tensor(mask)\n",
    "        \n",
    "    def get(self):\n",
    "        return self.mask.numpy()"
   ]
  },
  {
   "cell_type": "code",
   "execution_count": 6,
   "metadata": {},
   "outputs": [],
   "source": [
    "class MyModel(nn.Module):\n",
    "    def __init__(self, input_dim=hyperparams['input_dim'], hidden_dim=hyperparams['hidden_dim'], \n",
    "                output_dim=hyperparams['output_dim']):\n",
    "        super().__init__()\n",
    "        self.lin1 = nn.Linear(in_features=input_dim, out_features=hidden_dim)\n",
    "        self.lin2 = nn.Linear(in_features=hidden_dim, out_features=hidden_dim)\n",
    "        self.lin3 = nn.Linear(in_features=hidden_dim, out_features=output_dim)\n",
    "        self.relu = nn.ReLU()\n",
    "        # dropout for pretraining and finetunning\n",
    "        self.dropout_for_GD = nn.Dropout(p=0.5)\n",
    "        # dropout for smc\n",
    "        self.dropout = DropoutLayer(hidden_dim=hidden_dim)\n",
    "\n",
    "    def forward(self, x):\n",
    "        x = self.lin1(x)\n",
    "        x = self.relu(x)\n",
    "        x = self.lin2(x)\n",
    "        x = self.relu(x)\n",
    "        if self.training:\n",
    "            x = self.dropout_for_GD(x)\n",
    "        else:\n",
    "            x = self.dropout(x)\n",
    "        x = self.lin3(x)\n",
    "        return x\n",
    "        \n",
    "    def update_dropout_mask(self, mask: np.ndarray):\n",
    "        self.dropout.update(mask)\n",
    "\n",
    "    def get_dropout_mask(self):\n",
    "        return self.dropout.get()"
   ]
  },
  {
   "cell_type": "markdown",
   "metadata": {
    "jp-MarkdownHeadingCollapsed": true,
    "tags": []
   },
   "source": [
    "# Multi-Task Training"
   ]
  },
  {
   "cell_type": "code",
   "execution_count": 14,
   "metadata": {},
   "outputs": [
    {
     "name": "stderr",
     "output_type": "stream",
     "text": [
      "100%|██████████| 1000/1000 [00:05<00:00, 178.48it/s]\n"
     ]
    },
    {
     "name": "stdout",
     "output_type": "stream",
     "text": [
      "Two Arm Link Dataset Generation Finished!\n"
     ]
    }
   ],
   "source": [
    "train_loader = get_loader(n_tasks=1000, set_seed=0, shuffle=True)"
   ]
  },
  {
   "cell_type": "code",
   "execution_count": 15,
   "metadata": {},
   "outputs": [],
   "source": [
    "device = torch.device(\"cuda\" if torch.cuda.is_available() else \"cpu\")\n",
    "model = MyModel().to(device)\n",
    "model = model.double()\n",
    "model.train()\n",
    "optimizer = torch.optim.Adam(model.parameters(), lr=hyperparams['lr'])\n",
    "criterion = nn.MSELoss()"
   ]
  },
  {
   "cell_type": "code",
   "execution_count": 16,
   "metadata": {},
   "outputs": [],
   "source": [
    "def train_multi_task(data_loader=train_loader, nb_epochs=hyperparams['n_epochs']):\n",
    "    total_loss = []\n",
    "    for epoch in range(1, nb_epochs + 1):\n",
    "    \t# store the loss in each batch\n",
    "        losses = []\n",
    "        # use tqdm to better visualize the training process\n",
    "        with tqdm(data_loader, unit=\"batch\") as tepoch: # evaluate every batch\n",
    "            for data in tepoch:\n",
    "                tepoch.set_description(f\"Epoch {epoch}\") # custome the printed message in tqdm\n",
    "                x = data['angle'].to(device)\n",
    "                y = data['true_pos'].to(device)\n",
    "                optimizer.zero_grad()\n",
    "                output = model.forward(x)\n",
    "                loss = criterion(output, y)\n",
    "                loss.backward() # backward propagation\n",
    "                optimizer.step() # update parameters\n",
    "                losses.append(loss.item())\n",
    "                # custome what is printed in tqdm message\n",
    "                tepoch.set_postfix(loss=sum(losses)/len(losses))\n",
    "        total_loss.append(sum(losses)/len(losses))\n",
    "    return total_loss"
   ]
  },
  {
   "cell_type": "code",
   "execution_count": null,
   "metadata": {},
   "outputs": [
    {
     "name": "stderr",
     "output_type": "stream",
     "text": [
      "Epoch 1: 100%|██████████| 11718/11718 [01:28<00:00, 132.04batch/s, loss=0.245]\n",
      "Epoch 3: 100%|██████████| 11718/11718 [01:26<00:00, 134.70batch/s, loss=0.146]\n",
      "Epoch 5: 100%|██████████| 11718/11718 [01:22<00:00, 142.56batch/s, loss=0.135]\n",
      "Epoch 7: 100%|██████████| 11718/11718 [01:21<00:00, 143.77batch/s, loss=0.129]\n",
      "Epoch 12: 100%|██████████| 11718/11718 [01:24<00:00, 139.08batch/s, loss=0.123]\n",
      "Epoch 15: 100%|██████████| 11718/11718 [01:25<00:00, 137.26batch/s, loss=0.121]\n",
      "Epoch 19: 100%|██████████| 11718/11718 [01:22<00:00, 142.57batch/s, loss=0.12]\n",
      "Epoch 24: 100%|██████████| 11718/11718 [01:21<00:00, 143.81batch/s, loss=0.118]\n",
      "Epoch 41: 100%|██████████| 11718/11718 [01:20<00:00, 145.14batch/s, loss=0.116]\n",
      "Epoch 43: 100%|██████████| 11718/11718 [01:22<00:00, 142.51batch/s, loss=0.116]\n",
      "Epoch 71: 100%|██████████| 11718/11718 [01:21<00:00, 144.33batch/s, loss=0.114]\n",
      "Epoch 79: 100%|██████████| 11718/11718 [01:23<00:00, 139.89batch/s, loss=0.114]\n",
      "Epoch 88: 100%|██████████| 11718/11718 [01:22<00:00, 141.56batch/s, loss=0.113]\n",
      "Epoch 99:  74%|███████▎  | 8618/11718 [00:59<00:21, 142.36batch/s, loss=0.113]]"
     ]
    }
   ],
   "source": [
    "total_loss = train_multi_task() # return a list of loss in different epochs"
   ]
  },
  {
   "cell_type": "code",
   "execution_count": null,
   "metadata": {},
   "outputs": [],
   "source": [
    "# plt.plot(total_loss)"
   ]
  },
  {
   "cell_type": "code",
   "execution_count": null,
   "metadata": {},
   "outputs": [],
   "source": [
    "# save parameters and optimizer\n",
    "torch.save({\n",
    "    'state_dict': model.state_dict(),\n",
    "    'loss': total_loss,\n",
    "    'optimizer' : optimizer.state_dict(),\n",
    "}, 'Task1_multiTask.pth.tar')"
   ]
  },
  {
   "cell_type": "markdown",
   "metadata": {
    "jp-MarkdownHeadingCollapsed": true,
    "tags": []
   },
   "source": [
    "# Reptile Training"
   ]
  },
  {
   "cell_type": "code",
   "execution_count": 7,
   "metadata": {},
   "outputs": [],
   "source": [
    "device = torch.device(\"cuda\" if torch.cuda.is_available() else \"cpu\")\n",
    "model_reptile = MyModel().to(device)\n",
    "model_reptile = model_reptile.double()\n",
    "model_reptile.train()\n",
    "optimizer_reptile = torch.optim.Adam(model_reptile.parameters(), lr=hyperparams['lr'])\n",
    "criterion = nn.MSELoss()"
   ]
  },
  {
   "cell_type": "code",
   "execution_count": 8,
   "metadata": {},
   "outputs": [
    {
     "name": "stderr",
     "output_type": "stream",
     "text": [
      "100%|██████████| 1000/1000 [00:05<00:00, 174.89it/s]\n"
     ]
    },
    {
     "name": "stdout",
     "output_type": "stream",
     "text": [
      "Two Arm Link Dataset Generation Finished!\n"
     ]
    }
   ],
   "source": [
    "train_dataset_reptile = TrainingDataset(n_tasks=hyperparams['n_tasks'], set_seed=0)"
   ]
  },
  {
   "cell_type": "code",
   "execution_count": 9,
   "metadata": {},
   "outputs": [
    {
     "data": {
      "text/plain": [
       "<torch._C.Generator at 0x7fe65428ee70>"
      ]
     },
     "execution_count": 9,
     "metadata": {},
     "output_type": "execute_result"
    }
   ],
   "source": [
    "seed = 0\n",
    "rng = np.random.RandomState(seed)\n",
    "torch.manual_seed(seed)"
   ]
  },
  {
   "cell_type": "code",
   "execution_count": 10,
   "metadata": {},
   "outputs": [],
   "source": [
    "def train_reptile(dataset=train_dataset_reptile, nb_epochs=hyperparams['n_epochs']):\n",
    "    def totorch(x):\n",
    "        return ag.Variable(torch.DoubleTensor(x).to(device))\n",
    "        \n",
    "    def train_on_batch(x, y):\n",
    "        x = totorch(x)\n",
    "        y = totorch(y)\n",
    "        optimizer_reptile.zero_grad()\n",
    "        ypred = model_reptile.forward(x)\n",
    "        loss = criterion(ypred, y)\n",
    "        loss.backward()\n",
    "        optimizer_reptile.step()\n",
    "        return loss\n",
    "\n",
    "    batch_size = hyperparams['batch_size']\n",
    "    meta_step_size = 0.02\n",
    "    n_episode = hyperparams['n_episode']\n",
    "    n_task = hyperparams['n_tasks']\n",
    "    n_timestep = hyperparams['n_timesteps']\n",
    "    history = []\n",
    "    for epoch in range(nb_epochs):\n",
    "        losses = []\n",
    "        for meta_iter in range(n_task):\n",
    "            x_train = dataset.q[meta_iter*n_episode*n_timestep:(meta_iter+1)*n_episode*n_timestep]\n",
    "            y_train = dataset.x[meta_iter*n_episode*n_timestep:(meta_iter+1)*n_episode*n_timestep]\n",
    "\n",
    "            weights_before = deepcopy(model_reptile.state_dict())\n",
    "            inds = rng.permutation(len(x_train))\n",
    "            for start in range(0, len(x_train), batch_size):\n",
    "                mbinds = inds[start:start+batch_size]\n",
    "                losses.append(train_on_batch(x_train[mbinds], y_train[mbinds]))\n",
    "            # Interpolate between current weights and trained weights from this task\n",
    "            # I.e. (weights_before - weights_after) is the meta-gradient\n",
    "            weights_after = model_reptile.state_dict()\n",
    "            outerstepsize = meta_step_size * (1 - meta_iter / n_task) # linear schedule\n",
    "            model_reptile.load_state_dict({name: \n",
    "                weights_before[name] + (weights_after[name] - weights_before[name]) * outerstepsize \n",
    "                for name in weights_before})\n",
    "\n",
    "        loss = sum(losses) / len(losses)\n",
    "        print(f\"Epoch: {epoch}, Loss: {loss.item()}\")\n",
    "        history.append(loss.item())\n",
    "    return history"
   ]
  },
  {
   "cell_type": "code",
   "execution_count": 11,
   "metadata": {
    "collapsed": true,
    "jupyter": {
     "outputs_hidden": true
    },
    "tags": []
   },
   "outputs": [
    {
     "name": "stdout",
     "output_type": "stream",
     "text": [
      "Epoch: 0, Loss: 0.7845256581270913\n",
      "Epoch: 1, Loss: 0.5822564673916465\n",
      "Epoch: 2, Loss: 0.4726917451793204\n",
      "Epoch: 3, Loss: 0.41711226131716816\n",
      "Epoch: 4, Loss: 0.38486938876607285\n",
      "Epoch: 5, Loss: 0.3640564027237242\n",
      "Epoch: 6, Loss: 0.348497459499168\n",
      "Epoch: 7, Loss: 0.33627063155620895\n",
      "Epoch: 8, Loss: 0.32576507810596383\n",
      "Epoch: 9, Loss: 0.31709687629566696\n",
      "Epoch: 10, Loss: 0.3090205492594535\n",
      "Epoch: 11, Loss: 0.30194097110001256\n",
      "Epoch: 12, Loss: 0.29582357585739427\n",
      "Epoch: 13, Loss: 0.2900954158014786\n",
      "Epoch: 14, Loss: 0.2849028316589086\n",
      "Epoch: 15, Loss: 0.28010659766977575\n",
      "Epoch: 16, Loss: 0.27572265218202324\n",
      "Epoch: 17, Loss: 0.27187908040273306\n",
      "Epoch: 18, Loss: 0.267788477910274\n",
      "Epoch: 19, Loss: 0.264464613131871\n",
      "Epoch: 20, Loss: 0.26106344826920247\n",
      "Epoch: 21, Loss: 0.25799031431227487\n",
      "Epoch: 22, Loss: 0.2551453216676167\n",
      "Epoch: 23, Loss: 0.25215530547453174\n",
      "Epoch: 24, Loss: 0.24905643754944815\n",
      "Epoch: 25, Loss: 0.24674231229377444\n",
      "Epoch: 26, Loss: 0.2443834361490857\n",
      "Epoch: 27, Loss: 0.2419928938138206\n",
      "Epoch: 28, Loss: 0.23960098026102952\n",
      "Epoch: 29, Loss: 0.23739457217724533\n",
      "Epoch: 30, Loss: 0.23517015368703145\n",
      "Epoch: 31, Loss: 0.2332309914979431\n",
      "Epoch: 32, Loss: 0.23140663373909343\n",
      "Epoch: 33, Loss: 0.22948165745628218\n",
      "Epoch: 34, Loss: 0.22789138423623562\n",
      "Epoch: 35, Loss: 0.22602504023407935\n",
      "Epoch: 36, Loss: 0.22441749896913657\n",
      "Epoch: 37, Loss: 0.22301022314791014\n",
      "Epoch: 38, Loss: 0.22125670351320245\n",
      "Epoch: 39, Loss: 0.21963517142123767\n",
      "Epoch: 40, Loss: 0.21809795806143878\n",
      "Epoch: 41, Loss: 0.21667458029823797\n",
      "Epoch: 42, Loss: 0.21571888701015599\n",
      "Epoch: 43, Loss: 0.2141434377331295\n",
      "Epoch: 44, Loss: 0.21257024437787925\n",
      "Epoch: 45, Loss: 0.21127764521933942\n",
      "Epoch: 46, Loss: 0.21041915589501153\n",
      "Epoch: 47, Loss: 0.20876094227470487\n",
      "Epoch: 48, Loss: 0.20787147556596547\n",
      "Epoch: 49, Loss: 0.2066649417151382\n",
      "Epoch: 50, Loss: 0.20540808928247967\n",
      "Epoch: 51, Loss: 0.20428618444750854\n",
      "Epoch: 52, Loss: 0.2031749934419206\n",
      "Epoch: 53, Loss: 0.20176591061036345\n",
      "Epoch: 54, Loss: 0.20112459248800912\n",
      "Epoch: 55, Loss: 0.20013421039813958\n",
      "Epoch: 56, Loss: 0.19941671588309595\n",
      "Epoch: 57, Loss: 0.19846325107727208\n",
      "Epoch: 58, Loss: 0.19724555968437005\n",
      "Epoch: 59, Loss: 0.1961027238089742\n",
      "Epoch: 60, Loss: 0.19529059053131556\n",
      "Epoch: 61, Loss: 0.19465714703892706\n",
      "Epoch: 62, Loss: 0.19348387138295572\n",
      "Epoch: 63, Loss: 0.1930678480714757\n",
      "Epoch: 64, Loss: 0.19198482669381334\n",
      "Epoch: 65, Loss: 0.19135449627592546\n",
      "Epoch: 66, Loss: 0.19074992726469414\n",
      "Epoch: 67, Loss: 0.18947691215087592\n",
      "Epoch: 68, Loss: 0.1889169738385276\n",
      "Epoch: 69, Loss: 0.18817937212707878\n",
      "Epoch: 70, Loss: 0.18763132618738712\n",
      "Epoch: 71, Loss: 0.1867581354706276\n",
      "Epoch: 72, Loss: 0.18642585446734025\n",
      "Epoch: 73, Loss: 0.18583475654077156\n",
      "Epoch: 74, Loss: 0.18499998894050676\n",
      "Epoch: 75, Loss: 0.1841442683972773\n",
      "Epoch: 76, Loss: 0.18355084744734995\n",
      "Epoch: 77, Loss: 0.18291483023139218\n",
      "Epoch: 78, Loss: 0.18265212962284594\n",
      "Epoch: 79, Loss: 0.18213737238140756\n",
      "Epoch: 80, Loss: 0.18147577034532464\n",
      "Epoch: 81, Loss: 0.18063407720691055\n",
      "Epoch: 82, Loss: 0.18019820932260783\n",
      "Epoch: 83, Loss: 0.17981523712878478\n",
      "Epoch: 84, Loss: 0.17904198863180737\n",
      "Epoch: 85, Loss: 0.1787387209657545\n",
      "Epoch: 86, Loss: 0.17807321562734596\n",
      "Epoch: 87, Loss: 0.1778514266571719\n",
      "Epoch: 88, Loss: 0.17727803085287738\n",
      "Epoch: 89, Loss: 0.1768405132080865\n",
      "Epoch: 90, Loss: 0.1762121711744365\n",
      "Epoch: 91, Loss: 0.1758002151265879\n",
      "Epoch: 92, Loss: 0.1753274724180981\n",
      "Epoch: 93, Loss: 0.1746612322510168\n",
      "Epoch: 94, Loss: 0.17477820750203008\n",
      "Epoch: 95, Loss: 0.1739551285022498\n",
      "Epoch: 96, Loss: 0.1733936795429579\n",
      "Epoch: 97, Loss: 0.17340400798051686\n",
      "Epoch: 98, Loss: 0.17268238929086768\n",
      "Epoch: 99, Loss: 0.1723438231337468\n"
     ]
    }
   ],
   "source": [
    "loss_reptile = train_reptile()"
   ]
  },
  {
   "cell_type": "code",
   "execution_count": 13,
   "metadata": {},
   "outputs": [],
   "source": [
    "# save parameters and optimizer\n",
    "torch.save({\n",
    "    'state_dict': model_reptile.state_dict(),\n",
    "    'loss': loss_reptile,\n",
    "    'optimizer' : optimizer_reptile.state_dict(),\n",
    "}, 'Task1_reptile.pth.tar')"
   ]
  },
  {
   "cell_type": "code",
   "execution_count": 12,
   "metadata": {},
   "outputs": [
    {
     "data": {
      "text/plain": [
       "[<matplotlib.lines.Line2D at 0x7fe5db2848b0>]"
      ]
     },
     "execution_count": 12,
     "metadata": {},
     "output_type": "execute_result"
    },
    {
     "data": {
      "image/png": "[encoded data removed]",
      "text/plain": [
       "<Figure size 640x480 with 1 Axes>"
      ]
     },
     "metadata": {},
     "output_type": "display_data"
    }
   ],
   "source": [
    "plt.plot(loss_reptile)"
   ]
  },
  {
   "cell_type": "markdown",
   "metadata": {
    "tags": []
   },
   "source": [
    "# Load model"
   ]
  },
  {
   "cell_type": "code",
   "execution_count": 7,
   "metadata": {},
   "outputs": [
    {
     "data": {
      "text/plain": [
       "MyModel(\n",
       "  (lin1): Linear(in_features=2, out_features=512, bias=True)\n",
       "  (lin2): Linear(in_features=512, out_features=512, bias=True)\n",
       "  (lin3): Linear(in_features=512, out_features=2, bias=True)\n",
       "  (relu): ReLU()\n",
       "  (dropout_for_GD): Dropout(p=0.5, inplace=False)\n",
       "  (dropout): DropoutLayer()\n",
       ")"
      ]
     },
     "execution_count": 7,
     "metadata": {},
     "output_type": "execute_result"
    }
   ],
   "source": [
    "device = torch.device(\"cuda\" if torch.cuda.is_available() else \"cpu\")\n",
    "model = MyModel().to(device)\n",
    "checkpoint = torch.load('Task1_multiTask.pth.tar')\n",
    "model.load_state_dict(checkpoint['state_dict'])\n",
    "model.eval()"
   ]
  },
  {
   "cell_type": "code",
   "execution_count": 8,
   "metadata": {
    "tags": []
   },
   "outputs": [
    {
     "data": {
      "text/plain": [
       "[<matplotlib.lines.Line2D at 0x7fad3a2e3d90>]"
      ]
     },
     "execution_count": 8,
     "metadata": {},
     "output_type": "execute_result"
    },
    {
     "data": {
      "image/png": "[encoded data removed]",
      "text/plain": [
       "<Figure size 640x480 with 1 Axes>"
      ]
     },
     "metadata": {},
     "output_type": "display_data"
    }
   ],
   "source": [
    "l = checkpoint['loss']\n",
    "plt.plot(l)"
   ]
  },
  {
   "cell_type": "code",
   "execution_count": null,
   "metadata": {},
   "outputs": [],
   "source": []
  }
 ],
 "metadata": {
  "kernelspec": {
   "display_name": "d2l:Python",
   "language": "python",
   "name": "conda-env-d2l-py"
  },
  "language_info": {
   "codemirror_mode": {
    "name": "ipython",
    "version": 3
   },
   "file_extension": ".py",
   "mimetype": "text/x-python",
   "name": "python",
   "nbconvert_exporter": "python",
   "pygments_lexer": "ipython3",
   "version": "3.9.15"
  },
  "vscode": {
   "interpreter": {
    "hash": "9e9dd1ae481486d48c9db6dc9dc7a9a7f82b64eba274b60c6e858d1cb03bdb70"
   }
  }
 },
 "nbformat": 4,
 "nbformat_minor": 4
}
