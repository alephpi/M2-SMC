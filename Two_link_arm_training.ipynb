{
 "cells": [
  {
   "cell_type": "code",
   "execution_count": 1,
   "metadata": {},
   "outputs": [],
   "source": [
    "import numpy as np\n",
    "import matplotlib.pyplot as plt\n",
    "import random\n",
    "import torch\n",
    "from torch.utils.data import Dataset, DataLoader\n",
    "from torch import nn, autograd as ag\n",
    "from tqdm import tqdm\n",
    "from typing import Union\n",
    "from copy import deepcopy"
   ]
  },
  {
   "cell_type": "code",
   "execution_count": 4,
   "metadata": {},
   "outputs": [],
   "source": [
    "hyperparams = {\n",
    "        'n_tasks': 1000,\n",
    "        'n_episode': 150,\n",
    "        'n_timesteps': 10,\n",
    "        'input_dim': 2,\n",
    "        'hidden_dim': 512,\n",
    "        'output_dim': 2,\n",
    "        'lr': 1e-4,\n",
    "        'batch_size': 128,\n",
    "        'n_epochs': 50,\n",
    "        }"
   ]
  },
  {
   "cell_type": "markdown",
   "metadata": {
    "id": "iiTA-Cwr5Pey"
   },
   "source": [
    "# Data Simulation"
   ]
  },
  {
   "cell_type": "code",
   "execution_count": 5,
   "metadata": {},
   "outputs": [],
   "source": [
    "class TrainingDataset(Dataset):\n",
    "\t# `set_seed=None` means no seed fixed.  \n",
    "\tdef __init__(self, n_tasks=hyperparams['n_tasks'], n_episode=hyperparams['n_episode'], \n",
    "\t\t\t\tn_timesteps=hyperparams['n_timesteps'], set_seed: Union[int, None]=None):\n",
    "\t\tsuper().__init__()\n",
    "\t\tself.q = []\n",
    "\t\tself.x = []\n",
    "\t\tself.z = []\n",
    "\t\t# if set_seed is not None:\n",
    "\t\t# \tnp.random.seed(set_seed)\n",
    "\t\tl_of_tasks = np.random.normal(loc=1, scale=0.3, size=(n_tasks,2))\n",
    "\t\tfor i in tqdm(range(n_tasks)):\n",
    "\t\t\tl = l_of_tasks[i]\n",
    "\t\t\tfor _ in range(n_episode):\n",
    "\t\t\t\tq_, x, z = TrainingDataset.generate_episode(l, n_timesteps)\n",
    "\t\t\t\tself.q.extend(q_)\n",
    "\t\t\t\tself.x.extend(x)\n",
    "\t\t\t\tself.z.extend(z)\n",
    "\t\tself.q = np.stack(self.q, axis=1).reshape(-1,2)\n",
    "\t\tself.x = np.stack(self.x, axis=1).reshape(-1,2)\n",
    "\t\tself.z = np.stack(self.z, axis=1).reshape(-1,2)\n",
    "\t\tassert self.q.shape == self.x.shape\n",
    "\t\tprint(\"Two Arm Link Dataset Generation Finished!\")\n",
    "\t\t\n",
    "\tdef __getitem__(self, index):\n",
    "\t\tq = self.q[index]\n",
    "\t\tx = self.x[index]\n",
    "\t\tz = self.z[index]\n",
    "\t\tsample = {\n",
    "\t\t\t\"angle\": torch.tensor(q),\n",
    "\t\t\t\"true_pos\": torch.tensor(x),\n",
    "\t\t\t\"noisy_pos\": torch.tensor(z),\n",
    "\t\t}\n",
    "\t\treturn sample\n",
    "\n",
    "\tdef __len__(self):\n",
    "\t\treturn len(self.q)\n",
    "\n",
    "\t@staticmethod\n",
    "\tdef generate_episode(l, n_timesteps):\n",
    "\t\tdef x_of_q(q, l):\n",
    "\t\t\t# q: array (2,) containing the two angles\n",
    "\t\t\t# l: array (2,) containing the limb lengths \n",
    "\t\t\tx = l[0] * np.cos(q[0]) + l[1] * np.cos(q[0] + q[1])\n",
    "\t\t\ty = l[0] * np.sin(q[0]) + l[1] * np.sin(q[0] + q[1])\n",
    "\t\t\treturn np.array([x, y])\n",
    "\n",
    "\t\tq_0 = np.random.uniform(low= -np.pi, high= np.pi, size=(2,1))\n",
    "\t\tu = np.random.randn(2, n_timesteps-1)\n",
    "\t\tq = u.cumsum(axis=1) + q_0\n",
    "\t\tq = np.concatenate((q_0, q), axis=1)\n",
    "\t\tx = x_of_q(q, l=l)\n",
    "\t\tz = x + np.random.normal(0, scale=0.001, size=(2, n_timesteps))\n",
    "\t\tassert q.shape == x.shape\n",
    "\t\treturn q, x, z"
   ]
  },
  {
   "cell_type": "code",
   "execution_count": 6,
   "metadata": {},
   "outputs": [],
   "source": [
    "def get_loader(batch_size=hyperparams['batch_size'], n_tasks=hyperparams['n_tasks'], \n",
    "                set_seed: Union[int, None]=None, shuffle: bool=True):\n",
    "    dataset = TrainingDataset(n_tasks=n_tasks, set_seed=set_seed)\n",
    "    data_loader = DataLoader(dataset=dataset,\n",
    "                            batch_size=batch_size,\n",
    "                            shuffle=shuffle,\n",
    "                            pin_memory=True,\n",
    "                            drop_last=True,\n",
    "                            )\n",
    "    return data_loader"
   ]
  },
  {
   "cell_type": "markdown",
   "metadata": {},
   "source": [
    "# Build model"
   ]
  },
  {
   "cell_type": "code",
   "execution_count": 7,
   "metadata": {},
   "outputs": [],
   "source": [
    "class DropoutLayer(nn.Module):\n",
    "    def __init__(self, hidden_dim=hyperparams['hidden_dim']):\n",
    "        super(DropoutLayer, self).__init__()\n",
    "        self.mask = torch.ones(hidden_dim, dtype=torch.float32, requires_grad=False)\n",
    "        self.training = False\n",
    "\n",
    "    def forward(self, x):\n",
    "        return x * self.mask\n",
    "\n",
    "    def update(self, mask: np.ndarray):\n",
    "        assert mask.shape == self.mask.shape, f\"new mask shape should be {self.mask.shape} but giving {mask.shape}\"\n",
    "        self.mask = torch.Tensor(mask)\n",
    "        \n",
    "    def get(self):\n",
    "        return self.mask.numpy()"
   ]
  },
  {
   "cell_type": "code",
   "execution_count": 8,
   "metadata": {},
   "outputs": [],
   "source": [
    "class MyModel(nn.Module):\n",
    "    def __init__(self, input_dim=hyperparams['input_dim'], hidden_dim=hyperparams['hidden_dim'], \n",
    "                output_dim=hyperparams['output_dim']):\n",
    "        super().__init__()\n",
    "        self.lin1 = nn.Linear(in_features=input_dim, out_features=hidden_dim)\n",
    "        self.lin2 = nn.Linear(in_features=hidden_dim, out_features=hidden_dim)\n",
    "        self.lin3 = nn.Linear(in_features=hidden_dim, out_features=output_dim)\n",
    "        self.relu = nn.ReLU()\n",
    "        # dropout for pretraining and finetunning\n",
    "        self.dropout_for_GD = nn.Dropout(p=0.5)\n",
    "        # dropout for smc\n",
    "        self.dropout = DropoutLayer(hidden_dim=hidden_dim)\n",
    "\n",
    "    def forward(self, x):\n",
    "        x = self.lin1(x)\n",
    "        x = self.relu(x)\n",
    "        x = self.lin2(x)\n",
    "        x = self.relu(x)\n",
    "        if self.training:\n",
    "            x = self.dropout_for_GD(x)\n",
    "        else:\n",
    "            x = self.dropout(x)\n",
    "        x = self.lin3(x)\n",
    "        return x\n",
    "        \n",
    "    def update_dropout_mask(self, mask: np.ndarray):\n",
    "        self.dropout.update(mask)\n",
    "\n",
    "    def get_dropout_mask(self):\n",
    "        return self.dropout.get()"
   ]
  },
  {
   "cell_type": "markdown",
   "metadata": {
    "jp-MarkdownHeadingCollapsed": true,
    "tags": []
   },
   "source": [
    "# Multi-Task Training"
   ]
  },
  {
   "cell_type": "code",
   "execution_count": 7,
   "metadata": {},
   "outputs": [
    {
     "name": "stderr",
     "output_type": "stream",
     "text": [
      "100%|██████████| 1000/1000 [00:11<00:00, 88.44it/s]\n"
     ]
    },
    {
     "name": "stdout",
     "output_type": "stream",
     "text": [
      "Two Arm Link Dataset Generation Finished!\n"
     ]
    }
   ],
   "source": [
    "train_loader = get_loader(n_tasks=1000, set_seed=0, shuffle=True)"
   ]
  },
  {
   "cell_type": "code",
   "execution_count": 8,
   "metadata": {},
   "outputs": [],
   "source": [
    "device = torch.device(\"cuda\" if torch.cuda.is_available() else \"cpu\")\n",
    "model = MyModel().to(device)\n",
    "model = model.double()\n",
    "model.train()\n",
    "optimizer = torch.optim.Adam(model.parameters(), lr=hyperparams['lr'])\n",
    "criterion = nn.MSELoss()"
   ]
  },
  {
   "cell_type": "code",
   "execution_count": 9,
   "metadata": {},
   "outputs": [],
   "source": [
    "def train_multi_task(data_loader=train_loader, nb_epochs=hyperparams['n_epochs']):\n",
    "    total_loss = []\n",
    "    for epoch in range(1, nb_epochs + 1):\n",
    "    \t# store the loss in each batch\n",
    "        losses = []\n",
    "        # use tqdm to better visualize the training process\n",
    "        with tqdm(data_loader, unit=\"batch\") as tepoch: # evaluate every batch\n",
    "            for data in tepoch:\n",
    "                tepoch.set_description(f\"Epoch {epoch}\") # custome the printed message in tqdm\n",
    "                x = data['angle'].to(device)\n",
    "                y = data['true_pos'].to(device)\n",
    "                optimizer.zero_grad()\n",
    "                output = model.forward(x)\n",
    "                loss = criterion(output, y)\n",
    "                loss.backward() # backward propagation\n",
    "                optimizer.step() # update parameters\n",
    "                losses.append(loss.item())\n",
    "                # custome what is printed in tqdm message\n",
    "                tepoch.set_postfix(loss=sum(losses)/len(losses))\n",
    "        total_loss.append(sum(losses)/len(losses))\n",
    "    return total_loss"
   ]
  },
  {
   "cell_type": "code",
   "execution_count": null,
   "metadata": {},
   "outputs": [
    {
     "name": "stderr",
     "output_type": "stream",
     "text": [
      "Epoch 1: 100%|██████████| 11718/11718 [06:51<00:00, 28.45batch/s, loss=0.251]\n",
      "Epoch 2: 100%|██████████| 11718/11718 [06:58<00:00, 27.97batch/s, loss=0.167]\n",
      "Epoch 3: 100%|██████████| 11718/11718 [07:03<00:00, 27.65batch/s, loss=0.154]\n",
      "Epoch 4: 100%|██████████| 11718/11718 [07:31<00:00, 25.93batch/s, loss=0.147]\n",
      "Epoch 5: 100%|██████████| 11718/11718 [06:54<00:00, 28.24batch/s, loss=0.143]\n",
      "Epoch 6: 100%|██████████| 11718/11718 [06:49<00:00, 28.59batch/s, loss=0.14]\n",
      "Epoch 7: 100%|██████████| 11718/11718 [06:15<00:00, 31.23batch/s, loss=0.138]\n",
      "Epoch 8: 100%|██████████| 11718/11718 [06:00<00:00, 32.52batch/s, loss=0.136]\n",
      "Epoch 9: 100%|██████████| 11718/11718 [05:55<00:00, 32.92batch/s, loss=0.135]\n",
      "Epoch 11: 100%|██████████| 11718/11718 [06:14<00:00, 31.27batch/s, loss=0.133]\n",
      "Epoch 12: 100%|██████████| 11718/11718 [06:37<00:00, 29.50batch/s, loss=0.132]\n",
      "Epoch 13: 100%|██████████| 11718/11718 [07:50<00:00, 24.91batch/s, loss=0.132]\n",
      "Epoch 14: 100%|██████████| 11718/11718 [07:34<00:00, 25.79batch/s, loss=0.131]\n",
      "Epoch 15: 100%|██████████| 11718/11718 [07:00<00:00, 27.85batch/s, loss=0.13]\n",
      "Epoch 17: 100%|██████████| 11718/11718 [07:32<00:00, 25.92batch/s, loss=0.129]\n",
      "Epoch 18: 100%|██████████| 11718/11718 [07:18<00:00, 26.71batch/s, loss=0.129]\n",
      "Epoch 19: 100%|██████████| 11718/11718 [06:48<00:00, 28.67batch/s, loss=0.128]\n",
      "Epoch 20: 100%|██████████| 11718/11718 [06:21<00:00, 30.74batch/s, loss=0.128]\n",
      "Epoch 28: 100%|██████████| 11718/11718 [05:30<00:00, 35.40batch/s, loss=0.126]\n",
      "Epoch 29: 100%|██████████| 11718/11718 [05:29<00:00, 35.56batch/s, loss=0.126]\n",
      "Epoch 30: 100%|██████████| 11718/11718 [05:42<00:00, 34.26batch/s, loss=0.126]\n",
      "Epoch 40: 100%|██████████| 11718/11718 [06:15<00:00, 31.21batch/s, loss=0.125]\n",
      "Epoch 41: 100%|██████████| 11718/11718 [06:11<00:00, 31.51batch/s, loss=0.125]\n",
      "Epoch 42: 100%|██████████| 11718/11718 [06:21<00:00, 30.70batch/s, loss=0.125]\n",
      "Epoch 45: 100%|██████████| 11718/11718 [06:15<00:00, 31.19batch/s, loss=0.124]\n",
      "Epoch 50:  97%|█████████▋| 11322/11718 [05:48<00:11, 34.35batch/s, loss=0.124]"
     ]
    }
   ],
   "source": [
    "total_loss = train_multi_task() # return a list of loss in different epochs"
   ]
  },
  {
   "cell_type": "code",
   "execution_count": null,
   "metadata": {},
   "outputs": [],
   "source": [
    "# plt.plot(total_loss)"
   ]
  },
  {
   "cell_type": "code",
   "execution_count": null,
   "metadata": {},
   "outputs": [],
   "source": [
    "# save parameters and optimizer\n",
    "torch.save({\n",
    "    'state_dict': model.state_dict(),\n",
    "    'loss': total_loss,\n",
    "    'optimizer' : optimizer.state_dict(),\n",
    "}, 'Task1_multiTask.pth.tar')"
   ]
  },
  {
   "cell_type": "markdown",
   "metadata": {
    "tags": []
   },
   "source": [
    "# Reptile Training"
   ]
  },
  {
   "cell_type": "code",
   "execution_count": null,
   "metadata": {},
   "outputs": [],
   "source": [
    "device = torch.device(\"cuda\" if torch.cuda.is_available() else \"cpu\")\n",
    "model_reptile = MyModel().to(device)\n",
    "model_reptile = model_reptile.double()\n",
    "model_reptile.train()\n",
    "optimizer_reptile = torch.optim.Adam(model_reptile.parameters(), lr=hyperparams['lr'])\n",
    "criterion = nn.MSELoss()"
   ]
  },
  {
   "cell_type": "code",
   "execution_count": null,
   "metadata": {},
   "outputs": [],
   "source": [
    "train_dataset_reptile =  TrainingDataset(n_tasks=hyperparams['n_tasks'], set_seed=0)"
   ]
  },
  {
   "cell_type": "code",
   "execution_count": null,
   "metadata": {},
   "outputs": [],
   "source": [
    "seed = 0\n",
    "rng = np.random.RandomState(seed)\n",
    "torch.manual_seed(seed)"
   ]
  },
  {
   "cell_type": "code",
   "execution_count": null,
   "metadata": {},
   "outputs": [],
   "source": [
    "def train_reptile(dataset=train_dataset_reptile, nb_epochs=hyperparams['n_epochs']):\n",
    "    def totorch(x):\n",
    "        return ag.Variable(torch.DoubleTensor(x))\n",
    "        \n",
    "    def train_on_batch(x, y):\n",
    "        x = totorch(x)\n",
    "        y = totorch(y)\n",
    "        optimizer_reptile.zero_grad()\n",
    "        ypred = model_reptile.forward(x)\n",
    "        loss = criterion(ypred, y)\n",
    "        loss.backward()\n",
    "        optimizer_reptile.step()\n",
    "        return loss\n",
    "\n",
    "    batch_size = hyperparams['batch_size']\n",
    "    meta_step_size = 0.1\n",
    "    n_episode = hyperparams['n_episode']\n",
    "    n_task = hyperparams['n_tasks']\n",
    "    n_timestep = hyperparams['n_timesteps']\n",
    "    history = []\n",
    "    for epoch in range(nb_epochs):\n",
    "        losses = []\n",
    "        with tqdm(range(n_task)) as t:\n",
    "            for meta_iter in t:\n",
    "                t.set_description(f\"Epoch {epoch}\")\n",
    "                x_train = dataset.q[meta_iter*n_episode*n_timestep:(meta_iter+1)*n_episode*n_timestep]\n",
    "                y_train = dataset.x[meta_iter*n_episode*n_timestep:(meta_iter+1)*n_episode*n_timestep]\n",
    "\n",
    "                weights_before = deepcopy(model_reptile.state_dict())\n",
    "                inds = rng.permutation(len(x_train))\n",
    "                for start in range(0, len(x_train), batch_size):\n",
    "                    mbinds = inds[start:start+batch_size]\n",
    "                    losses.append(train_on_batch(x_train[mbinds], y_train[mbinds]))\n",
    "                # Interpolate between current weights and trained weights from this task\n",
    "                # I.e. (weights_before - weights_after) is the meta-gradient\n",
    "                weights_after = model_reptile.state_dict()\n",
    "                outerstepsize = meta_step_size * (1 - meta_iter / n_task) # linear schedule\n",
    "                model_reptile.load_state_dict({name: \n",
    "                    weights_before[name] + (weights_after[name] - weights_before[name]) * outerstepsize \n",
    "                    for name in weights_before})\n",
    "\n",
    "        loss = sum(losses) / len(losses)\n",
    "        print(f\"Epoch: {epoch}, Loss: {loss.item()}\")\n",
    "        history.append(loss.item())\n",
    "    return history"
   ]
  },
  {
   "cell_type": "code",
   "execution_count": null,
   "metadata": {},
   "outputs": [
    {
     "name": "stderr",
     "output_type": "stream",
     "text": [
      "Epoch 0:  44%|████▍     | 438/1000 [01:26<01:58,  4.72it/s]"
     ]
    }
   ],
   "source": [
    "loss_reptile = train_reptile()"
   ]
  },
  {
   "cell_type": "code",
   "execution_count": null,
   "metadata": {},
   "outputs": [],
   "source": [
    "# save parameters and optimizer\n",
    "torch.save({\n",
    "    'state_dict': model_reptile.state_dict(),\n",
    "    'loss': loss_reptile,\n",
    "    'optimizer' : optimizer_reptile.state_dict(),\n",
    "}, 'Task1_reptile.pth.tar')"
   ]
  },
  {
   "cell_type": "code",
   "execution_count": null,
   "metadata": {},
   "outputs": [],
   "source": [
    "# plt.plot(loss_reptile)"
   ]
  },
  {
   "cell_type": "markdown",
   "metadata": {
    "tags": []
   },
   "source": [
    "# Load model"
   ]
  },
  {
   "cell_type": "code",
   "execution_count": 10,
   "metadata": {},
   "outputs": [
    {
     "data": {
      "text/plain": [
       "MyModel(\n",
       "  (lin1): Linear(in_features=2, out_features=512, bias=True)\n",
       "  (lin2): Linear(in_features=512, out_features=512, bias=True)\n",
       "  (lin3): Linear(in_features=512, out_features=2, bias=True)\n",
       "  (relu): ReLU()\n",
       "  (dropout_for_GD): Dropout(p=0.5, inplace=False)\n",
       "  (dropout): DropoutLayer()\n",
       ")"
      ]
     },
     "execution_count": 10,
     "metadata": {},
     "output_type": "execute_result"
    }
   ],
   "source": [
    "device = torch.device(\"cuda\" if torch.cuda.is_available() else \"cpu\")\n",
    "model = MyModel().to(device)\n",
    "checkpoint = torch.load('Task1_multiTask.pth.tar')\n",
    "model.load_state_dict(checkpoint['state_dict'])\n",
    "model.eval()"
   ]
  },
  {
   "cell_type": "code",
   "execution_count": 11,
   "metadata": {
    "collapsed": true,
    "jupyter": {
     "outputs_hidden": true
    },
    "tags": []
   },
   "outputs": [
    {
     "data": {
      "text/plain": [
       "[<matplotlib.lines.Line2D at 0x7f5f3cb9bfa0>]"
      ]
     },
     "execution_count": 11,
     "metadata": {},
     "output_type": "execute_result"
    },
    {
     "data": {
      "image/png": "[encoded data removed]",
      "text/plain": [
       "<Figure size 640x480 with 1 Axes>"
      ]
     },
     "metadata": {},
     "output_type": "display_data"
    }
   ],
   "source": [
    "l = checkpoint['loss']\n",
    "plt.plot(l)"
   ]
  },
  {
   "cell_type": "code",
   "execution_count": null,
   "metadata": {},
   "outputs": [],
   "source": []
  }
 ],
 "metadata": {
  "kernelspec": {
   "display_name": "d2l:Python",
   "language": "python",
   "name": "conda-env-d2l-py"
  },
  "language_info": {
   "codemirror_mode": {
    "name": "ipython",
    "version": 3
   },
   "file_extension": ".py",
   "mimetype": "text/x-python",
   "name": "python",
   "nbconvert_exporter": "python",
   "pygments_lexer": "ipython3",
   "version": "3.9.15"
  },
  "vscode": {
   "interpreter": {
    "hash": "9e9dd1ae481486d48c9db6dc9dc7a9a7f82b64eba274b60c6e858d1cb03bdb70"
   }
  }
 },
 "nbformat": 4,
 "nbformat_minor": 4
}
